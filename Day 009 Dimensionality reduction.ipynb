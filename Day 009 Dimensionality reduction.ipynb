{
 "cells": [
  {
   "cell_type": "markdown",
   "metadata": {},
   "source": [
    "# Compressing data with Dimensionality Reduction\n",
    "\n",
    "In this notebook following things has been covered\n",
    "\n",
    "* **Principal Component Analysis (PCA)**: For unsupervised data compression\n",
    "* **Linear Discriminant Analysis (LDA)**: As a supervised dimensionality reductionfor maximizing the class separability\n",
    "* **Kernel Principal Component Analysis**: For non linear discriminant analysis"
   ]
  },
  {
   "cell_type": "markdown",
   "metadata": {},
   "source": [
    "## Unsupervised dimensionality reduction via Principal Component Ananlysis\n",
    "\n",
    "**Feature Extraction:** It is an approach of data compression with the goal of maintaining the most relevant information."
   ]
  }
 ],
 "metadata": {
  "kernelspec": {
   "display_name": "Python 3",
   "language": "python",
   "name": "python3"
  },
  "language_info": {
   "codemirror_mode": {
    "name": "ipython",
    "version": 3
   },
   "file_extension": ".py",
   "mimetype": "text/x-python",
   "name": "python",
   "nbconvert_exporter": "python",
   "pygments_lexer": "ipython3",
   "version": "3.6.6"
  }
 },
 "nbformat": 4,
 "nbformat_minor": 2
}
