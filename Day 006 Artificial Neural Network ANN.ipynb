{
 "cells": [
  {
   "cell_type": "markdown",
   "metadata": {
    "toc": true
   },
   "source": [
    "<h1>Table of Contents<span class=\"tocSkip\"></span></h1>\n",
    "<div class=\"toc\"><ul class=\"toc-item\"><li><span><a href=\"#Artificial-Neural-Network-(ANN)\" data-toc-modified-id=\"Artificial-Neural-Network-(ANN)-1\">Artificial Neural Network (ANN)</a></span><ul class=\"toc-item\"><li><ul class=\"toc-item\"><li><span><a href=\"#Question\" data-toc-modified-id=\"Question-1.0.1\">Question</a></span></li></ul></li><li><span><a href=\"#Data-Preprocessing\" data-toc-modified-id=\"Data-Preprocessing-1.1\">Data Preprocessing</a></span></li><li><span><a href=\"#Fixing-Categorical-Data\" data-toc-modified-id=\"Fixing-Categorical-Data-1.2\">Fixing Categorical Data</a></span></li><li><span><a href=\"#Splitting-into-training-and-testing-dataset.\" data-toc-modified-id=\"Splitting-into-training-and-testing-dataset.-1.3\">Splitting into training and testing dataset.</a></span></li><li><span><a href=\"#Feature-Scaling\" data-toc-modified-id=\"Feature-Scaling-1.4\">Feature Scaling</a></span></li><li><span><a href=\"#Make-the-ANN\" data-toc-modified-id=\"Make-the-ANN-1.5\">Make the ANN</a></span></li><li><span><a href=\"#Importing-keras-libraries-and-packages\" data-toc-modified-id=\"Importing-keras-libraries-and-packages-1.6\">Importing keras libraries and packages</a></span></li><li><span><a href=\"#Initialising-the-ANN\" data-toc-modified-id=\"Initialising-the-ANN-1.7\">Initialising the ANN</a></span></li><li><span><a href=\"#Adding-the-input-layer-and-first-hidden-layer\" data-toc-modified-id=\"Adding-the-input-layer-and-first-hidden-layer-1.8\">Adding the input layer and first hidden layer</a></span></li><li><span><a href=\"#Output-layer\" data-toc-modified-id=\"Output-layer-1.9\">Output layer</a></span></li><li><span><a href=\"#Compile-the-ANN-code\" data-toc-modified-id=\"Compile-the-ANN-code-1.10\">Compile the ANN code</a></span></li><li><span><a href=\"#Fitting-the-ANN\" data-toc-modified-id=\"Fitting-the-ANN-1.11\">Fitting the ANN</a></span></li></ul></li><li><span><a href=\"#Prediction--and-evaluation-of-model\" data-toc-modified-id=\"Prediction--and-evaluation-of-model-2\">Prediction  and evaluation of model</a></span><ul class=\"toc-item\"><li><ul class=\"toc-item\"><li><span><a href=\"#Predicting-the-test-set-results\" data-toc-modified-id=\"Predicting-the-test-set-results-2.0.1\">Predicting the test set results</a></span></li><li><span><a href=\"#Confusion-Matrix\" data-toc-modified-id=\"Confusion-Matrix-2.0.2\">Confusion Matrix</a></span></li></ul></li></ul></li></ul></div>"
   ]
  },
  {
   "cell_type": "markdown",
   "metadata": {},
   "source": [
    "# Artificial Neural Network (ANN)\n",
    "\n"
   ]
  },
  {
   "cell_type": "markdown",
   "metadata": {},
   "source": [
    "### Question\n",
    "> A bank company sees customers leaving at an unusually higher rate. They want to know what the problem is, and they assess the problem.\n",
    "\n",
    ">> They collected data for 10000 customers and observed them for 6 months. After the period few of them left the bank service and few stayed\n",
    "\n",
    "**Make a model giving the bank details as which are the customers who have high chance of leaving?**\n",
    "> A classification problem"
   ]
  },
  {
   "cell_type": "markdown",
   "metadata": {},
   "source": [
    "## Data Preprocessing"
   ]
  },
  {
   "cell_type": "code",
   "execution_count": 36,
   "metadata": {
    "ExecuteTime": {
     "end_time": "2018-04-24T21:54:49.096577Z",
     "start_time": "2018-04-24T21:54:49.089125Z"
    }
   },
   "outputs": [],
   "source": [
    "# Importing the libraries\n",
    "\n",
    "import numpy as np\n",
    "import pandas as pd\n",
    "import matplotlib.pyplot as plt\n",
    "\n",
    "from sklearn.cross_validation import train_test_split #for splitting the dataset\n",
    "\n",
    "from sklearn.preprocessing import StandardScaler, OneHotEncoder, LabelEncoder #for feature scaling and categorical data\n",
    "\n",
    "from sklearn.metrics import confusion_matrix, accuracy_score\n"
   ]
  },
  {
   "cell_type": "code",
   "execution_count": 2,
   "metadata": {
    "ExecuteTime": {
     "end_time": "2018-04-24T19:18:09.955771Z",
     "start_time": "2018-04-24T19:18:09.902373Z"
    }
   },
   "outputs": [],
   "source": [
    "# import the dataset\n",
    "\n",
    "dataset = pd.read_csv(\"/Users/ankitsharma/Documents/Documents/Stuff/Machine Learning/Udemy Course/Part 8 - Deep Learning/Artificial Neural Networks (ANN)/Churn_Modelling.csv\")"
   ]
  },
  {
   "cell_type": "code",
   "execution_count": 3,
   "metadata": {
    "ExecuteTime": {
     "end_time": "2018-04-24T19:18:42.846671Z",
     "start_time": "2018-04-24T19:18:42.815069Z"
    }
   },
   "outputs": [
    {
     "data": {
      "text/html": [
       "<div>\n",
       "<style scoped>\n",
       "    .dataframe tbody tr th:only-of-type {\n",
       "        vertical-align: middle;\n",
       "    }\n",
       "\n",
       "    .dataframe tbody tr th {\n",
       "        vertical-align: top;\n",
       "    }\n",
       "\n",
       "    .dataframe thead th {\n",
       "        text-align: right;\n",
       "    }\n",
       "</style>\n",
       "<table border=\"1\" class=\"dataframe\">\n",
       "  <thead>\n",
       "    <tr style=\"text-align: right;\">\n",
       "      <th></th>\n",
       "      <th>RowNumber</th>\n",
       "      <th>CustomerId</th>\n",
       "      <th>Surname</th>\n",
       "      <th>CreditScore</th>\n",
       "      <th>Geography</th>\n",
       "      <th>Gender</th>\n",
       "      <th>Age</th>\n",
       "      <th>Tenure</th>\n",
       "      <th>Balance</th>\n",
       "      <th>NumOfProducts</th>\n",
       "      <th>HasCrCard</th>\n",
       "      <th>IsActiveMember</th>\n",
       "      <th>EstimatedSalary</th>\n",
       "      <th>Exited</th>\n",
       "    </tr>\n",
       "  </thead>\n",
       "  <tbody>\n",
       "    <tr>\n",
       "      <th>0</th>\n",
       "      <td>1</td>\n",
       "      <td>15634602</td>\n",
       "      <td>Hargrave</td>\n",
       "      <td>619</td>\n",
       "      <td>France</td>\n",
       "      <td>Female</td>\n",
       "      <td>42</td>\n",
       "      <td>2</td>\n",
       "      <td>0.00</td>\n",
       "      <td>1</td>\n",
       "      <td>1</td>\n",
       "      <td>1</td>\n",
       "      <td>101348.88</td>\n",
       "      <td>1</td>\n",
       "    </tr>\n",
       "    <tr>\n",
       "      <th>1</th>\n",
       "      <td>2</td>\n",
       "      <td>15647311</td>\n",
       "      <td>Hill</td>\n",
       "      <td>608</td>\n",
       "      <td>Spain</td>\n",
       "      <td>Female</td>\n",
       "      <td>41</td>\n",
       "      <td>1</td>\n",
       "      <td>83807.86</td>\n",
       "      <td>1</td>\n",
       "      <td>0</td>\n",
       "      <td>1</td>\n",
       "      <td>112542.58</td>\n",
       "      <td>0</td>\n",
       "    </tr>\n",
       "    <tr>\n",
       "      <th>2</th>\n",
       "      <td>3</td>\n",
       "      <td>15619304</td>\n",
       "      <td>Onio</td>\n",
       "      <td>502</td>\n",
       "      <td>France</td>\n",
       "      <td>Female</td>\n",
       "      <td>42</td>\n",
       "      <td>8</td>\n",
       "      <td>159660.80</td>\n",
       "      <td>3</td>\n",
       "      <td>1</td>\n",
       "      <td>0</td>\n",
       "      <td>113931.57</td>\n",
       "      <td>1</td>\n",
       "    </tr>\n",
       "    <tr>\n",
       "      <th>3</th>\n",
       "      <td>4</td>\n",
       "      <td>15701354</td>\n",
       "      <td>Boni</td>\n",
       "      <td>699</td>\n",
       "      <td>France</td>\n",
       "      <td>Female</td>\n",
       "      <td>39</td>\n",
       "      <td>1</td>\n",
       "      <td>0.00</td>\n",
       "      <td>2</td>\n",
       "      <td>0</td>\n",
       "      <td>0</td>\n",
       "      <td>93826.63</td>\n",
       "      <td>0</td>\n",
       "    </tr>\n",
       "    <tr>\n",
       "      <th>4</th>\n",
       "      <td>5</td>\n",
       "      <td>15737888</td>\n",
       "      <td>Mitchell</td>\n",
       "      <td>850</td>\n",
       "      <td>Spain</td>\n",
       "      <td>Female</td>\n",
       "      <td>43</td>\n",
       "      <td>2</td>\n",
       "      <td>125510.82</td>\n",
       "      <td>1</td>\n",
       "      <td>1</td>\n",
       "      <td>1</td>\n",
       "      <td>79084.10</td>\n",
       "      <td>0</td>\n",
       "    </tr>\n",
       "  </tbody>\n",
       "</table>\n",
       "</div>"
      ],
      "text/plain": [
       "   RowNumber  CustomerId   Surname  CreditScore Geography  Gender  Age  \\\n",
       "0          1    15634602  Hargrave          619    France  Female   42   \n",
       "1          2    15647311      Hill          608     Spain  Female   41   \n",
       "2          3    15619304      Onio          502    France  Female   42   \n",
       "3          4    15701354      Boni          699    France  Female   39   \n",
       "4          5    15737888  Mitchell          850     Spain  Female   43   \n",
       "\n",
       "   Tenure    Balance  NumOfProducts  HasCrCard  IsActiveMember  \\\n",
       "0       2       0.00              1          1               1   \n",
       "1       1   83807.86              1          0               1   \n",
       "2       8  159660.80              3          1               0   \n",
       "3       1       0.00              2          0               0   \n",
       "4       2  125510.82              1          1               1   \n",
       "\n",
       "   EstimatedSalary  Exited  \n",
       "0        101348.88       1  \n",
       "1        112542.58       0  \n",
       "2        113931.57       1  \n",
       "3         93826.63       0  \n",
       "4         79084.10       0  "
      ]
     },
     "execution_count": 3,
     "metadata": {},
     "output_type": "execute_result"
    }
   ],
   "source": [
    "dataset.head()"
   ]
  },
  {
   "cell_type": "code",
   "execution_count": 4,
   "metadata": {
    "ExecuteTime": {
     "end_time": "2018-04-24T19:24:19.122145Z",
     "start_time": "2018-04-24T19:24:19.110800Z"
    }
   },
   "outputs": [],
   "source": [
    "# feature matrix\n",
    "\n",
    "# Independent variable which we want to include\n",
    "\n",
    "X = dataset.iloc[:, 3:13].values #index from 3 to 12\n",
    "\n",
    "#dependent variable\n",
    "\n",
    "y = dataset.iloc[:, 13].values"
   ]
  },
  {
   "cell_type": "code",
   "execution_count": 7,
   "metadata": {
    "ExecuteTime": {
     "end_time": "2018-04-24T19:24:41.780690Z",
     "start_time": "2018-04-24T19:24:41.774399Z"
    }
   },
   "outputs": [
    {
     "data": {
      "text/plain": [
       "array([1, 0, 1, ..., 1, 1, 0])"
      ]
     },
     "execution_count": 7,
     "metadata": {},
     "output_type": "execute_result"
    }
   ],
   "source": [
    "y"
   ]
  },
  {
   "cell_type": "markdown",
   "metadata": {},
   "source": [
    "## Fixing Categorical Data"
   ]
  },
  {
   "cell_type": "code",
   "execution_count": 10,
   "metadata": {
    "ExecuteTime": {
     "end_time": "2018-04-24T19:36:42.419278Z",
     "start_time": "2018-04-24T19:36:42.397922Z"
    }
   },
   "outputs": [],
   "source": [
    "#Encoding the categorical data for Independent variables\n",
    "\n",
    "# From the dataset X, we can see that Country and Gender are in categorical form with 3 and 2 levels respectively.\n",
    "\n",
    "#two labelencoders to be created\n",
    "#For Country\n",
    "labelencoder_X_1 = LabelEncoder()\n",
    "X[:, 1] = labelencoder_X_1.fit_transform(X[:, 1])\n",
    "\n",
    "#For Gender\n",
    "labelencoder_X_2 = LabelEncoder()\n",
    "X[:, 2] = labelencoder_X_2.fit_transform(X[:, 2])"
   ]
  },
  {
   "cell_type": "code",
   "execution_count": 11,
   "metadata": {
    "ExecuteTime": {
     "end_time": "2018-04-24T19:36:50.868512Z",
     "start_time": "2018-04-24T19:36:50.861603Z"
    }
   },
   "outputs": [
    {
     "data": {
      "text/plain": [
       "array([[619, 0, 0, ..., 1, 1, 101348.88],\n",
       "       [608, 2, 0, ..., 0, 1, 112542.58],\n",
       "       [502, 0, 0, ..., 1, 0, 113931.57],\n",
       "       ..., \n",
       "       [709, 0, 0, ..., 0, 1, 42085.58],\n",
       "       [772, 1, 1, ..., 1, 0, 92888.52],\n",
       "       [792, 0, 0, ..., 1, 0, 38190.78]], dtype=object)"
      ]
     },
     "execution_count": 11,
     "metadata": {},
     "output_type": "execute_result"
    }
   ],
   "source": [
    "X #female = 0 male = 1"
   ]
  },
  {
   "cell_type": "markdown",
   "metadata": {},
   "source": [
    "* Since, our categorical variable for `country` is not ordinal i.e. France Germany and Spain are not higher than each other. So, we need to create dummy variables."
   ]
  },
  {
   "cell_type": "code",
   "execution_count": 12,
   "metadata": {
    "ExecuteTime": {
     "end_time": "2018-04-24T19:43:04.360438Z",
     "start_time": "2018-04-24T19:43:04.331333Z"
    }
   },
   "outputs": [],
   "source": [
    "#create the dummy variables\n",
    "\n",
    "onehotencoder = OneHotEncoder(categorical_features = [1])\n",
    "X = onehotencoder.fit_transform(X).toarray()"
   ]
  },
  {
   "cell_type": "code",
   "execution_count": 13,
   "metadata": {
    "ExecuteTime": {
     "end_time": "2018-04-24T19:43:12.239215Z",
     "start_time": "2018-04-24T19:43:12.230768Z"
    }
   },
   "outputs": [
    {
     "data": {
      "text/plain": [
       "array([[  1.00000000e+00,   0.00000000e+00,   0.00000000e+00, ...,\n",
       "          1.00000000e+00,   1.00000000e+00,   1.01348880e+05],\n",
       "       [  0.00000000e+00,   0.00000000e+00,   1.00000000e+00, ...,\n",
       "          0.00000000e+00,   1.00000000e+00,   1.12542580e+05],\n",
       "       [  1.00000000e+00,   0.00000000e+00,   0.00000000e+00, ...,\n",
       "          1.00000000e+00,   0.00000000e+00,   1.13931570e+05],\n",
       "       ..., \n",
       "       [  1.00000000e+00,   0.00000000e+00,   0.00000000e+00, ...,\n",
       "          0.00000000e+00,   1.00000000e+00,   4.20855800e+04],\n",
       "       [  0.00000000e+00,   1.00000000e+00,   0.00000000e+00, ...,\n",
       "          1.00000000e+00,   0.00000000e+00,   9.28885200e+04],\n",
       "       [  1.00000000e+00,   0.00000000e+00,   0.00000000e+00, ...,\n",
       "          1.00000000e+00,   0.00000000e+00,   3.81907800e+04]])"
      ]
     },
     "execution_count": 13,
     "metadata": {},
     "output_type": "execute_result"
    }
   ],
   "source": [
    "X"
   ]
  },
  {
   "cell_type": "markdown",
   "metadata": {},
   "source": [
    "* **To change from scientific to floating point view of data**"
   ]
  },
  {
   "cell_type": "code",
   "execution_count": 16,
   "metadata": {
    "ExecuteTime": {
     "end_time": "2018-04-24T19:45:43.324599Z",
     "start_time": "2018-04-24T19:45:43.319517Z"
    }
   },
   "outputs": [],
   "source": [
    "np.set_printoptions(formatter={'float_kind':'{:0.0f}'.format})"
   ]
  },
  {
   "cell_type": "code",
   "execution_count": 17,
   "metadata": {
    "ExecuteTime": {
     "end_time": "2018-04-24T19:45:44.307648Z",
     "start_time": "2018-04-24T19:45:44.300989Z"
    }
   },
   "outputs": [
    {
     "data": {
      "text/plain": [
       "array([[1, 0, 0, ..., 1, 1, 101349],\n",
       "       [0, 0, 1, ..., 0, 1, 112543],\n",
       "       [1, 0, 0, ..., 1, 0, 113932],\n",
       "       ..., \n",
       "       [1, 0, 0, ..., 0, 1, 42086],\n",
       "       [0, 1, 0, ..., 1, 0, 92889],\n",
       "       [1, 0, 0, ..., 1, 0, 38191]])"
      ]
     },
     "execution_count": 17,
     "metadata": {},
     "output_type": "execute_result"
    }
   ],
   "source": [
    "X"
   ]
  },
  {
   "cell_type": "code",
   "execution_count": 18,
   "metadata": {
    "ExecuteTime": {
     "end_time": "2018-04-24T19:46:54.121145Z",
     "start_time": "2018-04-24T19:46:54.118010Z"
    }
   },
   "outputs": [],
   "source": [
    "# removing 1 dummy variable to avoid dummy variable trap\n",
    " \n",
    "X = X[:, 1:] #basically removing the 0th index"
   ]
  },
  {
   "cell_type": "code",
   "execution_count": 19,
   "metadata": {
    "ExecuteTime": {
     "end_time": "2018-04-24T19:46:56.851787Z",
     "start_time": "2018-04-24T19:46:56.845781Z"
    }
   },
   "outputs": [
    {
     "data": {
      "text/plain": [
       "array([[0, 0, 619, ..., 1, 1, 101349],\n",
       "       [0, 1, 608, ..., 0, 1, 112543],\n",
       "       [0, 0, 502, ..., 1, 0, 113932],\n",
       "       ..., \n",
       "       [0, 0, 709, ..., 0, 1, 42086],\n",
       "       [1, 0, 772, ..., 1, 0, 92889],\n",
       "       [0, 0, 792, ..., 1, 0, 38191]])"
      ]
     },
     "execution_count": 19,
     "metadata": {},
     "output_type": "execute_result"
    }
   ],
   "source": [
    "X\n"
   ]
  },
  {
   "cell_type": "markdown",
   "metadata": {},
   "source": [
    "## Splitting into training and testing dataset.\n",
    "\n",
    "8000 for training and 2000 for testing."
   ]
  },
  {
   "cell_type": "code",
   "execution_count": 20,
   "metadata": {
    "ExecuteTime": {
     "end_time": "2018-04-24T19:49:04.764657Z",
     "start_time": "2018-04-24T19:49:04.754826Z"
    }
   },
   "outputs": [],
   "source": [
    "X_train, X_test, y_train, y_test = train_test_split(X, y, test_size = 0.2, random_state = 0)"
   ]
  },
  {
   "cell_type": "markdown",
   "metadata": {},
   "source": [
    "## Feature Scaling"
   ]
  },
  {
   "cell_type": "code",
   "execution_count": 22,
   "metadata": {
    "ExecuteTime": {
     "end_time": "2018-04-24T19:51:49.523723Z",
     "start_time": "2018-04-24T19:51:49.516037Z"
    }
   },
   "outputs": [],
   "source": [
    "sc = StandardScaler()\n",
    "X_train = sc.fit_transform(X_train)\n",
    "X_test = sc.transform(X_test)"
   ]
  },
  {
   "cell_type": "code",
   "execution_count": 23,
   "metadata": {
    "ExecuteTime": {
     "end_time": "2018-04-24T19:52:11.467886Z",
     "start_time": "2018-04-24T19:52:11.462511Z"
    }
   },
   "outputs": [
    {
     "data": {
      "text/plain": [
       "array([[-1, 2, 0, ..., 1, -1, 1],\n",
       "       [2, -1, -2, ..., 1, 1, -1],\n",
       "       [-1, -1, -1, ..., 1, -1, 1],\n",
       "       ..., \n",
       "       [-1, -1, 1, ..., 1, -1, 1],\n",
       "       [-1, 2, -1, ..., 1, 1, 1],\n",
       "       [2, -1, -0, ..., 1, -1, 0]])"
      ]
     },
     "execution_count": 23,
     "metadata": {},
     "output_type": "execute_result"
    }
   ],
   "source": [
    "X_train"
   ]
  },
  {
   "cell_type": "code",
   "execution_count": 24,
   "metadata": {
    "ExecuteTime": {
     "end_time": "2018-04-24T19:52:24.662897Z",
     "start_time": "2018-04-24T19:52:24.656769Z"
    }
   },
   "outputs": [
    {
     "data": {
      "text/plain": [
       "array([[2, -1, -1, ..., 1, 1, 2],\n",
       "       [-1, -1, -1, ..., 1, -1, 0],\n",
       "       [-1, 2, 1, ..., 1, 1, -0],\n",
       "       ..., \n",
       "       [-1, 2, -1, ..., 1, -1, 1],\n",
       "       [2, -1, -0, ..., 1, 1, -2],\n",
       "       [2, -1, -1, ..., 1, -1, 2]])"
      ]
     },
     "execution_count": 24,
     "metadata": {},
     "output_type": "execute_result"
    }
   ],
   "source": [
    "X_test"
   ]
  },
  {
   "cell_type": "markdown",
   "metadata": {},
   "source": [
    "## Make the ANN"
   ]
  },
  {
   "cell_type": "markdown",
   "metadata": {},
   "source": [
    "## Importing keras libraries and packages\n"
   ]
  },
  {
   "cell_type": "code",
   "execution_count": 25,
   "metadata": {
    "ExecuteTime": {
     "end_time": "2018-04-24T21:08:25.468709Z",
     "start_time": "2018-04-24T21:08:23.952264Z"
    }
   },
   "outputs": [
    {
     "name": "stderr",
     "output_type": "stream",
     "text": [
      "Using TensorFlow backend.\n"
     ]
    }
   ],
   "source": [
    "import keras"
   ]
  },
  {
   "cell_type": "code",
   "execution_count": 26,
   "metadata": {
    "ExecuteTime": {
     "end_time": "2018-04-24T21:09:55.551239Z",
     "start_time": "2018-04-24T21:09:55.547074Z"
    }
   },
   "outputs": [],
   "source": [
    "# import the modules\n",
    "\n",
    "from keras.models import Sequential\n",
    "\n",
    "from keras.layers import Dense"
   ]
  },
  {
   "cell_type": "markdown",
   "metadata": {},
   "source": [
    "## Initialising the ANN"
   ]
  },
  {
   "cell_type": "code",
   "execution_count": 28,
   "metadata": {
    "ExecuteTime": {
     "end_time": "2018-04-24T21:13:04.416935Z",
     "start_time": "2018-04-24T21:13:04.413537Z"
    }
   },
   "outputs": [],
   "source": [
    "# neural network which will act as a classifier\n",
    "classifier = Sequential()"
   ]
  },
  {
   "cell_type": "markdown",
   "metadata": {},
   "source": [
    "## Adding the input layer and first hidden layer"
   ]
  },
  {
   "cell_type": "code",
   "execution_count": 30,
   "metadata": {
    "ExecuteTime": {
     "end_time": "2018-04-24T21:37:02.922113Z",
     "start_time": "2018-04-24T21:37:02.860775Z"
    }
   },
   "outputs": [
    {
     "name": "stderr",
     "output_type": "stream",
     "text": [
      "/usr/local/Cellar/python3/3.6.4_2/Frameworks/Python.framework/Versions/3.6/lib/python3.6/site-packages/ipykernel_launcher.py:1: UserWarning: Update your `Dense` call to the Keras 2 API: `Dense(activation=\"relu\", input_dim=11, units=6, kernel_initializer=\"uniform\")`\n",
      "  \"\"\"Entry point for launching an IPython kernel.\n"
     ]
    }
   ],
   "source": [
    "classifier.add(Dense(output_dim = 6, init = \"uniform\", activation = \"relu\", input_dim = 11))\n",
    "\n",
    "#relu (rectifier function) activation function for hidden layer\n",
    "#sigmoid activation function for output layer\n",
    "#11 independent variables\n",
    "# 1 ouput variable"
   ]
  },
  {
   "cell_type": "code",
   "execution_count": 31,
   "metadata": {
    "ExecuteTime": {
     "end_time": "2018-04-24T21:39:02.705232Z",
     "start_time": "2018-04-24T21:39:02.685646Z"
    }
   },
   "outputs": [
    {
     "name": "stderr",
     "output_type": "stream",
     "text": [
      "/usr/local/Cellar/python3/3.6.4_2/Frameworks/Python.framework/Versions/3.6/lib/python3.6/site-packages/ipykernel_launcher.py:3: UserWarning: Update your `Dense` call to the Keras 2 API: `Dense(activation=\"relu\", units=6, kernel_initializer=\"uniform\")`\n",
      "  This is separate from the ipykernel package so we can avoid doing imports until\n"
     ]
    }
   ],
   "source": [
    "#Adding 2nd hidden layer\n",
    "\n",
    "classifier.add(Dense(output_dim = 6, init = \"uniform\", activation = \"relu\"))\n"
   ]
  },
  {
   "cell_type": "markdown",
   "metadata": {},
   "source": [
    "## Output layer"
   ]
  },
  {
   "cell_type": "code",
   "execution_count": 32,
   "metadata": {
    "ExecuteTime": {
     "end_time": "2018-04-24T21:41:48.393930Z",
     "start_time": "2018-04-24T21:41:48.375171Z"
    }
   },
   "outputs": [
    {
     "name": "stderr",
     "output_type": "stream",
     "text": [
      "/usr/local/Cellar/python3/3.6.4_2/Frameworks/Python.framework/Versions/3.6/lib/python3.6/site-packages/ipykernel_launcher.py:1: UserWarning: Update your `Dense` call to the Keras 2 API: `Dense(activation=\"sigmoid\", units=1, kernel_initializer=\"uniform\")`\n",
      "  \"\"\"Entry point for launching an IPython kernel.\n"
     ]
    }
   ],
   "source": [
    "classifier.add(Dense(output_dim = 1, init = \"uniform\", activation = \"sigmoid\"))\n",
    "\n",
    "#output layer has only one output \n",
    "#adding the sigmoid function for the output layer"
   ]
  },
  {
   "cell_type": "markdown",
   "metadata": {},
   "source": [
    "## Compile the ANN code"
   ]
  },
  {
   "cell_type": "code",
   "execution_count": 34,
   "metadata": {
    "ExecuteTime": {
     "end_time": "2018-04-24T21:47:36.776747Z",
     "start_time": "2018-04-24T21:47:36.731295Z"
    }
   },
   "outputs": [],
   "source": [
    "classifier.compile(optimizer = \"adam\", loss = \"binary_crossentropy\", metrics = [\"accuracy\"])"
   ]
  },
  {
   "cell_type": "markdown",
   "metadata": {},
   "source": [
    "## Fitting the ANN"
   ]
  },
  {
   "cell_type": "code",
   "execution_count": 35,
   "metadata": {
    "ExecuteTime": {
     "end_time": "2018-04-24T21:53:22.266835Z",
     "start_time": "2018-04-24T21:50:57.892579Z"
    }
   },
   "outputs": [
    {
     "name": "stderr",
     "output_type": "stream",
     "text": [
      "/usr/local/Cellar/python3/3.6.4_2/Frameworks/Python.framework/Versions/3.6/lib/python3.6/site-packages/keras/models.py:942: UserWarning: The `nb_epoch` argument in `fit` has been renamed `epochs`.\n",
      "  warnings.warn('The `nb_epoch` argument in `fit` '\n"
     ]
    },
    {
     "name": "stdout",
     "output_type": "stream",
     "text": [
      "Epoch 1/100\n",
      "8000/8000 [==============================] - 2s 211us/step - loss: 0.4791 - acc: 0.7956 0s - loss: 0.4872 - acc: 0.795 - ETA: 0s - loss: 0.4851 - acc: 0.\n",
      "Epoch 2/100\n",
      "8000/8000 [==============================] - 2s 195us/step - loss: 0.4260 - acc: 0.7960\n",
      "Epoch 3/100\n",
      "8000/8000 [==============================] - 2s 196us/step - loss: 0.4200 - acc: 0.8062\n",
      "Epoch 4/100\n",
      "8000/8000 [==============================] - 1s 162us/step - loss: 0.4177 - acc: 0.8232\n",
      "Epoch 5/100\n",
      "8000/8000 [==============================] - 1s 152us/step - loss: 0.4153 - acc: 0.8277\n",
      "Epoch 6/100\n",
      "8000/8000 [==============================] - 1s 152us/step - loss: 0.4138 - acc: 0.8304\n",
      "Epoch 7/100\n",
      "8000/8000 [==============================] - 2s 210us/step - loss: 0.4125 - acc: 0.8299\n",
      "Epoch 8/100\n",
      "8000/8000 [==============================] - 2s 190us/step - loss: 0.4115 - acc: 0.8307\n",
      "Epoch 9/100\n",
      "8000/8000 [==============================] - 1s 166us/step - loss: 0.4105 - acc: 0.8326\n",
      "Epoch 10/100\n",
      "8000/8000 [==============================] - 1s 168us/step - loss: 0.4095 - acc: 0.8322 0s - loss: 0.4015 - acc: 0.840 - ETA: 0s - loss: 0.3970 - acc: 0.842 - ETA: 0s - loss: 0.3994 \n",
      "Epoch 11/100\n",
      "8000/8000 [==============================] - 1s 169us/step - loss: 0.4088 - acc: 0.8332\n",
      "Epoch 12/100\n",
      "8000/8000 [==============================] - 2s 229us/step - loss: 0.4081 - acc: 0.8322\n",
      "Epoch 13/100\n",
      "8000/8000 [==============================] - 1s 165us/step - loss: 0.4075 - acc: 0.8332\n",
      "Epoch 14/100\n",
      "8000/8000 [==============================] - 1s 174us/step - loss: 0.4069 - acc: 0.8341 0s - loss: 0.412\n",
      "Epoch 15/100\n",
      "8000/8000 [==============================] - 1s 155us/step - loss: 0.4067 - acc: 0.8349\n",
      "Epoch 16/100\n",
      "8000/8000 [==============================] - 1s 154us/step - loss: 0.4063 - acc: 0.8320\n",
      "Epoch 17/100\n",
      "8000/8000 [==============================] - 1s 156us/step - loss: 0.4062 - acc: 0.8352\n",
      "Epoch 18/100\n",
      "8000/8000 [==============================] - 1s 156us/step - loss: 0.4059 - acc: 0.8334\n",
      "Epoch 19/100\n",
      "8000/8000 [==============================] - 1s 155us/step - loss: 0.4052 - acc: 0.8337\n",
      "Epoch 20/100\n",
      "8000/8000 [==============================] - 1s 175us/step - loss: 0.4052 - acc: 0.8351 0s - loss: 0.\n",
      "Epoch 21/100\n",
      "8000/8000 [==============================] - 1s 163us/step - loss: 0.4048 - acc: 0.8347\n",
      "Epoch 22/100\n",
      "8000/8000 [==============================] - 1s 157us/step - loss: 0.4045 - acc: 0.8355\n",
      "Epoch 23/100\n",
      "8000/8000 [==============================] - 1s 156us/step - loss: 0.4043 - acc: 0.8345\n",
      "Epoch 24/100\n",
      "8000/8000 [==============================] - 1s 157us/step - loss: 0.4043 - acc: 0.8326\n",
      "Epoch 25/100\n",
      "8000/8000 [==============================] - 2s 212us/step - loss: 0.4046 - acc: 0.8336\n",
      "Epoch 26/100\n",
      "8000/8000 [==============================] - 2s 229us/step - loss: 0.4038 - acc: 0.8344\n",
      "Epoch 27/100\n",
      "8000/8000 [==============================] - 2s 242us/step - loss: 0.4038 - acc: 0.8354\n",
      "Epoch 28/100\n",
      "8000/8000 [==============================] - 2s 200us/step - loss: 0.4033 - acc: 0.8336\n",
      "Epoch 29/100\n",
      "8000/8000 [==============================] - 1s 173us/step - loss: 0.4037 - acc: 0.8349\n",
      "Epoch 30/100\n",
      "8000/8000 [==============================] - 1s 179us/step - loss: 0.4033 - acc: 0.8339\n",
      "Epoch 31/100\n",
      "8000/8000 [==============================] - 1s 181us/step - loss: 0.4034 - acc: 0.8357\n",
      "Epoch 32/100\n",
      "8000/8000 [==============================] - 2s 204us/step - loss: 0.4030 - acc: 0.8352\n",
      "Epoch 33/100\n",
      "8000/8000 [==============================] - 1s 180us/step - loss: 0.4024 - acc: 0.8347\n",
      "Epoch 34/100\n",
      "8000/8000 [==============================] - 2s 243us/step - loss: 0.4028 - acc: 0.8357\n",
      "Epoch 35/100\n",
      "8000/8000 [==============================] - 2s 234us/step - loss: 0.4029 - acc: 0.8345\n",
      "Epoch 36/100\n",
      "8000/8000 [==============================] - 2s 214us/step - loss: 0.4024 - acc: 0.8334\n",
      "Epoch 37/100\n",
      "8000/8000 [==============================] - 2s 195us/step - loss: 0.4028 - acc: 0.8339\n",
      "Epoch 38/100\n",
      "8000/8000 [==============================] - 1s 163us/step - loss: 0.4019 - acc: 0.8354\n",
      "Epoch 39/100\n",
      "8000/8000 [==============================] - 1s 171us/step - loss: 0.4026 - acc: 0.8346\n",
      "Epoch 40/100\n",
      "8000/8000 [==============================] - 1s 165us/step - loss: 0.4017 - acc: 0.8362\n",
      "Epoch 41/100\n",
      "8000/8000 [==============================] - 1s 156us/step - loss: 0.4014 - acc: 0.8357\n",
      "Epoch 42/100\n",
      "8000/8000 [==============================] - 1s 157us/step - loss: 0.4019 - acc: 0.8352\n",
      "Epoch 43/100\n",
      "8000/8000 [==============================] - 1s 168us/step - loss: 0.4017 - acc: 0.8342\n",
      "Epoch 44/100\n",
      "8000/8000 [==============================] - 1s 161us/step - loss: 0.4015 - acc: 0.8341\n",
      "Epoch 45/100\n",
      "8000/8000 [==============================] - 2s 218us/step - loss: 0.4016 - acc: 0.8346\n",
      "Epoch 46/100\n",
      "8000/8000 [==============================] - 2s 215us/step - loss: 0.4012 - acc: 0.8355 1s -\n",
      "Epoch 47/100\n",
      "8000/8000 [==============================] - 2s 188us/step - loss: 0.4016 - acc: 0.8345\n",
      "Epoch 48/100\n",
      "8000/8000 [==============================] - 1s 187us/step - loss: 0.4015 - acc: 0.8335\n",
      "Epoch 49/100\n",
      "8000/8000 [==============================] - 1s 177us/step - loss: 0.4013 - acc: 0.8359\n",
      "Epoch 50/100\n",
      "8000/8000 [==============================] - 2s 200us/step - loss: 0.4010 - acc: 0.8344\n",
      "Epoch 51/100\n",
      "8000/8000 [==============================] - 2s 240us/step - loss: 0.4013 - acc: 0.8331 0s - \n",
      "Epoch 52/100\n",
      "8000/8000 [==============================] - 2s 215us/step - loss: 0.4008 - acc: 0.8364\n",
      "Epoch 53/100\n",
      "8000/8000 [==============================] - 2s 190us/step - loss: 0.4002 - acc: 0.8350 1s - lo\n",
      "Epoch 54/100\n",
      "8000/8000 [==============================] - 2s 216us/step - loss: 0.4011 - acc: 0.8355\n",
      "Epoch 55/100\n",
      "8000/8000 [==============================] - 1s 165us/step - loss: 0.4009 - acc: 0.8352\n",
      "Epoch 56/100\n",
      "8000/8000 [==============================] - 1s 155us/step - loss: 0.4007 - acc: 0.8345\n",
      "Epoch 57/100\n",
      "8000/8000 [==============================] - 1s 153us/step - loss: 0.4007 - acc: 0.8354\n",
      "Epoch 58/100\n",
      "8000/8000 [==============================] - 1s 156us/step - loss: 0.4009 - acc: 0.8350\n",
      "Epoch 59/100\n",
      "8000/8000 [==============================] - 1s 154us/step - loss: 0.4011 - acc: 0.8361 0s - loss: 0.3965 \n",
      "Epoch 60/100\n",
      "8000/8000 [==============================] - 1s 154us/step - loss: 0.4011 - acc: 0.8355\n",
      "Epoch 61/100\n",
      "8000/8000 [==============================] - 1s 169us/step - loss: 0.4005 - acc: 0.8347 0s - loss: 0.3989 - a\n",
      "Epoch 62/100\n",
      "8000/8000 [==============================] - 1s 171us/step - loss: 0.4007 - acc: 0.8355\n",
      "Epoch 63/100\n",
      "8000/8000 [==============================] - 1s 156us/step - loss: 0.4006 - acc: 0.8346\n",
      "Epoch 64/100\n",
      "8000/8000 [==============================] - 1s 162us/step - loss: 0.4003 - acc: 0.8337\n",
      "Epoch 65/100\n",
      "8000/8000 [==============================] - 1s 156us/step - loss: 0.4008 - acc: 0.8327\n",
      "Epoch 66/100\n",
      "8000/8000 [==============================] - 2s 201us/step - loss: 0.4005 - acc: 0.8350 0s - loss: 0.4037 - \n",
      "Epoch 67/100\n",
      "8000/8000 [==============================] - 2s 245us/step - loss: 0.4009 - acc: 0.8347\n",
      "Epoch 68/100\n",
      "8000/8000 [==============================] - 2s 249us/step - loss: 0.4006 - acc: 0.8361 0s - lo\n",
      "Epoch 69/100\n",
      "8000/8000 [==============================] - 1s 182us/step - loss: 0.4007 - acc: 0.8366\n",
      "Epoch 70/100\n",
      "8000/8000 [==============================] - 1s 154us/step - loss: 0.4004 - acc: 0.8347\n",
      "Epoch 71/100\n",
      "8000/8000 [==============================] - 1s 162us/step - loss: 0.4009 - acc: 0.8362\n",
      "Epoch 72/100\n",
      "8000/8000 [==============================] - 1s 156us/step - loss: 0.4003 - acc: 0.8354\n",
      "Epoch 73/100\n",
      "8000/8000 [==============================] - 1s 154us/step - loss: 0.4005 - acc: 0.8354\n",
      "Epoch 74/100\n",
      "8000/8000 [==============================] - 1s 154us/step - loss: 0.4007 - acc: 0.8357\n",
      "Epoch 75/100\n",
      "8000/8000 [==============================] - 1s 156us/step - loss: 0.4000 - acc: 0.8345\n",
      "Epoch 76/100\n",
      "8000/8000 [==============================] - 1s 155us/step - loss: 0.4003 - acc: 0.8349 0s - loss: 0.4081 - acc\n",
      "Epoch 77/100\n",
      "8000/8000 [==============================] - 1s 160us/step - loss: 0.4007 - acc: 0.8355\n",
      "Epoch 78/100\n",
      "8000/8000 [==============================] - 1s 170us/step - loss: 0.4004 - acc: 0.8351\n",
      "Epoch 79/100\n",
      "8000/8000 [==============================] - 1s 174us/step - loss: 0.4007 - acc: 0.8341\n",
      "Epoch 80/100\n",
      "8000/8000 [==============================] - 1s 175us/step - loss: 0.4006 - acc: 0.8355\n",
      "Epoch 81/100\n",
      "8000/8000 [==============================] - 1s 164us/step - loss: 0.4006 - acc: 0.8372 0s - loss: 0.3944 \n",
      "Epoch 82/100\n",
      "8000/8000 [==============================] - 1s 153us/step - loss: 0.4003 - acc: 0.8352\n",
      "Epoch 83/100\n",
      "8000/8000 [==============================] - 1s 152us/step - loss: 0.4009 - acc: 0.8356\n",
      "Epoch 84/100\n",
      "8000/8000 [==============================] - 1s 158us/step - loss: 0.4008 - acc: 0.8352 0s - loss: 0.4000 - acc\n",
      "Epoch 85/100\n",
      "8000/8000 [==============================] - 1s 155us/step - loss: 0.4004 - acc: 0.8356\n",
      "Epoch 86/100\n",
      "8000/8000 [==============================] - 1s 155us/step - loss: 0.4005 - acc: 0.8340\n",
      "Epoch 87/100\n",
      "8000/8000 [==============================] - 2s 223us/step - loss: 0.4004 - acc: 0.8349\n",
      "Epoch 88/100\n",
      "8000/8000 [==============================] - 2s 230us/step - loss: 0.4004 - acc: 0.8357\n",
      "Epoch 89/100\n",
      "8000/8000 [==============================] - 2s 192us/step - loss: 0.4006 - acc: 0.8349\n",
      "Epoch 90/100\n",
      "8000/8000 [==============================] - 2s 197us/step - loss: 0.4004 - acc: 0.8340\n",
      "Epoch 91/100\n",
      "8000/8000 [==============================] - 1s 172us/step - loss: 0.4005 - acc: 0.8340\n",
      "Epoch 92/100\n",
      "8000/8000 [==============================] - 1s 174us/step - loss: 0.3999 - acc: 0.8372\n",
      "Epoch 93/100\n",
      "8000/8000 [==============================] - 1s 177us/step - loss: 0.4005 - acc: 0.8344\n",
      "Epoch 94/100\n",
      "8000/8000 [==============================] - 2s 199us/step - loss: 0.4007 - acc: 0.8344 1s - lo\n",
      "Epoch 95/100\n",
      "8000/8000 [==============================] - 2s 188us/step - loss: 0.4002 - acc: 0.8370\n",
      "Epoch 96/100\n",
      "8000/8000 [==============================] - 1s 180us/step - loss: 0.4003 - acc: 0.8329\n",
      "Epoch 97/100\n",
      "8000/8000 [==============================] - 1s 174us/step - loss: 0.4006 - acc: 0.8339 0s - loss: 0.4016 - acc: 0.8\n",
      "Epoch 98/100\n",
      "8000/8000 [==============================] - 1s 173us/step - loss: 0.4003 - acc: 0.8352 0s - loss: \n",
      "Epoch 99/100\n",
      "8000/8000 [==============================] - 2s 208us/step - loss: 0.4002 - acc: 0.8340\n",
      "Epoch 100/100\n",
      "8000/8000 [==============================] - 1s 171us/step - loss: 0.3999 - acc: 0.8351 0s - loss: 0.4041 - acc\n"
     ]
    },
    {
     "data": {
      "text/plain": [
       "<keras.callbacks.History at 0x11f1ef0f0>"
      ]
     },
     "execution_count": 35,
     "metadata": {},
     "output_type": "execute_result"
    }
   ],
   "source": [
    "classifier.fit(X_train, y_train, batch_size = 10, nb_epoch = 100)"
   ]
  },
  {
   "cell_type": "markdown",
   "metadata": {},
   "source": [
    "# Prediction  and evaluation of model\n",
    "\n",
    "\n",
    "### Predicting the test set results"
   ]
  },
  {
   "cell_type": "code",
   "execution_count": 37,
   "metadata": {
    "ExecuteTime": {
     "end_time": "2018-04-24T21:55:21.158061Z",
     "start_time": "2018-04-24T21:55:21.109420Z"
    }
   },
   "outputs": [],
   "source": [
    "y_pred = classifier.predict(X_test)"
   ]
  },
  {
   "cell_type": "code",
   "execution_count": 39,
   "metadata": {
    "ExecuteTime": {
     "end_time": "2018-04-24T21:56:42.745067Z",
     "start_time": "2018-04-24T21:56:42.739993Z"
    }
   },
   "outputs": [],
   "source": [
    "np.set_printoptions(formatter={'float_kind':'{:0.2f}'.format})"
   ]
  },
  {
   "cell_type": "code",
   "execution_count": 42,
   "metadata": {
    "ExecuteTime": {
     "end_time": "2018-04-24T21:58:56.966932Z",
     "start_time": "2018-04-24T21:58:56.960422Z"
    }
   },
   "outputs": [
    {
     "data": {
      "text/plain": [
       "array([[0.29],\n",
       "       [0.32],\n",
       "       [0.13],\n",
       "       ..., \n",
       "       [0.21],\n",
       "       [0.13],\n",
       "       [0.11]], dtype=float32)"
      ]
     },
     "execution_count": 42,
     "metadata": {},
     "output_type": "execute_result"
    }
   ],
   "source": [
    "y_pred"
   ]
  },
  {
   "cell_type": "markdown",
   "metadata": {},
   "source": [
    "* These prediction are providing the probabilities if a customer will leave or not\n",
    "* To change them in the form of true and false"
   ]
  },
  {
   "cell_type": "code",
   "execution_count": 43,
   "metadata": {
    "ExecuteTime": {
     "end_time": "2018-04-24T22:00:50.847316Z",
     "start_time": "2018-04-24T22:00:50.842875Z"
    }
   },
   "outputs": [],
   "source": [
    "y_pred = (y_pred > 0.5) #similar to if and else if y_pred > 0.5 return true else false"
   ]
  },
  {
   "cell_type": "code",
   "execution_count": 44,
   "metadata": {
    "ExecuteTime": {
     "end_time": "2018-04-24T22:01:00.365166Z",
     "start_time": "2018-04-24T22:01:00.359760Z"
    }
   },
   "outputs": [
    {
     "data": {
      "text/plain": [
       "array([[False],\n",
       "       [False],\n",
       "       [False],\n",
       "       ..., \n",
       "       [False],\n",
       "       [False],\n",
       "       [False]], dtype=bool)"
      ]
     },
     "execution_count": 44,
     "metadata": {},
     "output_type": "execute_result"
    }
   ],
   "source": [
    "y_pred"
   ]
  },
  {
   "cell_type": "markdown",
   "metadata": {},
   "source": [
    "### Confusion Matrix"
   ]
  },
  {
   "cell_type": "code",
   "execution_count": 45,
   "metadata": {
    "ExecuteTime": {
     "end_time": "2018-04-24T22:01:43.434792Z",
     "start_time": "2018-04-24T22:01:43.422407Z"
    }
   },
   "outputs": [],
   "source": [
    "cm = confusion_matrix(y_test, y_pred)"
   ]
  },
  {
   "cell_type": "code",
   "execution_count": 46,
   "metadata": {
    "ExecuteTime": {
     "end_time": "2018-04-24T22:01:48.993630Z",
     "start_time": "2018-04-24T22:01:48.987489Z"
    }
   },
   "outputs": [
    {
     "data": {
      "text/plain": [
       "array([[1544,   51],\n",
       "       [ 271,  134]])"
      ]
     },
     "execution_count": 46,
     "metadata": {},
     "output_type": "execute_result"
    }
   ],
   "source": [
    "cm\n"
   ]
  },
  {
   "cell_type": "code",
   "execution_count": 47,
   "metadata": {
    "ExecuteTime": {
     "end_time": "2018-04-24T22:02:07.165790Z",
     "start_time": "2018-04-24T22:02:07.158619Z"
    }
   },
   "outputs": [
    {
     "data": {
      "text/plain": [
       "0.83899999999999997"
      ]
     },
     "execution_count": 47,
     "metadata": {},
     "output_type": "execute_result"
    }
   ],
   "source": [
    "accuracy_score(y_test, y_pred)"
   ]
  },
  {
   "cell_type": "code",
   "execution_count": 49,
   "metadata": {
    "ExecuteTime": {
     "end_time": "2018-04-24T22:04:11.417800Z",
     "start_time": "2018-04-24T22:04:11.411833Z"
    }
   },
   "outputs": [
    {
     "data": {
      "text/plain": [
       "0.839"
      ]
     },
     "execution_count": 49,
     "metadata": {},
     "output_type": "execute_result"
    }
   ],
   "source": [
    "# Manually printing the accuracy\n",
    " \n",
    "(1544 + 134)/2000 #2000 testing data set"
   ]
  }
 ],
 "metadata": {
  "kernelspec": {
   "display_name": "Python 3",
   "language": "python",
   "name": "python3"
  },
  "language_info": {
   "codemirror_mode": {
    "name": "ipython",
    "version": 3
   },
   "file_extension": ".py",
   "mimetype": "text/x-python",
   "name": "python",
   "nbconvert_exporter": "python",
   "pygments_lexer": "ipython3",
   "version": "3.6.6"
  },
  "toc": {
   "nav_menu": {},
   "number_sections": false,
   "sideBar": true,
   "skip_h1_title": false,
   "title_cell": "Table of Contents",
   "title_sidebar": "Contents",
   "toc_cell": true,
   "toc_position": {},
   "toc_section_display": true,
   "toc_window_display": false
  },
  "varInspector": {
   "cols": {
    "lenName": 16,
    "lenType": 16,
    "lenVar": 40
   },
   "kernels_config": {
    "python": {
     "delete_cmd_postfix": "",
     "delete_cmd_prefix": "del ",
     "library": "var_list.py",
     "varRefreshCmd": "print(var_dic_list())"
    },
    "r": {
     "delete_cmd_postfix": ") ",
     "delete_cmd_prefix": "rm(",
     "library": "var_list.r",
     "varRefreshCmd": "cat(var_dic_list()) "
    }
   },
   "oldHeight": 456,
   "position": {
    "height": "40px",
    "left": "1070px",
    "right": "20px",
    "top": "121px",
    "width": "329px"
   },
   "types_to_exclude": [
    "module",
    "function",
    "builtin_function_or_method",
    "instance",
    "_Feature"
   ],
   "varInspector_section_display": "none",
   "window_display": true
  }
 },
 "nbformat": 4,
 "nbformat_minor": 2
}
