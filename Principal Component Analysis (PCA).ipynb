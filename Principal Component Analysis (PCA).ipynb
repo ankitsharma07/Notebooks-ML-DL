{
 "cells": [
  {
   "cell_type": "markdown",
   "metadata": {
    "toc": true
   },
   "source": [
    "<h1>Table of Contents<span class=\"tocSkip\"></span></h1>\n",
    "<div class=\"toc\"><ul class=\"toc-item\"><li><span><a href=\"#Principal-Component-Analysis-(PCA)\" data-toc-modified-id=\"Principal-Component-Analysis-(PCA)-1\">Principal Component Analysis (PCA)</a></span><ul class=\"toc-item\"><li><ul class=\"toc-item\"><li><span><a href=\"#What-does-PCA-do?\" data-toc-modified-id=\"What-does-PCA-do?-1.0.1\">What does PCA do?</a></span></li></ul></li></ul></li><li><span><a href=\"#Important-Note\" data-toc-modified-id=\"Important-Note-2\">Important Note</a></span></li><li><span><a href=\"#Splitting-into-Training-set-and-Test-set\" data-toc-modified-id=\"Splitting-into-Training-set-and-Test-set-3\">Splitting into Training set and Test set</a></span></li><li><span><a href=\"#Feature-Scaling\" data-toc-modified-id=\"Feature-Scaling-4\">Feature Scaling</a></span></li><li><span><a href=\"#Applying-PCA\" data-toc-modified-id=\"Applying-PCA-5\">Applying PCA</a></span></li><li><span><a href=\"#Fitting-Logistic-Regression-to-Training-set.\" data-toc-modified-id=\"Fitting-Logistic-Regression-to-Training-set.-6\">Fitting Logistic Regression to Training set.</a></span></li><li><span><a href=\"#Predicting-the-Test-set-results\" data-toc-modified-id=\"Predicting-the-Test-set-results-7\">Predicting the Test set results</a></span></li><li><span><a href=\"#Making-the-Confusion-Matrix\" data-toc-modified-id=\"Making-the-Confusion-Matrix-8\">Making the Confusion Matrix</a></span></li><li><span><a href=\"#Visualizing-the-training-set-results\" data-toc-modified-id=\"Visualizing-the-training-set-results-9\">Visualizing the training set results</a></span></li><li><span><a href=\"#Visualizing-the-test-set\" data-toc-modified-id=\"Visualizing-the-test-set-10\">Visualizing the test set</a></span></li></ul></div>"
   ]
  },
  {
   "cell_type": "markdown",
   "metadata": {},
   "source": [
    "# Principal Component Analysis (PCA)\n",
    "\n",
    "> It is a kind of `Dimensionality Reduction technique`."
   ]
  },
  {
   "cell_type": "markdown",
   "metadata": {},
   "source": [
    "* There are two types of **Dimensionality Component Analysis**:\n",
    "\n",
    "    1. Feature Selection\n",
    "    2. Feature Extraction\n",
    "\n",
    "\n",
    "* Feature Selection\n",
    "> * Backward Elimination\n",
    "  * Forward Selection\n",
    "  * Bidirectional Elimination\n",
    "  * Score Comparison\n",
    "  \n",
    "* Feature Extraction\n",
    "> * Principal Component Analysis (PCA)\n",
    "  * Linear Discriminant Analysis (LDA)\n",
    "  * Kernel PCA\n",
    "  * Quadratic Discriminant Analysis (QDA)"
   ]
  },
  {
   "cell_type": "markdown",
   "metadata": {},
   "source": [
    "### What does PCA do?\n",
    "\n",
    "> From the `m` independent variables of your dataset, PCA will extract $p <= m$ new independent variables that explain the most of the variance of the dataset regardless of the dependent variables.\n",
    "\n",
    "* The point that the `Dependent Variables `is not considered makes PCA an unsupervised model."
   ]
  },
  {
   "cell_type": "markdown",
   "metadata": {},
   "source": [
    "# Important Note\n",
    "\n",
    "* We are dealing with a classification problem so we will use any of the claffification algorithm alongside PCA to reduce the dimesionality.\n",
    "\n",
    "* In this case, we are going to use Logistic Regression. "
   ]
  },
  {
   "cell_type": "code",
   "execution_count": 13,
   "metadata": {
    "ExecuteTime": {
     "end_time": "2018-04-28T19:25:48.025867Z",
     "start_time": "2018-04-28T19:25:48.021159Z"
    }
   },
   "outputs": [],
   "source": [
    "# Importing the packages and the libraries\n",
    "\n",
    "import numpy as np\n",
    "import pandas as pd\n",
    "import matplotlib.pyplot as plt\n"
   ]
  },
  {
   "cell_type": "code",
   "execution_count": 14,
   "metadata": {
    "ExecuteTime": {
     "end_time": "2018-04-28T19:25:50.517801Z",
     "start_time": "2018-04-28T19:25:50.507875Z"
    }
   },
   "outputs": [],
   "source": [
    "#Import the dataset\n",
    "\n",
    "dataset = pd.read_csv(\"/Users/ankitsharma/Documents/Documents/Stuff/Machine Learning/Udemy Course/Part 9 - Dimensionality Reduction/Principal Component Analysis (PCA)/Wine.csv\")"
   ]
  },
  {
   "cell_type": "code",
   "execution_count": 15,
   "metadata": {
    "ExecuteTime": {
     "end_time": "2018-04-28T19:25:52.202513Z",
     "start_time": "2018-04-28T19:25:52.176235Z"
    }
   },
   "outputs": [
    {
     "data": {
      "text/html": [
       "<div>\n",
       "<style scoped>\n",
       "    .dataframe tbody tr th:only-of-type {\n",
       "        vertical-align: middle;\n",
       "    }\n",
       "\n",
       "    .dataframe tbody tr th {\n",
       "        vertical-align: top;\n",
       "    }\n",
       "\n",
       "    .dataframe thead th {\n",
       "        text-align: right;\n",
       "    }\n",
       "</style>\n",
       "<table border=\"1\" class=\"dataframe\">\n",
       "  <thead>\n",
       "    <tr style=\"text-align: right;\">\n",
       "      <th></th>\n",
       "      <th>Alcohol</th>\n",
       "      <th>Malic_Acid</th>\n",
       "      <th>Ash</th>\n",
       "      <th>Ash_Alcanity</th>\n",
       "      <th>Magnesium</th>\n",
       "      <th>Total_Phenols</th>\n",
       "      <th>Flavanoids</th>\n",
       "      <th>Nonflavanoid_Phenols</th>\n",
       "      <th>Proanthocyanins</th>\n",
       "      <th>Color_Intensity</th>\n",
       "      <th>Hue</th>\n",
       "      <th>OD280</th>\n",
       "      <th>Proline</th>\n",
       "      <th>Customer_Segment</th>\n",
       "    </tr>\n",
       "  </thead>\n",
       "  <tbody>\n",
       "    <tr>\n",
       "      <th>0</th>\n",
       "      <td>14.23</td>\n",
       "      <td>1.71</td>\n",
       "      <td>2.43</td>\n",
       "      <td>15.6</td>\n",
       "      <td>127</td>\n",
       "      <td>2.80</td>\n",
       "      <td>3.06</td>\n",
       "      <td>0.28</td>\n",
       "      <td>2.29</td>\n",
       "      <td>5.64</td>\n",
       "      <td>1.04</td>\n",
       "      <td>3.92</td>\n",
       "      <td>1065</td>\n",
       "      <td>1</td>\n",
       "    </tr>\n",
       "    <tr>\n",
       "      <th>1</th>\n",
       "      <td>13.20</td>\n",
       "      <td>1.78</td>\n",
       "      <td>2.14</td>\n",
       "      <td>11.2</td>\n",
       "      <td>100</td>\n",
       "      <td>2.65</td>\n",
       "      <td>2.76</td>\n",
       "      <td>0.26</td>\n",
       "      <td>1.28</td>\n",
       "      <td>4.38</td>\n",
       "      <td>1.05</td>\n",
       "      <td>3.40</td>\n",
       "      <td>1050</td>\n",
       "      <td>1</td>\n",
       "    </tr>\n",
       "    <tr>\n",
       "      <th>2</th>\n",
       "      <td>13.16</td>\n",
       "      <td>2.36</td>\n",
       "      <td>2.67</td>\n",
       "      <td>18.6</td>\n",
       "      <td>101</td>\n",
       "      <td>2.80</td>\n",
       "      <td>3.24</td>\n",
       "      <td>0.30</td>\n",
       "      <td>2.81</td>\n",
       "      <td>5.68</td>\n",
       "      <td>1.03</td>\n",
       "      <td>3.17</td>\n",
       "      <td>1185</td>\n",
       "      <td>1</td>\n",
       "    </tr>\n",
       "    <tr>\n",
       "      <th>3</th>\n",
       "      <td>14.37</td>\n",
       "      <td>1.95</td>\n",
       "      <td>2.50</td>\n",
       "      <td>16.8</td>\n",
       "      <td>113</td>\n",
       "      <td>3.85</td>\n",
       "      <td>3.49</td>\n",
       "      <td>0.24</td>\n",
       "      <td>2.18</td>\n",
       "      <td>7.80</td>\n",
       "      <td>0.86</td>\n",
       "      <td>3.45</td>\n",
       "      <td>1480</td>\n",
       "      <td>1</td>\n",
       "    </tr>\n",
       "    <tr>\n",
       "      <th>4</th>\n",
       "      <td>13.24</td>\n",
       "      <td>2.59</td>\n",
       "      <td>2.87</td>\n",
       "      <td>21.0</td>\n",
       "      <td>118</td>\n",
       "      <td>2.80</td>\n",
       "      <td>2.69</td>\n",
       "      <td>0.39</td>\n",
       "      <td>1.82</td>\n",
       "      <td>4.32</td>\n",
       "      <td>1.04</td>\n",
       "      <td>2.93</td>\n",
       "      <td>735</td>\n",
       "      <td>1</td>\n",
       "    </tr>\n",
       "    <tr>\n",
       "      <th>5</th>\n",
       "      <td>14.20</td>\n",
       "      <td>1.76</td>\n",
       "      <td>2.45</td>\n",
       "      <td>15.2</td>\n",
       "      <td>112</td>\n",
       "      <td>3.27</td>\n",
       "      <td>3.39</td>\n",
       "      <td>0.34</td>\n",
       "      <td>1.97</td>\n",
       "      <td>6.75</td>\n",
       "      <td>1.05</td>\n",
       "      <td>2.85</td>\n",
       "      <td>1450</td>\n",
       "      <td>1</td>\n",
       "    </tr>\n",
       "    <tr>\n",
       "      <th>6</th>\n",
       "      <td>14.39</td>\n",
       "      <td>1.87</td>\n",
       "      <td>2.45</td>\n",
       "      <td>14.6</td>\n",
       "      <td>96</td>\n",
       "      <td>2.50</td>\n",
       "      <td>2.52</td>\n",
       "      <td>0.30</td>\n",
       "      <td>1.98</td>\n",
       "      <td>5.25</td>\n",
       "      <td>1.02</td>\n",
       "      <td>3.58</td>\n",
       "      <td>1290</td>\n",
       "      <td>1</td>\n",
       "    </tr>\n",
       "    <tr>\n",
       "      <th>7</th>\n",
       "      <td>14.06</td>\n",
       "      <td>2.15</td>\n",
       "      <td>2.61</td>\n",
       "      <td>17.6</td>\n",
       "      <td>121</td>\n",
       "      <td>2.60</td>\n",
       "      <td>2.51</td>\n",
       "      <td>0.31</td>\n",
       "      <td>1.25</td>\n",
       "      <td>5.05</td>\n",
       "      <td>1.06</td>\n",
       "      <td>3.58</td>\n",
       "      <td>1295</td>\n",
       "      <td>1</td>\n",
       "    </tr>\n",
       "    <tr>\n",
       "      <th>8</th>\n",
       "      <td>14.83</td>\n",
       "      <td>1.64</td>\n",
       "      <td>2.17</td>\n",
       "      <td>14.0</td>\n",
       "      <td>97</td>\n",
       "      <td>2.80</td>\n",
       "      <td>2.98</td>\n",
       "      <td>0.29</td>\n",
       "      <td>1.98</td>\n",
       "      <td>5.20</td>\n",
       "      <td>1.08</td>\n",
       "      <td>2.85</td>\n",
       "      <td>1045</td>\n",
       "      <td>1</td>\n",
       "    </tr>\n",
       "    <tr>\n",
       "      <th>9</th>\n",
       "      <td>13.86</td>\n",
       "      <td>1.35</td>\n",
       "      <td>2.27</td>\n",
       "      <td>16.0</td>\n",
       "      <td>98</td>\n",
       "      <td>2.98</td>\n",
       "      <td>3.15</td>\n",
       "      <td>0.22</td>\n",
       "      <td>1.85</td>\n",
       "      <td>7.22</td>\n",
       "      <td>1.01</td>\n",
       "      <td>3.55</td>\n",
       "      <td>1045</td>\n",
       "      <td>1</td>\n",
       "    </tr>\n",
       "  </tbody>\n",
       "</table>\n",
       "</div>"
      ],
      "text/plain": [
       "   Alcohol  Malic_Acid   Ash  Ash_Alcanity  Magnesium  Total_Phenols  \\\n",
       "0    14.23        1.71  2.43          15.6        127           2.80   \n",
       "1    13.20        1.78  2.14          11.2        100           2.65   \n",
       "2    13.16        2.36  2.67          18.6        101           2.80   \n",
       "3    14.37        1.95  2.50          16.8        113           3.85   \n",
       "4    13.24        2.59  2.87          21.0        118           2.80   \n",
       "5    14.20        1.76  2.45          15.2        112           3.27   \n",
       "6    14.39        1.87  2.45          14.6         96           2.50   \n",
       "7    14.06        2.15  2.61          17.6        121           2.60   \n",
       "8    14.83        1.64  2.17          14.0         97           2.80   \n",
       "9    13.86        1.35  2.27          16.0         98           2.98   \n",
       "\n",
       "   Flavanoids  Nonflavanoid_Phenols  Proanthocyanins  Color_Intensity   Hue  \\\n",
       "0        3.06                  0.28             2.29             5.64  1.04   \n",
       "1        2.76                  0.26             1.28             4.38  1.05   \n",
       "2        3.24                  0.30             2.81             5.68  1.03   \n",
       "3        3.49                  0.24             2.18             7.80  0.86   \n",
       "4        2.69                  0.39             1.82             4.32  1.04   \n",
       "5        3.39                  0.34             1.97             6.75  1.05   \n",
       "6        2.52                  0.30             1.98             5.25  1.02   \n",
       "7        2.51                  0.31             1.25             5.05  1.06   \n",
       "8        2.98                  0.29             1.98             5.20  1.08   \n",
       "9        3.15                  0.22             1.85             7.22  1.01   \n",
       "\n",
       "   OD280  Proline  Customer_Segment  \n",
       "0   3.92     1065                 1  \n",
       "1   3.40     1050                 1  \n",
       "2   3.17     1185                 1  \n",
       "3   3.45     1480                 1  \n",
       "4   2.93      735                 1  \n",
       "5   2.85     1450                 1  \n",
       "6   3.58     1290                 1  \n",
       "7   3.58     1295                 1  \n",
       "8   2.85     1045                 1  \n",
       "9   3.55     1045                 1  "
      ]
     },
     "execution_count": 15,
     "metadata": {},
     "output_type": "execute_result"
    }
   ],
   "source": [
    "dataset.head(10)"
   ]
  },
  {
   "cell_type": "markdown",
   "metadata": {},
   "source": [
    "**Logistic Regression** which we are going to build will return the type of wine a customer would prefer for each customer segment.\n",
    "\n",
    "* Since we have 13 columns, we cannot plot all the IV's in a single plot.\n",
    "\n",
    "* We need some sort of Dimensionality reduction technique to reduce the 13 dimensions to 2-3 dimensions."
   ]
  },
  {
   "cell_type": "code",
   "execution_count": 16,
   "metadata": {
    "ExecuteTime": {
     "end_time": "2018-04-28T19:25:55.905420Z",
     "start_time": "2018-04-28T19:25:55.900049Z"
    }
   },
   "outputs": [],
   "source": [
    "X = dataset.iloc[:, 0:13].values\n",
    "y = dataset.iloc[:, 13].values"
   ]
  },
  {
   "cell_type": "markdown",
   "metadata": {},
   "source": [
    "# Splitting into Training set and Test set"
   ]
  },
  {
   "cell_type": "code",
   "execution_count": 17,
   "metadata": {
    "ExecuteTime": {
     "end_time": "2018-04-28T19:25:59.844918Z",
     "start_time": "2018-04-28T19:25:59.841083Z"
    }
   },
   "outputs": [],
   "source": [
    "from sklearn.cross_validation import train_test_split"
   ]
  },
  {
   "cell_type": "code",
   "execution_count": 18,
   "metadata": {
    "ExecuteTime": {
     "end_time": "2018-04-28T19:26:00.837344Z",
     "start_time": "2018-04-28T19:26:00.832699Z"
    }
   },
   "outputs": [],
   "source": [
    "X_train, X_test, y_train, y_test = train_test_split(X, y, test_size = 0.2, random_state = 0)"
   ]
  },
  {
   "cell_type": "markdown",
   "metadata": {},
   "source": [
    "# Feature Scaling"
   ]
  },
  {
   "cell_type": "code",
   "execution_count": 19,
   "metadata": {
    "ExecuteTime": {
     "end_time": "2018-04-28T19:26:02.629844Z",
     "start_time": "2018-04-28T19:26:02.626440Z"
    }
   },
   "outputs": [],
   "source": [
    "from sklearn.preprocessing import StandardScaler\n"
   ]
  },
  {
   "cell_type": "code",
   "execution_count": 20,
   "metadata": {
    "ExecuteTime": {
     "end_time": "2018-04-28T19:26:03.656084Z",
     "start_time": "2018-04-28T19:26:03.651389Z"
    }
   },
   "outputs": [],
   "source": [
    "sc = StandardScaler()\n",
    "X_train = sc.fit_transform(X_train)\n",
    "X_test = sc.transform(X_test)"
   ]
  },
  {
   "cell_type": "markdown",
   "metadata": {},
   "source": [
    "# Applying PCA"
   ]
  },
  {
   "cell_type": "code",
   "execution_count": 21,
   "metadata": {
    "ExecuteTime": {
     "end_time": "2018-04-28T19:26:07.225410Z",
     "start_time": "2018-04-28T19:26:07.221750Z"
    }
   },
   "outputs": [],
   "source": [
    "from sklearn.decomposition import PCA"
   ]
  },
  {
   "cell_type": "code",
   "execution_count": 22,
   "metadata": {
    "ExecuteTime": {
     "end_time": "2018-04-28T19:26:08.038691Z",
     "start_time": "2018-04-28T19:26:08.031662Z"
    }
   },
   "outputs": [],
   "source": [
    "pca = PCA(n_components = 2)\n",
    "\n",
    "X_train = pca.fit_transform(X_train)\n",
    "\n",
    "X_test = pca.transform(X_test)\n",
    "\n",
    "explained_variance = pca.explained_variance_ratio_"
   ]
  },
  {
   "cell_type": "markdown",
   "metadata": {},
   "source": [
    "* Explained variance is the extracted variance for all the 13 IV's"
   ]
  },
  {
   "cell_type": "code",
   "execution_count": 12,
   "metadata": {
    "ExecuteTime": {
     "end_time": "2018-04-28T19:17:49.871902Z",
     "start_time": "2018-04-28T19:17:49.865358Z"
    }
   },
   "outputs": [
    {
     "data": {
      "text/plain": [
       "array([ 0.36884109,  0.19318394,  0.10752862,  0.07421996,  0.06245904,\n",
       "        0.04909   ,  0.04117287,  0.02495984,  0.02308855,  0.01864124,\n",
       "        0.01731766,  0.01252785,  0.00696933])"
      ]
     },
     "execution_count": 12,
     "metadata": {},
     "output_type": "execute_result"
    }
   ],
   "source": [
    "explained_variance"
   ]
  },
  {
   "cell_type": "markdown",
   "metadata": {},
   "source": [
    "* Since, we need only 2 dimensions in our analysing of data. We will take the top 2 variance which comprise of `36 + 19 = 55 percent` \n",
    "\n",
    "* Now we will change the `n_components = 2` and re run all the code."
   ]
  },
  {
   "cell_type": "code",
   "execution_count": 23,
   "metadata": {
    "ExecuteTime": {
     "end_time": "2018-04-28T19:26:17.159460Z",
     "start_time": "2018-04-28T19:26:17.146138Z"
    }
   },
   "outputs": [
    {
     "data": {
      "text/plain": [
       "array([[ -2.17884511e+00,  -1.07218467e+00],\n",
       "       [ -1.80819239e+00,   1.57822344e+00],\n",
       "       [  1.09829474e+00,   2.22124345e+00],\n",
       "       [ -2.55584748e+00,  -1.66210369e+00],\n",
       "       [  1.85698063e+00,   2.41573166e-01],\n",
       "       [  2.58288576e+00,  -1.37668170e+00],\n",
       "       [  8.72876119e-01,   2.25618512e+00],\n",
       "       [ -4.18384029e-01,   2.35415681e+00],\n",
       "       [ -3.04977245e-01,   2.27659433e+00],\n",
       "       [  2.14082532e+00,  -1.10052871e+00],\n",
       "       [ -2.98136465e+00,  -2.47159183e-01],\n",
       "       [  1.96188242e+00,   1.25407738e+00],\n",
       "       [ -2.16177795e+00,  -9.75966550e-01],\n",
       "       [  2.21976084e+00,  -2.39507167e+00],\n",
       "       [ -2.30179529e+00,  -2.05791962e-01],\n",
       "       [ -3.00953827e+00,  -2.79141212e-01],\n",
       "       [  2.63443473e+00,  -8.68313119e-01],\n",
       "       [ -1.09219965e+00,  -3.53906625e+00],\n",
       "       [  2.62578435e+00,  -2.96852840e-03],\n",
       "       [  1.98077342e-01,   2.29193443e+00],\n",
       "       [ -2.67442753e+00,  -2.58800132e+00],\n",
       "       [ -2.54763698e+00,  -4.52703891e-01],\n",
       "       [  1.77416736e+00,   8.43586940e-01],\n",
       "       [ -2.77786938e+00,  -4.32090258e-01],\n",
       "       [ -2.86679938e+00,  -1.87580875e+00],\n",
       "       [  1.35498845e+00,   3.99545184e-02],\n",
       "       [ -2.43900474e+00,   9.44074889e-02],\n",
       "       [ -2.27268121e+00,   5.05883053e-01],\n",
       "       [  1.17887166e+00,   2.50068415e+00],\n",
       "       [ -2.30673313e+00,   1.30502777e+00],\n",
       "       [ -2.53020738e+00,  -5.51277126e-01],\n",
       "       [  1.63200028e-01,   1.29107817e+00],\n",
       "       [  2.57881158e+00,  -1.17515982e+00],\n",
       "       [ -7.62471566e-01,   3.16097049e+00],\n",
       "       [  2.57005937e+00,  -9.66718786e-02],\n",
       "       [ -4.78337042e-01,   5.77763823e-01],\n",
       "       [  5.47417096e-01,  -3.77647780e-01],\n",
       "       [  3.55763538e+00,  -1.45816125e+00],\n",
       "       [  1.69260971e+00,   1.37844174e+00],\n",
       "       [  2.65288395e+00,  -2.39399539e-01],\n",
       "       [ -3.62047411e+00,  -6.90153979e-01],\n",
       "       [ -1.61462317e+00,  -2.41170340e+00],\n",
       "       [  1.50959767e+00,   1.32717326e+00],\n",
       "       [  5.36413494e-02,   2.07680094e+00],\n",
       "       [ -1.07889168e-01,   2.85115217e+00],\n",
       "       [ -2.39610454e+00,  -2.45883860e+00],\n",
       "       [ -3.12315181e+00,   4.23261512e-01],\n",
       "       [  3.28569649e+00,  -3.22859884e-01],\n",
       "       [ -3.55506872e+00,  -1.74242946e+00],\n",
       "       [ -3.87020538e-01,   2.61510101e+00],\n",
       "       [ -4.74514016e-01,   1.98023790e+00],\n",
       "       [ -1.06865761e+00,   6.78906271e-01],\n",
       "       [  1.08546036e+00,   1.30817801e+00],\n",
       "       [  2.02340107e+00,   1.56926094e+00],\n",
       "       [  2.76257094e+00,  -1.85603600e+00],\n",
       "       [  2.06778286e+00,  -1.35861191e+00],\n",
       "       [  9.06600653e-01,   2.04110996e+00],\n",
       "       [  3.52336455e+00,  -1.39946872e+00],\n",
       "       [ -3.79914321e+00,  -4.92727617e-02],\n",
       "       [  1.75250993e+00,   4.64283651e-01],\n",
       "       [ -3.46539192e+00,  -7.90385134e-01],\n",
       "       [  3.16221605e+00,  -8.39879111e-01],\n",
       "       [  2.37656864e+00,  -1.72475988e+00],\n",
       "       [  1.31278073e+00,   8.53348760e-01],\n",
       "       [  3.57258440e+00,  -1.78091597e+00],\n",
       "       [  9.50877158e-01,   2.38927332e+00],\n",
       "       [  4.95461316e-01,   2.16498322e+00],\n",
       "       [  3.79294638e+00,  -2.92787186e+00],\n",
       "       [ -2.37978591e+00,  -2.13572422e+00],\n",
       "       [ -1.50346992e+00,   1.39146991e+00],\n",
       "       [  2.50566646e+00,  -1.30365941e+00],\n",
       "       [ -6.97535788e-01,   2.78160736e-01],\n",
       "       [ -7.25562555e-01,   2.54007170e+00],\n",
       "       [  9.24047324e-01,   1.46344718e+00],\n",
       "       [ -1.25151294e+00,   2.74792621e-02],\n",
       "       [  2.20937835e+00,  -8.05690832e-01],\n",
       "       [ -3.84416995e+00,  -5.74263508e-01],\n",
       "       [ -1.77983157e+00,  -1.38012167e+00],\n",
       "       [  4.35413058e+00,  -2.33750318e+00],\n",
       "       [  3.33834347e+00,  -1.51169086e+00],\n",
       "       [ -1.44769123e+00,   1.90826204e+00],\n",
       "       [ -2.75066706e+00,  -2.07100640e+00],\n",
       "       [  2.79475799e+00,  -1.36659228e+00],\n",
       "       [  1.84642601e+00,  -6.82481476e-01],\n",
       "       [ -4.13332842e-01,   2.20440158e+00],\n",
       "       [ -4.81356617e-02,   1.17469609e+00],\n",
       "       [  1.99166500e+00,  -2.50860656e-01],\n",
       "       [  2.26421169e+00,  -1.32120813e+00],\n",
       "       [  7.85551414e-01,  -2.46487051e-01],\n",
       "       [ -3.32586984e+00,  -2.14485564e+00],\n",
       "       [  1.00496881e+00,   7.20390295e-01],\n",
       "       [  2.31479633e+00,   2.62129546e-01],\n",
       "       [  8.67032066e-01,   1.36440259e+00],\n",
       "       [ -2.28629769e+00,  -4.54244754e-01],\n",
       "       [  3.14452871e+00,  -1.29318898e+00],\n",
       "       [ -1.65297942e+00,   1.74177394e+00],\n",
       "       [ -2.84689388e+00,  -7.78426712e-02],\n",
       "       [ -2.68393126e+00,  -2.53813173e-01],\n",
       "       [  1.97280128e+00,  -1.70171835e+00],\n",
       "       [  1.63120111e+00,   7.24762688e-01],\n",
       "       [ -2.05082836e+00,  -2.11848206e-01],\n",
       "       [  2.28798382e+00,  -1.95899701e+00],\n",
       "       [ -2.28266458e+00,  -2.07243579e-01],\n",
       "       [ -3.45079842e-01,   1.92360626e+00],\n",
       "       [  1.49448758e+00,  -7.18673825e-01],\n",
       "       [  2.26695932e+00,  -7.93531817e-01],\n",
       "       [ -3.44673144e-01,   1.92686997e+00],\n",
       "       [  2.75927029e+00,  -1.56391999e+00],\n",
       "       [ -2.86839562e+00,  -1.85579453e+00],\n",
       "       [ -1.46228982e+00,   1.22151405e+00],\n",
       "       [ -3.31754434e+00,  -1.20382601e+00],\n",
       "       [  1.72057718e+00,  -1.36843828e-01],\n",
       "       [ -2.90065973e+00,  -3.71521776e-01],\n",
       "       [ -2.30532411e+00,  -2.14386284e+00],\n",
       "       [ -3.51377495e+00,  -1.17981731e+00],\n",
       "       [  2.32780065e+00,  -2.95396131e-01],\n",
       "       [  1.54528723e+00,   1.99996309e+00],\n",
       "       [ -3.32660657e-01,   2.37118865e+00],\n",
       "       [  4.96648201e-01,   9.57282660e-01],\n",
       "       [  6.69654741e-01,   3.80907536e+00],\n",
       "       [ -2.76009366e+00,  -1.48785734e+00],\n",
       "       [ -3.19187371e+00,  -2.70815669e+00],\n",
       "       [ -6.05023707e-01,   1.10583182e+00],\n",
       "       [ -1.34006934e+00,   1.51232906e+00],\n",
       "       [  1.05506599e+00,  -9.49724036e-01],\n",
       "       [  1.16017702e+00,   1.39768493e+00],\n",
       "       [ -2.87675356e+00,  -1.15157946e+00],\n",
       "       [ -2.35838421e+00,  -2.44842974e+00],\n",
       "       [  2.54704855e+00,  -1.86824592e+00],\n",
       "       [  3.20597222e+00,  -1.85912926e+00],\n",
       "       [ -2.69949485e+00,  -1.75638262e-01],\n",
       "       [ -9.67436859e-01,   1.81399824e+00],\n",
       "       [ -1.46454259e+00,   1.01680272e+00],\n",
       "       [ -4.04000223e-01,   2.40815711e+00],\n",
       "       [  1.46393837e+00,  -6.90763351e-01],\n",
       "       [  1.15903114e+00,  -2.91379684e-01],\n",
       "       [  2.82057099e+00,  -8.99578955e-01],\n",
       "       [ -5.01011897e-01,   2.68453162e+00],\n",
       "       [  3.30453915e-01,   2.43396193e+00],\n",
       "       [  1.09727608e-02,   1.99585453e+00],\n",
       "       [  2.89176687e+00,  -7.71555485e-01],\n",
       "       [ -2.44830439e+00,  -2.11360296e+00]])"
      ]
     },
     "execution_count": 23,
     "metadata": {},
     "output_type": "execute_result"
    }
   ],
   "source": [
    "X_train"
   ]
  },
  {
   "cell_type": "code",
   "execution_count": 24,
   "metadata": {
    "ExecuteTime": {
     "end_time": "2018-04-28T19:27:08.332133Z",
     "start_time": "2018-04-28T19:27:08.328818Z"
    }
   },
   "outputs": [],
   "source": [
    "np.set_printoptions(formatter={'float_kind':'{:0.3f}'.format})"
   ]
  },
  {
   "cell_type": "code",
   "execution_count": 25,
   "metadata": {
    "ExecuteTime": {
     "end_time": "2018-04-28T19:27:13.529037Z",
     "start_time": "2018-04-28T19:27:13.521638Z"
    }
   },
   "outputs": [
    {
     "data": {
      "text/plain": [
       "array([[-2.179, -1.072],\n",
       "       [-1.808, 1.578],\n",
       "       [1.098, 2.221],\n",
       "       [-2.556, -1.662],\n",
       "       [1.857, 0.242],\n",
       "       [2.583, -1.377],\n",
       "       [0.873, 2.256],\n",
       "       [-0.418, 2.354],\n",
       "       [-0.305, 2.277],\n",
       "       [2.141, -1.101],\n",
       "       [-2.981, -0.247],\n",
       "       [1.962, 1.254],\n",
       "       [-2.162, -0.976],\n",
       "       [2.220, -2.395],\n",
       "       [-2.302, -0.206],\n",
       "       [-3.010, -0.279],\n",
       "       [2.634, -0.868],\n",
       "       [-1.092, -3.539],\n",
       "       [2.626, -0.003],\n",
       "       [0.198, 2.292],\n",
       "       [-2.674, -2.588],\n",
       "       [-2.548, -0.453],\n",
       "       [1.774, 0.844],\n",
       "       [-2.778, -0.432],\n",
       "       [-2.867, -1.876],\n",
       "       [1.355, 0.040],\n",
       "       [-2.439, 0.094],\n",
       "       [-2.273, 0.506],\n",
       "       [1.179, 2.501],\n",
       "       [-2.307, 1.305],\n",
       "       [-2.530, -0.551],\n",
       "       [0.163, 1.291],\n",
       "       [2.579, -1.175],\n",
       "       [-0.762, 3.161],\n",
       "       [2.570, -0.097],\n",
       "       [-0.478, 0.578],\n",
       "       [0.547, -0.378],\n",
       "       [3.558, -1.458],\n",
       "       [1.693, 1.378],\n",
       "       [2.653, -0.239],\n",
       "       [-3.620, -0.690],\n",
       "       [-1.615, -2.412],\n",
       "       [1.510, 1.327],\n",
       "       [0.054, 2.077],\n",
       "       [-0.108, 2.851],\n",
       "       [-2.396, -2.459],\n",
       "       [-3.123, 0.423],\n",
       "       [3.286, -0.323],\n",
       "       [-3.555, -1.742],\n",
       "       [-0.387, 2.615],\n",
       "       [-0.475, 1.980],\n",
       "       [-1.069, 0.679],\n",
       "       [1.085, 1.308],\n",
       "       [2.023, 1.569],\n",
       "       [2.763, -1.856],\n",
       "       [2.068, -1.359],\n",
       "       [0.907, 2.041],\n",
       "       [3.523, -1.399],\n",
       "       [-3.799, -0.049],\n",
       "       [1.753, 0.464],\n",
       "       [-3.465, -0.790],\n",
       "       [3.162, -0.840],\n",
       "       [2.377, -1.725],\n",
       "       [1.313, 0.853],\n",
       "       [3.573, -1.781],\n",
       "       [0.951, 2.389],\n",
       "       [0.495, 2.165],\n",
       "       [3.793, -2.928],\n",
       "       [-2.380, -2.136],\n",
       "       [-1.503, 1.391],\n",
       "       [2.506, -1.304],\n",
       "       [-0.698, 0.278],\n",
       "       [-0.726, 2.540],\n",
       "       [0.924, 1.463],\n",
       "       [-1.252, 0.027],\n",
       "       [2.209, -0.806],\n",
       "       [-3.844, -0.574],\n",
       "       [-1.780, -1.380],\n",
       "       [4.354, -2.338],\n",
       "       [3.338, -1.512],\n",
       "       [-1.448, 1.908],\n",
       "       [-2.751, -2.071],\n",
       "       [2.795, -1.367],\n",
       "       [1.846, -0.682],\n",
       "       [-0.413, 2.204],\n",
       "       [-0.048, 1.175],\n",
       "       [1.992, -0.251],\n",
       "       [2.264, -1.321],\n",
       "       [0.786, -0.246],\n",
       "       [-3.326, -2.145],\n",
       "       [1.005, 0.720],\n",
       "       [2.315, 0.262],\n",
       "       [0.867, 1.364],\n",
       "       [-2.286, -0.454],\n",
       "       [3.145, -1.293],\n",
       "       [-1.653, 1.742],\n",
       "       [-2.847, -0.078],\n",
       "       [-2.684, -0.254],\n",
       "       [1.973, -1.702],\n",
       "       [1.631, 0.725],\n",
       "       [-2.051, -0.212],\n",
       "       [2.288, -1.959],\n",
       "       [-2.283, -0.207],\n",
       "       [-0.345, 1.924],\n",
       "       [1.494, -0.719],\n",
       "       [2.267, -0.794],\n",
       "       [-0.345, 1.927],\n",
       "       [2.759, -1.564],\n",
       "       [-2.868, -1.856],\n",
       "       [-1.462, 1.222],\n",
       "       [-3.318, -1.204],\n",
       "       [1.721, -0.137],\n",
       "       [-2.901, -0.372],\n",
       "       [-2.305, -2.144],\n",
       "       [-3.514, -1.180],\n",
       "       [2.328, -0.295],\n",
       "       [1.545, 2.000],\n",
       "       [-0.333, 2.371],\n",
       "       [0.497, 0.957],\n",
       "       [0.670, 3.809],\n",
       "       [-2.760, -1.488],\n",
       "       [-3.192, -2.708],\n",
       "       [-0.605, 1.106],\n",
       "       [-1.340, 1.512],\n",
       "       [1.055, -0.950],\n",
       "       [1.160, 1.398],\n",
       "       [-2.877, -1.152],\n",
       "       [-2.358, -2.448],\n",
       "       [2.547, -1.868],\n",
       "       [3.206, -1.859],\n",
       "       [-2.699, -0.176],\n",
       "       [-0.967, 1.814],\n",
       "       [-1.465, 1.017],\n",
       "       [-0.404, 2.408],\n",
       "       [1.464, -0.691],\n",
       "       [1.159, -0.291],\n",
       "       [2.821, -0.900],\n",
       "       [-0.501, 2.685],\n",
       "       [0.330, 2.434],\n",
       "       [0.011, 1.996],\n",
       "       [2.892, -0.772],\n",
       "       [-2.448, -2.114]])"
      ]
     },
     "execution_count": 25,
     "metadata": {},
     "output_type": "execute_result"
    }
   ],
   "source": [
    "X_train"
   ]
  },
  {
   "cell_type": "markdown",
   "metadata": {},
   "source": [
    "* Now we can see our dataset has 13 Independent Variables but our training set data has been reduced to 2 "
   ]
  },
  {
   "cell_type": "markdown",
   "metadata": {},
   "source": [
    "# Fitting Logistic Regression to Training set."
   ]
  },
  {
   "cell_type": "code",
   "execution_count": 26,
   "metadata": {
    "ExecuteTime": {
     "end_time": "2018-04-28T19:30:30.373399Z",
     "start_time": "2018-04-28T19:30:30.369559Z"
    }
   },
   "outputs": [],
   "source": [
    "from sklearn.linear_model import LogisticRegression"
   ]
  },
  {
   "cell_type": "code",
   "execution_count": 27,
   "metadata": {
    "ExecuteTime": {
     "end_time": "2018-04-28T19:31:27.435658Z",
     "start_time": "2018-04-28T19:31:27.419363Z"
    }
   },
   "outputs": [
    {
     "data": {
      "text/plain": [
       "LogisticRegression(C=1.0, class_weight=None, dual=False, fit_intercept=True,\n",
       "          intercept_scaling=1, max_iter=100, multi_class='ovr', n_jobs=1,\n",
       "          penalty='l2', random_state=0, solver='liblinear', tol=0.0001,\n",
       "          verbose=0, warm_start=False)"
      ]
     },
     "execution_count": 27,
     "metadata": {},
     "output_type": "execute_result"
    }
   ],
   "source": [
    "classifier = LogisticRegression(random_state = 0)\n",
    "classifier.fit(X_train, y_train)"
   ]
  },
  {
   "cell_type": "markdown",
   "metadata": {},
   "source": [
    "# Predicting the Test set results"
   ]
  },
  {
   "cell_type": "code",
   "execution_count": 28,
   "metadata": {
    "ExecuteTime": {
     "end_time": "2018-04-28T19:33:17.898913Z",
     "start_time": "2018-04-28T19:33:17.894870Z"
    }
   },
   "outputs": [],
   "source": [
    "y_pred = classifier.predict(X_test)"
   ]
  },
  {
   "cell_type": "code",
   "execution_count": 29,
   "metadata": {
    "ExecuteTime": {
     "end_time": "2018-04-28T19:33:28.164649Z",
     "start_time": "2018-04-28T19:33:28.158042Z"
    }
   },
   "outputs": [
    {
     "data": {
      "text/plain": [
       "array([1, 3, 2, 1, 2, 1, 1, 3, 2, 2, 3, 3, 1, 2, 3, 2, 1, 1, 2, 1, 2, 1, 1,\n",
       "       2, 2, 2, 2, 2, 2, 3, 1, 1, 2, 1, 1, 1])"
      ]
     },
     "execution_count": 29,
     "metadata": {},
     "output_type": "execute_result"
    }
   ],
   "source": [
    "y_pred"
   ]
  },
  {
   "cell_type": "markdown",
   "metadata": {},
   "source": [
    "# Making the Confusion Matrix"
   ]
  },
  {
   "cell_type": "code",
   "execution_count": 30,
   "metadata": {
    "ExecuteTime": {
     "end_time": "2018-04-28T19:34:11.489087Z",
     "start_time": "2018-04-28T19:34:11.485533Z"
    }
   },
   "outputs": [],
   "source": [
    "from sklearn.metrics import confusion_matrix, accuracy_score"
   ]
  },
  {
   "cell_type": "code",
   "execution_count": 31,
   "metadata": {
    "ExecuteTime": {
     "end_time": "2018-04-28T19:34:44.391558Z",
     "start_time": "2018-04-28T19:34:44.384805Z"
    }
   },
   "outputs": [],
   "source": [
    "cm = confusion_matrix(y_test, y_pred)"
   ]
  },
  {
   "cell_type": "code",
   "execution_count": 32,
   "metadata": {
    "ExecuteTime": {
     "end_time": "2018-04-28T19:34:49.760050Z",
     "start_time": "2018-04-28T19:34:49.753990Z"
    }
   },
   "outputs": [
    {
     "data": {
      "text/plain": [
       "array([[14,  0,  0],\n",
       "       [ 1, 15,  0],\n",
       "       [ 0,  0,  6]])"
      ]
     },
     "execution_count": 32,
     "metadata": {},
     "output_type": "execute_result"
    }
   ],
   "source": [
    "cm "
   ]
  },
  {
   "cell_type": "code",
   "execution_count": 33,
   "metadata": {
    "ExecuteTime": {
     "end_time": "2018-04-28T19:35:29.885971Z",
     "start_time": "2018-04-28T19:35:29.880943Z"
    }
   },
   "outputs": [
    {
     "name": "stdout",
     "output_type": "stream",
     "text": [
      "0.972222222222\n"
     ]
    }
   ],
   "source": [
    "print(accuracy_score(y_test, y_pred))"
   ]
  },
  {
   "cell_type": "markdown",
   "metadata": {},
   "source": [
    "* Checking the accuracy manually using the confusion matrix\n",
    "\n",
    "$accuracy = \\frac{14+15+6}{14+15+6+1}$"
   ]
  },
  {
   "cell_type": "markdown",
   "metadata": {},
   "source": [
    "# Visualizing the training set results"
   ]
  },
  {
   "cell_type": "code",
   "execution_count": 34,
   "metadata": {
    "ExecuteTime": {
     "end_time": "2018-04-28T20:49:04.417961Z",
     "start_time": "2018-04-28T20:49:04.413946Z"
    }
   },
   "outputs": [],
   "source": [
    "from matplotlib.colors import ListedColormap"
   ]
  },
  {
   "cell_type": "code",
   "execution_count": 38,
   "metadata": {
    "ExecuteTime": {
     "end_time": "2018-04-28T20:52:24.220404Z",
     "start_time": "2018-04-28T20:52:23.722985Z"
    }
   },
   "outputs": [
    {
     "data": {
      "image/png": "[encoded data removed]",
      "text/plain": [
       "<matplotlib.figure.Figure at 0x1116fe2e8>"
      ]
     },
     "metadata": {},
     "output_type": "display_data"
    }
   ],
   "source": [
    "X_set, y_set = X_train, y_train\n",
    "X1, X2 = np.meshgrid(np.arange(start = X_set[:, 0].min() - 1, stop = X_set[:, 0].max() + 1, step = 0.01),\n",
    "                     np.arange(start = X_set[:, 1].min() - 1, stop = X_set[:, 1].max() + 1, step = 0.01))\n",
    "\n",
    "\n",
    "plt.contourf(X1, X2, classifier.predict(np.array([X1.ravel(), X2.ravel()]).T).reshape(X1.shape),\n",
    "             alpha = 0.75, cmap = ListedColormap(('red', 'green', 'blue')))\n",
    "\n",
    "\n",
    "plt.xlim(X1.min(), X1.max())\n",
    "plt.ylim(X2.min(), X2.max())\n",
    "\n",
    "\n",
    "for i, j in enumerate(np.unique(y_set)):\n",
    "    plt.scatter(X_set[y_set == j, 0], X_set[y_set == j, 1],\n",
    "                c = ListedColormap(('red', 'green', 'blue'))(i), label = j)\n",
    "    \n",
    "    \n",
    "plt.title('Logistic Regression (Training set)')\n",
    "plt.xlabel('PC1')\n",
    "plt.ylabel('PC2')\n",
    "plt.legend()\n",
    "plt.show()"
   ]
  },
  {
   "cell_type": "markdown",
   "metadata": {},
   "source": [
    "# Visualizing the test set"
   ]
  },
  {
   "cell_type": "code",
   "execution_count": 37,
   "metadata": {
    "ExecuteTime": {
     "end_time": "2018-04-28T20:52:03.714680Z",
     "start_time": "2018-04-28T20:52:03.321223Z"
    }
   },
   "outputs": [
    {
     "data": {
      "image/png": "[encoded data removed]",
      "text/plain": [
       "<matplotlib.figure.Figure at 0x11077c400>"
      ]
     },
     "metadata": {},
     "output_type": "display_data"
    }
   ],
   "source": [
    "X_set, y_set = X_test, y_test\n",
    "X1, X2 = np.meshgrid(np.arange(start = X_set[:, 0].min() - 1, stop = X_set[:, 0].max() + 1, step = 0.01),\n",
    "                     np.arange(start = X_set[:, 1].min() - 1, stop = X_set[:, 1].max() + 1, step = 0.01))\n",
    "\n",
    "\n",
    "plt.contourf(X1, X2, classifier.predict(np.array([X1.ravel(), X2.ravel()]).T).reshape(X1.shape),\n",
    "             alpha = 0.75, cmap = ListedColormap(('red', 'green', 'blue')))\n",
    "\n",
    "\n",
    "plt.xlim(X1.min(), X1.max())\n",
    "plt.ylim(X2.min(), X2.max())\n",
    "\n",
    "\n",
    "for i, j in enumerate(np.unique(y_set)):\n",
    "    plt.scatter(X_set[y_set == j, 0], X_set[y_set == j, 1],\n",
    "                c = ListedColormap(('red', 'green', 'blue'))(i), label = j)\n",
    "    \n",
    "    \n",
    "plt.title('Logistic Regression (Training set)')\n",
    "plt.xlabel('PC1')\n",
    "plt.ylabel('PC2')\n",
    "plt.legend()\n",
    "plt.show()"
   ]
  }
 ],
 "metadata": {
  "kernelspec": {
   "display_name": "Python 3",
   "language": "python",
   "name": "python3"
  },
  "language_info": {
   "codemirror_mode": {
    "name": "ipython",
    "version": 3
   },
   "file_extension": ".py",
   "mimetype": "text/x-python",
   "name": "python",
   "nbconvert_exporter": "python",
   "pygments_lexer": "ipython3",
   "version": "3.6.4"
  },
  "toc": {
   "nav_menu": {},
   "number_sections": false,
   "sideBar": true,
   "skip_h1_title": false,
   "title_cell": "Table of Contents",
   "title_sidebar": "Contents",
   "toc_cell": true,
   "toc_position": {},
   "toc_section_display": true,
   "toc_window_display": false
  },
  "varInspector": {
   "cols": {
    "lenName": 16,
    "lenType": 16,
    "lenVar": 40
   },
   "kernels_config": {
    "python": {
     "delete_cmd_postfix": "",
     "delete_cmd_prefix": "del ",
     "library": "var_list.py",
     "varRefreshCmd": "print(var_dic_list())"
    },
    "r": {
     "delete_cmd_postfix": ") ",
     "delete_cmd_prefix": "rm(",
     "library": "var_list.r",
     "varRefreshCmd": "cat(var_dic_list()) "
    }
   },
   "position": {
    "height": "499px",
    "left": "1070px",
    "right": "17px",
    "top": "120px",
    "width": "353px"
   },
   "types_to_exclude": [
    "module",
    "function",
    "builtin_function_or_method",
    "instance",
    "_Feature"
   ],
   "window_display": false
  }
 },
 "nbformat": 4,
 "nbformat_minor": 2
}
