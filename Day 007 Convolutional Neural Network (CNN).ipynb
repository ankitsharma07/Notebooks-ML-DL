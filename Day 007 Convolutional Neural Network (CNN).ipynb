{
 "cells": [
  {
   "cell_type": "markdown",
   "metadata": {
    "toc": true
   },
   "source": [
    "<h1>Table of Contents<span class=\"tocSkip\"></span></h1>\n",
    "<div class=\"toc\"><ul class=\"toc-item\"><li><span><a href=\"#Data-Preprocessing\" data-toc-modified-id=\"Data-Preprocessing-1\">Data Preprocessing</a></span></li><li><span><a href=\"#Part-1---Building-the-Convolutional-Neural-Network\" data-toc-modified-id=\"Part-1---Building-the-Convolutional-Neural-Network-2\">Part 1 - Building the Convolutional Neural Network</a></span><ul class=\"toc-item\"><li><span><a href=\"#Importing-the-libraries-and-packages\" data-toc-modified-id=\"Importing-the-libraries-and-packages-2.1\">Importing the libraries and packages</a></span></li></ul></li><li><span><a href=\"#Initialising-the-CNN\" data-toc-modified-id=\"Initialising-the-CNN-3\">Initialising the CNN</a></span><ul class=\"toc-item\"><li><span><a href=\"#Step-1:-Convolution\" data-toc-modified-id=\"Step-1:-Convolution-3.1\">Step 1: Convolution</a></span></li><li><span><a href=\"#Step-2:-Max-Pooling\" data-toc-modified-id=\"Step-2:-Max-Pooling-3.2\">Step 2: Max Pooling</a></span></li><li><span><a href=\"#Step-3:-Flatten\" data-toc-modified-id=\"Step-3:-Flatten-3.3\">Step 3: Flatten</a></span></li><li><span><a href=\"#Step-4:-Full-Connection\" data-toc-modified-id=\"Step-4:-Full-Connection-3.4\">Step 4: Full Connection</a></span></li></ul></li><li><span><a href=\"#Compiling-the-CNN\" data-toc-modified-id=\"Compiling-the-CNN-4\">Compiling the CNN</a></span></li><li><span><a href=\"#Part-2---Fitting-the-CNN-to-the-Images.\" data-toc-modified-id=\"Part-2---Fitting-the-CNN-to-the-Images.-5\">Part 2 - Fitting the CNN to the Images.</a></span><ul class=\"toc-item\"><li><ul class=\"toc-item\"><li><ul class=\"toc-item\"><li><span><a href=\"#To-increase-accuracy-we-add-more-convolutional-layers\" data-toc-modified-id=\"To-increase-accuracy-we-add-more-convolutional-layers-5.0.0.1\">To increase accuracy we add more convolutional layers</a></span></li></ul></li></ul></li></ul></li></ul></div>"
   ]
  },
  {
   "cell_type": "markdown",
   "metadata": {},
   "source": [
    "# Data Preprocessing\n",
    "\n",
    "* Since, we already made different folders for different training and testing images of dogs and cats.\n",
    "\n",
    "* We don't need to preprocess the data anymore.\n"
   ]
  },
  {
   "cell_type": "markdown",
   "metadata": {},
   "source": [
    "# Part 1 - Building the Convolutional Neural Network"
   ]
  },
  {
   "cell_type": "markdown",
   "metadata": {},
   "source": [
    "## Importing the libraries and packages"
   ]
  },
  {
   "cell_type": "code",
   "execution_count": 12,
   "metadata": {
    "ExecuteTime": {
     "end_time": "2018-04-25T13:29:03.120334Z",
     "start_time": "2018-04-25T13:29:03.114468Z"
    }
   },
   "outputs": [],
   "source": [
    "from keras.models import Sequential\n",
    "from keras.layers import Convolution2D\n",
    "from keras.layers import MaxPooling2D\n",
    "from keras.layers import Flatten\n",
    "from keras.layers import Dense\n",
    "\n",
    "from keras.preprocessing.image import ImageDataGenerator"
   ]
  },
  {
   "cell_type": "markdown",
   "metadata": {},
   "source": [
    "# Initialising the CNN"
   ]
  },
  {
   "cell_type": "code",
   "execution_count": 3,
   "metadata": {
    "ExecuteTime": {
     "end_time": "2018-04-25T11:46:31.794229Z",
     "start_time": "2018-04-25T11:46:31.790863Z"
    }
   },
   "outputs": [],
   "source": [
    "classifier = Sequential()"
   ]
  },
  {
   "cell_type": "markdown",
   "metadata": {},
   "source": [
    "## Step 1: Convolution"
   ]
  },
  {
   "cell_type": "code",
   "execution_count": 6,
   "metadata": {
    "ExecuteTime": {
     "end_time": "2018-04-25T12:00:05.363117Z",
     "start_time": "2018-04-25T12:00:05.289225Z"
    }
   },
   "outputs": [
    {
     "name": "stderr",
     "output_type": "stream",
     "text": [
      "/usr/local/Cellar/python3/3.6.4_2/Frameworks/Python.framework/Versions/3.6/lib/python3.6/site-packages/ipykernel_launcher.py:1: UserWarning: Update your `Conv2D` call to the Keras 2 API: `Conv2D(32, (3, 3), input_shape=(64, 64, 3..., activation=\"relu\")`\n",
      "  \"\"\"Entry point for launching an IPython kernel.\n"
     ]
    }
   ],
   "source": [
    "classifier.add(Convolution2D(32, 3, 3, input_shape = (64, 64, 3), activation = \"relu\"))\n",
    "               \n",
    "# 32 filters of 3x3 \n",
    "# input_shape: converting our images to same shape\n",
    "# activation function: Rectifier activation function               "
   ]
  },
  {
   "cell_type": "markdown",
   "metadata": {},
   "source": [
    "## Step 2: Max Pooling"
   ]
  },
  {
   "cell_type": "code",
   "execution_count": 7,
   "metadata": {
    "ExecuteTime": {
     "end_time": "2018-04-25T12:04:37.417199Z",
     "start_time": "2018-04-25T12:04:37.411463Z"
    }
   },
   "outputs": [],
   "source": [
    "classifier.add(MaxPooling2D(pool_size=(2, 2)))"
   ]
  },
  {
   "cell_type": "markdown",
   "metadata": {},
   "source": [
    "## Step 3: Flatten"
   ]
  },
  {
   "cell_type": "code",
   "execution_count": 8,
   "metadata": {
    "ExecuteTime": {
     "end_time": "2018-04-25T12:06:23.099038Z",
     "start_time": "2018-04-25T12:06:23.081769Z"
    }
   },
   "outputs": [],
   "source": [
    "classifier.add(Flatten())"
   ]
  },
  {
   "cell_type": "markdown",
   "metadata": {},
   "source": [
    "## Step 4: Full Connection"
   ]
  },
  {
   "cell_type": "code",
   "execution_count": 9,
   "metadata": {
    "ExecuteTime": {
     "end_time": "2018-04-25T12:09:42.820043Z",
     "start_time": "2018-04-25T12:09:42.784329Z"
    }
   },
   "outputs": [
    {
     "name": "stderr",
     "output_type": "stream",
     "text": [
      "/usr/local/Cellar/python3/3.6.4_2/Frameworks/Python.framework/Versions/3.6/lib/python3.6/site-packages/ipykernel_launcher.py:1: UserWarning: Update your `Dense` call to the Keras 2 API: `Dense(activation=\"relu\", units=128)`\n",
      "  \"\"\"Entry point for launching an IPython kernel.\n",
      "/usr/local/Cellar/python3/3.6.4_2/Frameworks/Python.framework/Versions/3.6/lib/python3.6/site-packages/ipykernel_launcher.py:3: UserWarning: Update your `Dense` call to the Keras 2 API: `Dense(activation=\"sigmoid\", units=1)`\n",
      "  This is separate from the ipykernel package so we can avoid doing imports until\n"
     ]
    }
   ],
   "source": [
    "classifier.add(Dense(output_dim = 128, activation = \"relu\")) #hidden layer\n",
    "\n",
    "classifier.add(Dense(output_dim = 1, activation = \"sigmoid\")) #output layer"
   ]
  },
  {
   "cell_type": "markdown",
   "metadata": {},
   "source": [
    "# Compiling the CNN"
   ]
  },
  {
   "cell_type": "code",
   "execution_count": 11,
   "metadata": {
    "ExecuteTime": {
     "end_time": "2018-04-25T12:13:11.473095Z",
     "start_time": "2018-04-25T12:13:11.402606Z"
    }
   },
   "outputs": [],
   "source": [
    "classifier.compile(optimizer = \"adam\", loss = \"binary_crossentropy\", metrics = [\"accuracy\"]) #Stochastic Gradient Descent = Adam\n"
   ]
  },
  {
   "cell_type": "markdown",
   "metadata": {},
   "source": [
    "# Part 2 - Fitting the CNN to the Images."
   ]
  },
  {
   "cell_type": "code",
   "execution_count": null,
   "metadata": {
    "ExecuteTime": {
     "start_time": "2018-04-25T13:38:47.200Z"
    }
   },
   "outputs": [
    {
     "name": "stdout",
     "output_type": "stream",
     "text": [
      "Found 8000 images belonging to 2 classes.\n",
      "Found 2000 images belonging to 2 classes.\n",
      "Epoch 1/25\n",
      "8000/8000 [==============================] - 7802s 975ms/step - loss: 0.3929 - acc: 0.8147 - val_loss: 0.6789 - val_acc: 0.7600\n",
      "Epoch 2/25\n",
      " 485/8000 [>.............................] - ETA: 39:04 - loss: 0.2278 - acc: 0.9064"
     ]
    }
   ],
   "source": [
    "train_datagen = ImageDataGenerator(\n",
    "        rescale=1./255,\n",
    "        shear_range=0.2,\n",
    "        zoom_range=0.2,\n",
    "        horizontal_flip=True)\n",
    "\n",
    "test_datagen = ImageDataGenerator(rescale=1./255)\n",
    "\n",
    "training_set = train_datagen.flow_from_directory(\n",
    "        '/Users/ankitsharma/Documents/Documents/Stuff/Machine Learning/Udemy Course/Part 8 - Deep Learning/Convolutional Neural Networks (CNN)/dataset/training_set',\n",
    "        target_size=(64, 64),\n",
    "        batch_size=32,\n",
    "        class_mode='binary')\n",
    "\n",
    "test_set = test_datagen.flow_from_directory(\n",
    "        '/Users/ankitsharma/Documents/Documents/Stuff/Machine Learning/Udemy Course/Part 8 - Deep Learning/Convolutional Neural Networks (CNN)/dataset/test_set',\n",
    "        target_size=(64, 64),\n",
    "        batch_size=32,\n",
    "        class_mode='binary')\n",
    "\n",
    "classifier.fit_generator(\n",
    "        training_set,\n",
    "        steps_per_epoch = 8000,\n",
    "        epochs = 25,\n",
    "        validation_data = test_set,\n",
    "        validation_steps=2000)"
   ]
  },
  {
   "cell_type": "markdown",
   "metadata": {},
   "source": [
    "#### To increase accuracy we add more convolutional layers\n",
    "\n",
    "* Adding a 2nd convolutional layer for this data\n",
    "\n",
    "``` python\n",
    "    classifier.add(Convolution2D(32, 3, 3, activation = \"relu\"))\n",
    "    #maxPooling\n",
    "    \n",
    "    classifier.add(MaxPooling2D(pool_size = (2, 2)))\n",
    "```"
   ]
  }
 ],
 "metadata": {
  "kernelspec": {
   "display_name": "Python 3",
   "language": "python",
   "name": "python3"
  },
  "language_info": {
   "codemirror_mode": {
    "name": "ipython",
    "version": 3
   },
   "file_extension": ".py",
   "mimetype": "text/x-python",
   "name": "python",
   "nbconvert_exporter": "python",
   "pygments_lexer": "ipython3",
   "version": "3.6.4"
  },
  "toc": {
   "nav_menu": {},
   "number_sections": false,
   "sideBar": true,
   "skip_h1_title": false,
   "title_cell": "Table of Contents",
   "title_sidebar": "Contents",
   "toc_cell": true,
   "toc_position": {},
   "toc_section_display": true,
   "toc_window_display": false
  },
  "varInspector": {
   "cols": {
    "lenName": 16,
    "lenType": 16,
    "lenVar": 40
   },
   "kernels_config": {
    "python": {
     "delete_cmd_postfix": "",
     "delete_cmd_prefix": "del ",
     "library": "var_list.py",
     "varRefreshCmd": "print(var_dic_list())"
    },
    "r": {
     "delete_cmd_postfix": ") ",
     "delete_cmd_prefix": "rm(",
     "library": "var_list.r",
     "varRefreshCmd": "cat(var_dic_list()) "
    }
   },
   "types_to_exclude": [
    "module",
    "function",
    "builtin_function_or_method",
    "instance",
    "_Feature"
   ],
   "window_display": false
  }
 },
 "nbformat": 4,
 "nbformat_minor": 2
}
