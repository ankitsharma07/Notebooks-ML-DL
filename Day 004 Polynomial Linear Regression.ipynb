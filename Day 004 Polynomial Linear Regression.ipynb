{
 "cells": [
  {
   "cell_type": "markdown",
   "metadata": {
    "toc": true
   },
   "source": [
    "<h1>Table of Contents<span class=\"tocSkip\"></span></h1>\n",
    "<div class=\"toc\"><ul class=\"toc-item\"><li><span><a href=\"#Polynomial-Linear-Regression\" data-toc-modified-id=\"Polynomial-Linear-Regression-1\"><span class=\"toc-item-num\">1&nbsp;&nbsp;</span>Polynomial Linear Regression</a></span><ul class=\"toc-item\"><li><span><a href=\"#Import-the-Data-Preprocessing-template-we-created-earlier.\" data-toc-modified-id=\"Import-the-Data-Preprocessing-template-we-created-earlier.-1.1\"><span class=\"toc-item-num\">1.1&nbsp;&nbsp;</span>Import the Data Preprocessing template we created earlier.</a></span></li><li><span><a href=\"#Fraud-Detection\" data-toc-modified-id=\"Fraud-Detection-1.2\"><span class=\"toc-item-num\">1.2&nbsp;&nbsp;</span>Fraud Detection</a></span></li><li><span><a href=\"#Split-the-dataset-in-training-and-testing-set\" data-toc-modified-id=\"Split-the-dataset-in-training-and-testing-set-1.3\"><span class=\"toc-item-num\">1.3&nbsp;&nbsp;</span>Split the dataset in training and testing set</a></span></li></ul></li><li><span><a href=\"#Fitting-Linear-Regression-Model\" data-toc-modified-id=\"Fitting-Linear-Regression-Model-2\"><span class=\"toc-item-num\">2&nbsp;&nbsp;</span>Fitting Linear Regression Model</a></span></li><li><span><a href=\"#Fitting-Polynomial-Regression-to-the-dataset\" data-toc-modified-id=\"Fitting-Polynomial-Regression-to-the-dataset-3\"><span class=\"toc-item-num\">3&nbsp;&nbsp;</span>Fitting Polynomial Regression to the dataset</a></span></li><li><span><a href=\"#Visualising-the-Results\" data-toc-modified-id=\"Visualising-the-Results-4\"><span class=\"toc-item-num\">4&nbsp;&nbsp;</span>Visualising the Results</a></span><ul class=\"toc-item\"><li><span><a href=\"#Linear-Regression\" data-toc-modified-id=\"Linear-Regression-4.1\"><span class=\"toc-item-num\">4.1&nbsp;&nbsp;</span>Linear Regression</a></span></li><li><span><a href=\"#Polynomial-Regression\" data-toc-modified-id=\"Polynomial-Regression-4.2\"><span class=\"toc-item-num\">4.2&nbsp;&nbsp;</span>Polynomial Regression</a></span><ul class=\"toc-item\"><li><ul class=\"toc-item\"><li><span><a href=\"#We-can-change-the-degree-and-make-the-model-even-better.\" data-toc-modified-id=\"We-can-change-the-degree-and-make-the-model-even-better.-4.2.0.1\"><span class=\"toc-item-num\">4.2.0.1&nbsp;&nbsp;</span>We can change the degree and make the model even better.</a></span></li></ul></li></ul></li></ul></li><li><span><a href=\"#Predicting-a-new-Result\" data-toc-modified-id=\"Predicting-a-new-Result-5\"><span class=\"toc-item-num\">5&nbsp;&nbsp;</span>Predicting a new Result</a></span><ul class=\"toc-item\"><li><span><a href=\"#Linear-Regression-Model\" data-toc-modified-id=\"Linear-Regression-Model-5.1\"><span class=\"toc-item-num\">5.1&nbsp;&nbsp;</span>Linear Regression Model</a></span></li><li><span><a href=\"#Polynomial-Regression-Model\" data-toc-modified-id=\"Polynomial-Regression-Model-5.2\"><span class=\"toc-item-num\">5.2&nbsp;&nbsp;</span>Polynomial Regression Model</a></span></li></ul></li></ul></div>"
   ]
  },
  {
   "cell_type": "markdown",
   "metadata": {},
   "source": [
    "# Polynomial Linear Regression\n",
    "\n",
    "\n",
    "> $y = \\beta_0 + \\beta_1X_1 + \\beta_2X_1^2 + …. + \\beta_nX_1^n$"
   ]
  },
  {
   "cell_type": "markdown",
   "metadata": {},
   "source": [
    "## Import the Data Preprocessing template we created earlier."
   ]
  },
  {
   "cell_type": "code",
   "execution_count": 13,
   "metadata": {
    "ExecuteTime": {
     "end_time": "2018-04-15T13:55:07.883149Z",
     "start_time": "2018-04-15T13:55:07.877331Z"
    }
   },
   "outputs": [],
   "source": [
    "import numpy as np\n",
    "import pandas as pd\n",
    "import matplotlib.pyplot as plt\n",
    "\n",
    "from sklearn.cross_validation import train_test_split\n",
    "\n",
    "from sklearn.linear_model import LinearRegression\n",
    "\n",
    "from sklearn.preprocessing import PolynomialFeatures"
   ]
  },
  {
   "cell_type": "code",
   "execution_count": 3,
   "metadata": {
    "ExecuteTime": {
     "end_time": "2018-04-14T11:17:46.129583Z",
     "start_time": "2018-04-14T11:17:46.115479Z"
    }
   },
   "outputs": [],
   "source": [
    "# Importing the dataset\n",
    "\n",
    "dataset = pd.read_csv(\"/Users/ankitsharma/Documents/Documents/Stuff/Machine Learning/Udemy Course/Part 2 - Regression/3. Polynomial Regression/Position_Salaries.csv\")"
   ]
  },
  {
   "cell_type": "code",
   "execution_count": 4,
   "metadata": {
    "ExecuteTime": {
     "end_time": "2018-04-14T11:17:59.148256Z",
     "start_time": "2018-04-14T11:17:59.135128Z"
    }
   },
   "outputs": [
    {
     "data": {
      "text/html": [
       "<div>\n",
       "<style scoped>\n",
       "    .dataframe tbody tr th:only-of-type {\n",
       "        vertical-align: middle;\n",
       "    }\n",
       "\n",
       "    .dataframe tbody tr th {\n",
       "        vertical-align: top;\n",
       "    }\n",
       "\n",
       "    .dataframe thead th {\n",
       "        text-align: right;\n",
       "    }\n",
       "</style>\n",
       "<table border=\"1\" class=\"dataframe\">\n",
       "  <thead>\n",
       "    <tr style=\"text-align: right;\">\n",
       "      <th></th>\n",
       "      <th>Position</th>\n",
       "      <th>Level</th>\n",
       "      <th>Salary</th>\n",
       "    </tr>\n",
       "  </thead>\n",
       "  <tbody>\n",
       "    <tr>\n",
       "      <th>0</th>\n",
       "      <td>Business Analyst</td>\n",
       "      <td>1</td>\n",
       "      <td>45000</td>\n",
       "    </tr>\n",
       "    <tr>\n",
       "      <th>1</th>\n",
       "      <td>Junior Consultant</td>\n",
       "      <td>2</td>\n",
       "      <td>50000</td>\n",
       "    </tr>\n",
       "    <tr>\n",
       "      <th>2</th>\n",
       "      <td>Senior Consultant</td>\n",
       "      <td>3</td>\n",
       "      <td>60000</td>\n",
       "    </tr>\n",
       "    <tr>\n",
       "      <th>3</th>\n",
       "      <td>Manager</td>\n",
       "      <td>4</td>\n",
       "      <td>80000</td>\n",
       "    </tr>\n",
       "    <tr>\n",
       "      <th>4</th>\n",
       "      <td>Country Manager</td>\n",
       "      <td>5</td>\n",
       "      <td>110000</td>\n",
       "    </tr>\n",
       "  </tbody>\n",
       "</table>\n",
       "</div>"
      ],
      "text/plain": [
       "            Position  Level  Salary\n",
       "0   Business Analyst      1   45000\n",
       "1  Junior Consultant      2   50000\n",
       "2  Senior Consultant      3   60000\n",
       "3            Manager      4   80000\n",
       "4    Country Manager      5  110000"
      ]
     },
     "execution_count": 4,
     "metadata": {},
     "output_type": "execute_result"
    }
   ],
   "source": [
    "dataset.head()"
   ]
  },
  {
   "cell_type": "code",
   "execution_count": 5,
   "metadata": {
    "ExecuteTime": {
     "end_time": "2018-04-14T11:19:24.431817Z",
     "start_time": "2018-04-14T11:19:24.420361Z"
    }
   },
   "outputs": [
    {
     "data": {
      "text/html": [
       "<div>\n",
       "<style scoped>\n",
       "    .dataframe tbody tr th:only-of-type {\n",
       "        vertical-align: middle;\n",
       "    }\n",
       "\n",
       "    .dataframe tbody tr th {\n",
       "        vertical-align: top;\n",
       "    }\n",
       "\n",
       "    .dataframe thead th {\n",
       "        text-align: right;\n",
       "    }\n",
       "</style>\n",
       "<table border=\"1\" class=\"dataframe\">\n",
       "  <thead>\n",
       "    <tr style=\"text-align: right;\">\n",
       "      <th></th>\n",
       "      <th>Position</th>\n",
       "      <th>Level</th>\n",
       "      <th>Salary</th>\n",
       "    </tr>\n",
       "  </thead>\n",
       "  <tbody>\n",
       "    <tr>\n",
       "      <th>0</th>\n",
       "      <td>Business Analyst</td>\n",
       "      <td>1</td>\n",
       "      <td>45000</td>\n",
       "    </tr>\n",
       "    <tr>\n",
       "      <th>1</th>\n",
       "      <td>Junior Consultant</td>\n",
       "      <td>2</td>\n",
       "      <td>50000</td>\n",
       "    </tr>\n",
       "    <tr>\n",
       "      <th>2</th>\n",
       "      <td>Senior Consultant</td>\n",
       "      <td>3</td>\n",
       "      <td>60000</td>\n",
       "    </tr>\n",
       "    <tr>\n",
       "      <th>3</th>\n",
       "      <td>Manager</td>\n",
       "      <td>4</td>\n",
       "      <td>80000</td>\n",
       "    </tr>\n",
       "    <tr>\n",
       "      <th>4</th>\n",
       "      <td>Country Manager</td>\n",
       "      <td>5</td>\n",
       "      <td>110000</td>\n",
       "    </tr>\n",
       "    <tr>\n",
       "      <th>5</th>\n",
       "      <td>Region Manager</td>\n",
       "      <td>6</td>\n",
       "      <td>150000</td>\n",
       "    </tr>\n",
       "    <tr>\n",
       "      <th>6</th>\n",
       "      <td>Partner</td>\n",
       "      <td>7</td>\n",
       "      <td>200000</td>\n",
       "    </tr>\n",
       "    <tr>\n",
       "      <th>7</th>\n",
       "      <td>Senior Partner</td>\n",
       "      <td>8</td>\n",
       "      <td>300000</td>\n",
       "    </tr>\n",
       "    <tr>\n",
       "      <th>8</th>\n",
       "      <td>C-level</td>\n",
       "      <td>9</td>\n",
       "      <td>500000</td>\n",
       "    </tr>\n",
       "    <tr>\n",
       "      <th>9</th>\n",
       "      <td>CEO</td>\n",
       "      <td>10</td>\n",
       "      <td>1000000</td>\n",
       "    </tr>\n",
       "  </tbody>\n",
       "</table>\n",
       "</div>"
      ],
      "text/plain": [
       "            Position  Level   Salary\n",
       "0   Business Analyst      1    45000\n",
       "1  Junior Consultant      2    50000\n",
       "2  Senior Consultant      3    60000\n",
       "3            Manager      4    80000\n",
       "4    Country Manager      5   110000\n",
       "5     Region Manager      6   150000\n",
       "6            Partner      7   200000\n",
       "7     Senior Partner      8   300000\n",
       "8            C-level      9   500000\n",
       "9                CEO     10  1000000"
      ]
     },
     "execution_count": 5,
     "metadata": {},
     "output_type": "execute_result"
    }
   ],
   "source": [
    "dataset"
   ]
  },
  {
   "cell_type": "markdown",
   "metadata": {},
   "source": [
    "## Fraud Detection\n",
    "\n",
    "> A new employee came and says he's getting 160k salary. Let's predict if he's bluffing or what?\n",
    "\n",
    "> The table is already encoded as level. So, we don't need the **Position** column\n",
    "\n",
    "* 0th index is for Position\n",
    "* 1st index - Level\n",
    "* 2nd index - Salary"
   ]
  },
  {
   "cell_type": "code",
   "execution_count": 6,
   "metadata": {
    "ExecuteTime": {
     "end_time": "2018-04-15T09:38:19.505913Z",
     "start_time": "2018-04-15T09:38:19.483741Z"
    }
   },
   "outputs": [],
   "source": [
    "X = dataset.iloc[:, 1].values\n",
    "y = dataset.iloc[:, 2].values"
   ]
  },
  {
   "cell_type": "code",
   "execution_count": 7,
   "metadata": {
    "ExecuteTime": {
     "end_time": "2018-04-15T09:40:20.355968Z",
     "start_time": "2018-04-15T09:40:20.295309Z"
    }
   },
   "outputs": [],
   "source": [
    "# X is identified as vector and not a matrix so we will change it to matrix by\n",
    "\n",
    "X = dataset.iloc[:, 1:2].values #not including the column at index 2"
   ]
  },
  {
   "cell_type": "markdown",
   "metadata": {},
   "source": [
    "**Note**: Always make sure that **X** is a matrix and **y** is a vector."
   ]
  },
  {
   "cell_type": "code",
   "execution_count": 8,
   "metadata": {
    "ExecuteTime": {
     "end_time": "2018-04-15T09:49:15.406560Z",
     "start_time": "2018-04-15T09:49:15.372097Z"
    }
   },
   "outputs": [
    {
     "data": {
      "text/plain": [
       "array([[ 1],\n",
       "       [ 2],\n",
       "       [ 3],\n",
       "       [ 4],\n",
       "       [ 5],\n",
       "       [ 6],\n",
       "       [ 7],\n",
       "       [ 8],\n",
       "       [ 9],\n",
       "       [10]])"
      ]
     },
     "execution_count": 8,
     "metadata": {},
     "output_type": "execute_result"
    }
   ],
   "source": [
    "X"
   ]
  },
  {
   "cell_type": "code",
   "execution_count": 9,
   "metadata": {
    "ExecuteTime": {
     "end_time": "2018-04-15T09:49:19.435671Z",
     "start_time": "2018-04-15T09:49:19.430509Z"
    }
   },
   "outputs": [
    {
     "data": {
      "text/plain": [
       "array([  45000,   50000,   60000,   80000,  110000,  150000,  200000,\n",
       "        300000,  500000, 1000000])"
      ]
     },
     "execution_count": 9,
     "metadata": {},
     "output_type": "execute_result"
    }
   ],
   "source": [
    "y"
   ]
  },
  {
   "cell_type": "markdown",
   "metadata": {},
   "source": [
    "## Split the dataset in training and testing set\n"
   ]
  },
  {
   "cell_type": "markdown",
   "metadata": {},
   "source": [
    "* Since, the dataset is too small. We don't need to make testing and training sets."
   ]
  },
  {
   "cell_type": "markdown",
   "metadata": {},
   "source": [
    "# Fitting Linear Regression Model"
   ]
  },
  {
   "cell_type": "code",
   "execution_count": 12,
   "metadata": {
    "ExecuteTime": {
     "end_time": "2018-04-15T13:54:04.056978Z",
     "start_time": "2018-04-15T13:54:04.044041Z"
    }
   },
   "outputs": [
    {
     "name": "stderr",
     "output_type": "stream",
     "text": [
      "/usr/local/Cellar/python3/3.6.4_2/Frameworks/Python.framework/Versions/3.6/lib/python3.6/site-packages/scipy/linalg/basic.py:1226: RuntimeWarning: internal gelsd driver lwork query error, required iwork dimension not returned. This is likely the result of LAPACK bug 0038, fixed in LAPACK 3.2.2 (released July 21, 2010). Falling back to 'gelss' driver.\n",
      "  warnings.warn(mesg, RuntimeWarning)\n"
     ]
    },
    {
     "data": {
      "text/plain": [
       "LinearRegression(copy_X=True, fit_intercept=True, n_jobs=1, normalize=False)"
      ]
     },
     "execution_count": 12,
     "metadata": {},
     "output_type": "execute_result"
    }
   ],
   "source": [
    "lin_reg = LinearRegression()\n",
    "lin_reg.fit(X, y)"
   ]
  },
  {
   "cell_type": "markdown",
   "metadata": {},
   "source": [
    "# Fitting Polynomial Regression to the dataset"
   ]
  },
  {
   "cell_type": "code",
   "execution_count": 14,
   "metadata": {
    "ExecuteTime": {
     "end_time": "2018-04-15T14:04:17.717698Z",
     "start_time": "2018-04-15T14:04:17.711955Z"
    }
   },
   "outputs": [],
   "source": [
    "poly_reg = PolynomialFeatures(degree = 2)\n",
    "\n",
    "X_poly = poly_reg.fit_transform(X)"
   ]
  },
  {
   "cell_type": "code",
   "execution_count": 16,
   "metadata": {
    "ExecuteTime": {
     "end_time": "2018-04-15T14:42:46.550318Z",
     "start_time": "2018-04-15T14:42:46.547236Z"
    }
   },
   "outputs": [],
   "source": [
    "np.set_printoptions(formatter={'float_kind':'{:0.1f}'.format})"
   ]
  },
  {
   "cell_type": "code",
   "execution_count": 17,
   "metadata": {
    "ExecuteTime": {
     "end_time": "2018-04-15T14:42:48.655239Z",
     "start_time": "2018-04-15T14:42:48.650729Z"
    }
   },
   "outputs": [
    {
     "name": "stdout",
     "output_type": "stream",
     "text": [
      "[[1.0 1.0 1.0]\n",
      " [1.0 2.0 4.0]\n",
      " [1.0 3.0 9.0]\n",
      " [1.0 4.0 16.0]\n",
      " [1.0 5.0 25.0]\n",
      " [1.0 6.0 36.0]\n",
      " [1.0 7.0 49.0]\n",
      " [1.0 8.0 64.0]\n",
      " [1.0 9.0 81.0]\n",
      " [1.0 10.0 100.0]]\n"
     ]
    }
   ],
   "source": [
    "print(X_poly)"
   ]
  },
  {
   "cell_type": "markdown",
   "metadata": {},
   "source": [
    "* **What is the 1's in the column 0?**\n",
    "> poly_reg() included this as a constant which we can use when we have to deal with certain libraries."
   ]
  },
  {
   "cell_type": "code",
   "execution_count": 19,
   "metadata": {
    "ExecuteTime": {
     "end_time": "2018-04-15T14:46:35.709522Z",
     "start_time": "2018-04-15T14:46:35.701094Z"
    }
   },
   "outputs": [
    {
     "data": {
      "text/plain": [
       "LinearRegression(copy_X=True, fit_intercept=True, n_jobs=1, normalize=False)"
      ]
     },
     "execution_count": 19,
     "metadata": {},
     "output_type": "execute_result"
    }
   ],
   "source": [
    "# To fit the poly_reg to our linear regression \n",
    "\n",
    "lin_reg_2 = LinearRegression()\n",
    "lin_reg_2.fit(X_poly, y)"
   ]
  },
  {
   "cell_type": "markdown",
   "metadata": {},
   "source": [
    "# Visualising the Results\n",
    "\n",
    "\n",
    "## Linear Regression"
   ]
  },
  {
   "cell_type": "code",
   "execution_count": 20,
   "metadata": {
    "ExecuteTime": {
     "end_time": "2018-04-15T14:56:23.979477Z",
     "start_time": "2018-04-15T14:56:23.737769Z"
    }
   },
   "outputs": [
    {
     "data": {
      "image/png": "[encoded data removed]",
      "text/plain": [
       "<matplotlib.figure.Figure at 0x1107a6b00>"
      ]
     },
     "metadata": {},
     "output_type": "display_data"
    }
   ],
   "source": [
    "#Plotting the real graph\n",
    "plt.scatter(X, y, color = \"red\")\n",
    "\n",
    "#plotting graph based on the predictor made\n",
    "plt.plot(X, lin_reg.predict(X), color = \"blue\")\n",
    "\n",
    "#adding titles\n",
    "plt.title(\"Truth or Bluff (Linear Regression)\")\n",
    "\n",
    "plt.xlabel(\"Position Level\")\n",
    "plt.ylabel(\"Salary\")\n",
    "\n",
    "plt.show()"
   ]
  },
  {
   "cell_type": "markdown",
   "metadata": {},
   "source": [
    "The points are quite far from the prediction straight line. So, this is not a very great prediction."
   ]
  },
  {
   "cell_type": "markdown",
   "metadata": {},
   "source": [
    "## Polynomial Regression"
   ]
  },
  {
   "cell_type": "code",
   "execution_count": 22,
   "metadata": {
    "ExecuteTime": {
     "end_time": "2018-04-15T19:48:50.097599Z",
     "start_time": "2018-04-15T19:48:49.906775Z"
    }
   },
   "outputs": [
    {
     "data": {
      "image/png": "[encoded data removed]",
      "text/plain": [
       "<matplotlib.figure.Figure at 0x10cb545f8>"
      ]
     },
     "metadata": {},
     "output_type": "display_data"
    }
   ],
   "source": [
    "#Plotting the real graph\n",
    "plt.scatter(X, y, color = \"red\")\n",
    "\n",
    "#plotting graph based on the predictor made\n",
    "plt.plot(X, lin_reg_2.predict(poly_reg.fit_transform(X)), color = \"blue\")\n",
    "\n",
    "#adding titles\n",
    "plt.title(\"Truth or Bluff (Polynomial Regression)\")\n",
    "\n",
    "plt.xlabel(\"Position Level\")\n",
    "plt.ylabel(\"Salary\")\n",
    "\n",
    "plt.show()"
   ]
  },
  {
   "cell_type": "markdown",
   "metadata": {},
   "source": [
    "#### We can change the degree and make the model even better."
   ]
  },
  {
   "cell_type": "code",
   "execution_count": 23,
   "metadata": {
    "ExecuteTime": {
     "end_time": "2018-04-15T19:53:20.724951Z",
     "start_time": "2018-04-15T19:53:20.715638Z"
    }
   },
   "outputs": [
    {
     "data": {
      "text/plain": [
       "LinearRegression(copy_X=True, fit_intercept=True, n_jobs=1, normalize=False)"
      ]
     },
     "execution_count": 23,
     "metadata": {},
     "output_type": "execute_result"
    }
   ],
   "source": [
    "#change the degree to 3\n",
    "poly_reg = PolynomialFeatures(degree = 3)\n",
    "\n",
    "X_poly = poly_reg.fit_transform(X)\n",
    "\n",
    "# To fit the poly_reg to our linear regression \n",
    "\n",
    "lin_reg_2 = LinearRegression()\n",
    "lin_reg_2.fit(X_poly, y)"
   ]
  },
  {
   "cell_type": "code",
   "execution_count": 24,
   "metadata": {
    "ExecuteTime": {
     "end_time": "2018-04-15T19:53:34.267007Z",
     "start_time": "2018-04-15T19:53:34.078846Z"
    }
   },
   "outputs": [
    {
     "data": {
      "image/png": "[encoded data removed]",
      "text/plain": [
       "<matplotlib.figure.Figure at 0x10cb54ba8>"
      ]
     },
     "metadata": {},
     "output_type": "display_data"
    }
   ],
   "source": [
    "#Plotting the real graph\n",
    "plt.scatter(X, y, color = \"red\")\n",
    "\n",
    "#plotting graph based on the predictor made\n",
    "plt.plot(X, lin_reg_2.predict(poly_reg.fit_transform(X)), color = \"blue\")\n",
    "\n",
    "#adding titles\n",
    "plt.title(\"Truth or Bluff (Polynomial Regression)\")\n",
    "\n",
    "plt.xlabel(\"Position Level\")\n",
    "plt.ylabel(\"Salary\")\n",
    "\n",
    "plt.show()"
   ]
  },
  {
   "cell_type": "code",
   "execution_count": 25,
   "metadata": {
    "ExecuteTime": {
     "end_time": "2018-04-15T19:57:09.630525Z",
     "start_time": "2018-04-15T19:57:09.621735Z"
    }
   },
   "outputs": [
    {
     "data": {
      "text/plain": [
       "LinearRegression(copy_X=True, fit_intercept=True, n_jobs=1, normalize=False)"
      ]
     },
     "execution_count": 25,
     "metadata": {},
     "output_type": "execute_result"
    }
   ],
   "source": [
    "#change the degree to 4\n",
    "poly_reg = PolynomialFeatures(degree = 4)\n",
    "\n",
    "X_poly = poly_reg.fit_transform(X)\n",
    "\n",
    "# To fit the poly_reg to our linear regression \n",
    "\n",
    "lin_reg_2 = LinearRegression()\n",
    "lin_reg_2.fit(X_poly, y)"
   ]
  },
  {
   "cell_type": "code",
   "execution_count": 26,
   "metadata": {
    "ExecuteTime": {
     "end_time": "2018-04-15T19:57:18.006205Z",
     "start_time": "2018-04-15T19:57:17.812807Z"
    }
   },
   "outputs": [
    {
     "data": {
      "image/png": "[encoded data removed]",
      "text/plain": [
       "<matplotlib.figure.Figure at 0x1116ac978>"
      ]
     },
     "metadata": {},
     "output_type": "display_data"
    }
   ],
   "source": [
    "#Plotting the real graph\n",
    "plt.scatter(X, y, color = \"red\")\n",
    "\n",
    "#plotting graph based on the predictor made\n",
    "plt.plot(X, lin_reg_2.predict(poly_reg.fit_transform(X)), color = \"blue\")\n",
    "\n",
    "#adding titles\n",
    "plt.title(\"Truth or Bluff (Polynomial Regression)\")\n",
    "\n",
    "plt.xlabel(\"Position Level\")\n",
    "plt.ylabel(\"Salary\")\n",
    "\n",
    "plt.show()"
   ]
  },
  {
   "cell_type": "markdown",
   "metadata": {},
   "source": [
    "To make our curve look more beautiful\n",
    "\n",
    "we can use the numpy features"
   ]
  },
  {
   "cell_type": "code",
   "execution_count": 27,
   "metadata": {
    "ExecuteTime": {
     "end_time": "2018-04-15T20:10:44.525538Z",
     "start_time": "2018-04-15T20:10:44.291075Z"
    }
   },
   "outputs": [
    {
     "data": {
      "image/png": "[encoded data removed]",
      "text/plain": [
       "<matplotlib.figure.Figure at 0x11166c2b0>"
      ]
     },
     "metadata": {},
     "output_type": "display_data"
    }
   ],
   "source": [
    "X_grid = np.arange(min(X), max(X), 0.1)\n",
    "X_grid = X_grid.reshape((len(X_grid), 1))\n",
    "\n",
    "#Plotting the real graph\n",
    "plt.scatter(X, y, color = \"red\")\n",
    "\n",
    "#plotting graph based on the predictor made\n",
    "plt.plot(X_grid, lin_reg_2.predict(poly_reg.fit_transform(X_grid)), color = \"blue\")\n",
    "\n",
    "#adding titles\n",
    "plt.title(\"Truth or Bluff (Polynomial Regression)\")\n",
    "\n",
    "plt.xlabel(\"Position Level\")\n",
    "plt.ylabel(\"Salary\")\n",
    "\n",
    "plt.show()"
   ]
  },
  {
   "cell_type": "markdown",
   "metadata": {},
   "source": [
    "# Predicting a new Result"
   ]
  },
  {
   "cell_type": "markdown",
   "metadata": {},
   "source": [
    "## Linear Regression Model"
   ]
  },
  {
   "cell_type": "code",
   "execution_count": 28,
   "metadata": {
    "ExecuteTime": {
     "end_time": "2018-04-15T20:36:08.381290Z",
     "start_time": "2018-04-15T20:36:08.375839Z"
    }
   },
   "outputs": [
    {
     "data": {
      "text/plain": [
       "array([330378.8])"
      ]
     },
     "execution_count": 28,
     "metadata": {},
     "output_type": "execute_result"
    }
   ],
   "source": [
    "lin_reg.predict(6.5) #6.5 is the level of the prediction we want"
   ]
  },
  {
   "cell_type": "code",
   "execution_count": 29,
   "metadata": {
    "ExecuteTime": {
     "end_time": "2018-04-15T20:37:48.913147Z",
     "start_time": "2018-04-15T20:37:48.907857Z"
    }
   },
   "outputs": [
    {
     "data": {
      "text/plain": [
       "array([-114454.5, -33575.8, 47303.0, 128181.8, 209060.6, 289939.4,\n",
       "       370818.2, 451697.0, 532575.8, 613454.5])"
      ]
     },
     "execution_count": 29,
     "metadata": {},
     "output_type": "execute_result"
    }
   ],
   "source": [
    "lin_reg.predict(X)"
   ]
  },
  {
   "cell_type": "markdown",
   "metadata": {},
   "source": [
    "## Polynomial Regression Model"
   ]
  },
  {
   "cell_type": "code",
   "execution_count": 30,
   "metadata": {
    "ExecuteTime": {
     "end_time": "2018-04-15T20:38:30.733346Z",
     "start_time": "2018-04-15T20:38:30.726457Z"
    }
   },
   "outputs": [
    {
     "data": {
      "text/plain": [
       "array([158862.5])"
      ]
     },
     "execution_count": 30,
     "metadata": {},
     "output_type": "execute_result"
    }
   ],
   "source": [
    "lin_reg_2.predict(poly_reg.fit_transform(6.5))"
   ]
  },
  {
   "cell_type": "markdown",
   "metadata": {},
   "source": [
    "Our employee said he had a salary of 160K and we predicted that his salary was 158K. So, he was speaking truth.\n",
    "Hirable Employee found.."
   ]
  },
  {
   "cell_type": "code",
   "execution_count": 32,
   "metadata": {
    "ExecuteTime": {
     "end_time": "2018-04-15T20:40:32.663495Z",
     "start_time": "2018-04-15T20:40:32.657056Z"
    }
   },
   "outputs": [
    {
     "data": {
      "text/plain": [
       "array([143275.1])"
      ]
     },
     "execution_count": 32,
     "metadata": {},
     "output_type": "execute_result"
    }
   ],
   "source": [
    "lin_reg_2.predict(poly_reg.fit_transform(6))"
   ]
  },
  {
   "cell_type": "code",
   "execution_count": 33,
   "metadata": {
    "ExecuteTime": {
     "end_time": "2018-04-15T20:40:46.610038Z",
     "start_time": "2018-04-15T20:40:46.603984Z"
    }
   },
   "outputs": [
    {
     "data": {
      "text/plain": [
       "array([53356.6, 31759.9, 58642.2, 94632.9, 121724.9, 143275.1, 184003.5,\n",
       "       289994.2, 528694.6, 988916.1])"
      ]
     },
     "execution_count": 33,
     "metadata": {},
     "output_type": "execute_result"
    }
   ],
   "source": [
    "lin_reg_2.predict(poly_reg.fit_transform(X))"
   ]
  }
 ],
 "metadata": {
  "kernelspec": {
   "display_name": "Python 3",
   "language": "python",
   "name": "python3"
  },
  "language_info": {
   "codemirror_mode": {
    "name": "ipython",
    "version": 3
   },
   "file_extension": ".py",
   "mimetype": "text/x-python",
   "name": "python",
   "nbconvert_exporter": "python",
   "pygments_lexer": "ipython3",
   "version": "3.6.4"
  },
  "toc": {
   "nav_menu": {},
   "number_sections": true,
   "sideBar": true,
   "skip_h1_title": false,
   "title_cell": "Table of Contents",
   "title_sidebar": "Contents",
   "toc_cell": true,
   "toc_position": {},
   "toc_section_display": true,
   "toc_window_display": false
  },
  "varInspector": {
   "cols": {
    "lenName": 16,
    "lenType": 16,
    "lenVar": 40
   },
   "kernels_config": {
    "python": {
     "delete_cmd_postfix": "",
     "delete_cmd_prefix": "del ",
     "library": "var_list.py",
     "varRefreshCmd": "print(var_dic_list())"
    },
    "r": {
     "delete_cmd_postfix": ") ",
     "delete_cmd_prefix": "rm(",
     "library": "var_list.r",
     "varRefreshCmd": "cat(var_dic_list()) "
    }
   },
   "position": {
    "height": "448px",
    "left": "1069px",
    "right": "20px",
    "top": "121px",
    "width": "355px"
   },
   "types_to_exclude": [
    "module",
    "function",
    "builtin_function_or_method",
    "instance",
    "_Feature"
   ],
   "window_display": false
  }
 },
 "nbformat": 4,
 "nbformat_minor": 2
}
