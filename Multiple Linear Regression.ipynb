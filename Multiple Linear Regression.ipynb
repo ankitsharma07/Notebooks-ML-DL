{
 "cells": [
  {
   "cell_type": "markdown",
   "metadata": {
    "toc": true
   },
   "source": [
    "<h1>Table of Contents<span class=\"tocSkip\"></span></h1>\n",
    "<div class=\"toc\"><ul class=\"toc-item\"><li><span><a href=\"#Multiple-Linear-Regression\" data-toc-modified-id=\"Multiple-Linear-Regression-1\">Multiple Linear Regression</a></span><ul class=\"toc-item\"><li><span><a href=\"#Since,-X-was-printing-in-Scientific-Notation\" data-toc-modified-id=\"Since,-X-was-printing-in-Scientific-Notation-1.1\">Since, X was printing in Scientific Notation</a></span></li></ul></li><li><span><a href=\"#Avoiding-the-Dummy-Variable-Trap\" data-toc-modified-id=\"Avoiding-the-Dummy-Variable-Trap-2\">Avoiding the Dummy Variable Trap</a></span></li><li><span><a href=\"#Spliting-the-dataset-into-Training-and-Testing-Set\" data-toc-modified-id=\"Spliting-the-dataset-into-Training-and-Testing-Set-3\">Spliting the dataset into Training and Testing Set</a></span></li><li><span><a href=\"#Fitting-Multiple-Linear-Regression-to-the-Training-Set\" data-toc-modified-id=\"Fitting-Multiple-Linear-Regression-to-the-Training-Set-4\">Fitting Multiple Linear Regression to the Training Set</a></span></li><li><span><a href=\"#Predicting-the-Test-set-results\" data-toc-modified-id=\"Predicting-the-Test-set-results-5\">Predicting the Test set results</a></span></li><li><span><a href=\"#Backward-Elimination\" data-toc-modified-id=\"Backward-Elimination-6\">Backward Elimination</a></span><ul class=\"toc-item\"><li><span><a href=\"#Prepare-Backward-Elimnation\" data-toc-modified-id=\"Prepare-Backward-Elimnation-6.1\">Prepare Backward Elimnation</a></span></li></ul></li></ul></div>"
   ]
  },
  {
   "cell_type": "markdown",
   "metadata": {},
   "source": [
    "# Multiple Linear Regression \n",
    "___"
   ]
  },
  {
   "cell_type": "code",
   "execution_count": 33,
   "metadata": {
    "ExecuteTime": {
     "end_time": "2018-04-01T21:14:41.268912Z",
     "start_time": "2018-04-01T21:14:41.262152Z"
    }
   },
   "outputs": [],
   "source": [
    "import numpy as np\n",
    "import pandas as pd\n",
    "import matplotlib.pyplot as plt\n",
    "from sklearn.preprocessing import LabelEncoder, OneHotEncoder\n",
    "from sklearn.cross_validation import train_test_split\n",
    "from sklearn.linear_model import LinearRegression\n",
    "from sklearn.metrics import mean_squared_error, r2_score\n",
    "import statsmodels.formula.api as sm"
   ]
  },
  {
   "cell_type": "code",
   "execution_count": 34,
   "metadata": {
    "ExecuteTime": {
     "end_time": "2018-04-01T21:14:42.515883Z",
     "start_time": "2018-04-01T21:14:42.509332Z"
    }
   },
   "outputs": [],
   "source": [
    "dataset = pd.read_csv(\"/Users/ankitsharma/Documents/Documents/Stuff/Machine Learning/Udemy Course/Part 2 - Regression/2. Multiple Linear Regression/50_Startups.csv\")"
   ]
  },
  {
   "cell_type": "code",
   "execution_count": 35,
   "metadata": {
    "ExecuteTime": {
     "end_time": "2018-04-01T21:14:43.407991Z",
     "start_time": "2018-04-01T21:14:43.381483Z"
    }
   },
   "outputs": [
    {
     "data": {
      "text/html": [
       "<div>\n",
       "<style scoped>\n",
       "    .dataframe tbody tr th:only-of-type {\n",
       "        vertical-align: middle;\n",
       "    }\n",
       "\n",
       "    .dataframe tbody tr th {\n",
       "        vertical-align: top;\n",
       "    }\n",
       "\n",
       "    .dataframe thead th {\n",
       "        text-align: right;\n",
       "    }\n",
       "</style>\n",
       "<table border=\"1\" class=\"dataframe\">\n",
       "  <thead>\n",
       "    <tr style=\"text-align: right;\">\n",
       "      <th></th>\n",
       "      <th>R&amp;D Spend</th>\n",
       "      <th>Administration</th>\n",
       "      <th>Marketing Spend</th>\n",
       "      <th>State</th>\n",
       "      <th>Profit</th>\n",
       "    </tr>\n",
       "  </thead>\n",
       "  <tbody>\n",
       "    <tr>\n",
       "      <th>0</th>\n",
       "      <td>165349.20</td>\n",
       "      <td>136897.80</td>\n",
       "      <td>471784.10</td>\n",
       "      <td>New York</td>\n",
       "      <td>192261.83</td>\n",
       "    </tr>\n",
       "    <tr>\n",
       "      <th>1</th>\n",
       "      <td>162597.70</td>\n",
       "      <td>151377.59</td>\n",
       "      <td>443898.53</td>\n",
       "      <td>California</td>\n",
       "      <td>191792.06</td>\n",
       "    </tr>\n",
       "    <tr>\n",
       "      <th>2</th>\n",
       "      <td>153441.51</td>\n",
       "      <td>101145.55</td>\n",
       "      <td>407934.54</td>\n",
       "      <td>Florida</td>\n",
       "      <td>191050.39</td>\n",
       "    </tr>\n",
       "    <tr>\n",
       "      <th>3</th>\n",
       "      <td>144372.41</td>\n",
       "      <td>118671.85</td>\n",
       "      <td>383199.62</td>\n",
       "      <td>New York</td>\n",
       "      <td>182901.99</td>\n",
       "    </tr>\n",
       "    <tr>\n",
       "      <th>4</th>\n",
       "      <td>142107.34</td>\n",
       "      <td>91391.77</td>\n",
       "      <td>366168.42</td>\n",
       "      <td>Florida</td>\n",
       "      <td>166187.94</td>\n",
       "    </tr>\n",
       "    <tr>\n",
       "      <th>5</th>\n",
       "      <td>131876.90</td>\n",
       "      <td>99814.71</td>\n",
       "      <td>362861.36</td>\n",
       "      <td>New York</td>\n",
       "      <td>156991.12</td>\n",
       "    </tr>\n",
       "    <tr>\n",
       "      <th>6</th>\n",
       "      <td>134615.46</td>\n",
       "      <td>147198.87</td>\n",
       "      <td>127716.82</td>\n",
       "      <td>California</td>\n",
       "      <td>156122.51</td>\n",
       "    </tr>\n",
       "    <tr>\n",
       "      <th>7</th>\n",
       "      <td>130298.13</td>\n",
       "      <td>145530.06</td>\n",
       "      <td>323876.68</td>\n",
       "      <td>Florida</td>\n",
       "      <td>155752.60</td>\n",
       "    </tr>\n",
       "    <tr>\n",
       "      <th>8</th>\n",
       "      <td>120542.52</td>\n",
       "      <td>148718.95</td>\n",
       "      <td>311613.29</td>\n",
       "      <td>New York</td>\n",
       "      <td>152211.77</td>\n",
       "    </tr>\n",
       "    <tr>\n",
       "      <th>9</th>\n",
       "      <td>123334.88</td>\n",
       "      <td>108679.17</td>\n",
       "      <td>304981.62</td>\n",
       "      <td>California</td>\n",
       "      <td>149759.96</td>\n",
       "    </tr>\n",
       "    <tr>\n",
       "      <th>10</th>\n",
       "      <td>101913.08</td>\n",
       "      <td>110594.11</td>\n",
       "      <td>229160.95</td>\n",
       "      <td>Florida</td>\n",
       "      <td>146121.95</td>\n",
       "    </tr>\n",
       "    <tr>\n",
       "      <th>11</th>\n",
       "      <td>100671.96</td>\n",
       "      <td>91790.61</td>\n",
       "      <td>249744.55</td>\n",
       "      <td>California</td>\n",
       "      <td>144259.40</td>\n",
       "    </tr>\n",
       "    <tr>\n",
       "      <th>12</th>\n",
       "      <td>93863.75</td>\n",
       "      <td>127320.38</td>\n",
       "      <td>249839.44</td>\n",
       "      <td>Florida</td>\n",
       "      <td>141585.52</td>\n",
       "    </tr>\n",
       "    <tr>\n",
       "      <th>13</th>\n",
       "      <td>91992.39</td>\n",
       "      <td>135495.07</td>\n",
       "      <td>252664.93</td>\n",
       "      <td>California</td>\n",
       "      <td>134307.35</td>\n",
       "    </tr>\n",
       "    <tr>\n",
       "      <th>14</th>\n",
       "      <td>119943.24</td>\n",
       "      <td>156547.42</td>\n",
       "      <td>256512.92</td>\n",
       "      <td>Florida</td>\n",
       "      <td>132602.65</td>\n",
       "    </tr>\n",
       "    <tr>\n",
       "      <th>15</th>\n",
       "      <td>114523.61</td>\n",
       "      <td>122616.84</td>\n",
       "      <td>261776.23</td>\n",
       "      <td>New York</td>\n",
       "      <td>129917.04</td>\n",
       "    </tr>\n",
       "    <tr>\n",
       "      <th>16</th>\n",
       "      <td>78013.11</td>\n",
       "      <td>121597.55</td>\n",
       "      <td>264346.06</td>\n",
       "      <td>California</td>\n",
       "      <td>126992.93</td>\n",
       "    </tr>\n",
       "    <tr>\n",
       "      <th>17</th>\n",
       "      <td>94657.16</td>\n",
       "      <td>145077.58</td>\n",
       "      <td>282574.31</td>\n",
       "      <td>New York</td>\n",
       "      <td>125370.37</td>\n",
       "    </tr>\n",
       "    <tr>\n",
       "      <th>18</th>\n",
       "      <td>91749.16</td>\n",
       "      <td>114175.79</td>\n",
       "      <td>294919.57</td>\n",
       "      <td>Florida</td>\n",
       "      <td>124266.90</td>\n",
       "    </tr>\n",
       "    <tr>\n",
       "      <th>19</th>\n",
       "      <td>86419.70</td>\n",
       "      <td>153514.11</td>\n",
       "      <td>0.00</td>\n",
       "      <td>New York</td>\n",
       "      <td>122776.86</td>\n",
       "    </tr>\n",
       "    <tr>\n",
       "      <th>20</th>\n",
       "      <td>76253.86</td>\n",
       "      <td>113867.30</td>\n",
       "      <td>298664.47</td>\n",
       "      <td>California</td>\n",
       "      <td>118474.03</td>\n",
       "    </tr>\n",
       "    <tr>\n",
       "      <th>21</th>\n",
       "      <td>78389.47</td>\n",
       "      <td>153773.43</td>\n",
       "      <td>299737.29</td>\n",
       "      <td>New York</td>\n",
       "      <td>111313.02</td>\n",
       "    </tr>\n",
       "    <tr>\n",
       "      <th>22</th>\n",
       "      <td>73994.56</td>\n",
       "      <td>122782.75</td>\n",
       "      <td>303319.26</td>\n",
       "      <td>Florida</td>\n",
       "      <td>110352.25</td>\n",
       "    </tr>\n",
       "    <tr>\n",
       "      <th>23</th>\n",
       "      <td>67532.53</td>\n",
       "      <td>105751.03</td>\n",
       "      <td>304768.73</td>\n",
       "      <td>Florida</td>\n",
       "      <td>108733.99</td>\n",
       "    </tr>\n",
       "    <tr>\n",
       "      <th>24</th>\n",
       "      <td>77044.01</td>\n",
       "      <td>99281.34</td>\n",
       "      <td>140574.81</td>\n",
       "      <td>New York</td>\n",
       "      <td>108552.04</td>\n",
       "    </tr>\n",
       "    <tr>\n",
       "      <th>25</th>\n",
       "      <td>64664.71</td>\n",
       "      <td>139553.16</td>\n",
       "      <td>137962.62</td>\n",
       "      <td>California</td>\n",
       "      <td>107404.34</td>\n",
       "    </tr>\n",
       "    <tr>\n",
       "      <th>26</th>\n",
       "      <td>75328.87</td>\n",
       "      <td>144135.98</td>\n",
       "      <td>134050.07</td>\n",
       "      <td>Florida</td>\n",
       "      <td>105733.54</td>\n",
       "    </tr>\n",
       "    <tr>\n",
       "      <th>27</th>\n",
       "      <td>72107.60</td>\n",
       "      <td>127864.55</td>\n",
       "      <td>353183.81</td>\n",
       "      <td>New York</td>\n",
       "      <td>105008.31</td>\n",
       "    </tr>\n",
       "    <tr>\n",
       "      <th>28</th>\n",
       "      <td>66051.52</td>\n",
       "      <td>182645.56</td>\n",
       "      <td>118148.20</td>\n",
       "      <td>Florida</td>\n",
       "      <td>103282.38</td>\n",
       "    </tr>\n",
       "    <tr>\n",
       "      <th>29</th>\n",
       "      <td>65605.48</td>\n",
       "      <td>153032.06</td>\n",
       "      <td>107138.38</td>\n",
       "      <td>New York</td>\n",
       "      <td>101004.64</td>\n",
       "    </tr>\n",
       "    <tr>\n",
       "      <th>30</th>\n",
       "      <td>61994.48</td>\n",
       "      <td>115641.28</td>\n",
       "      <td>91131.24</td>\n",
       "      <td>Florida</td>\n",
       "      <td>99937.59</td>\n",
       "    </tr>\n",
       "    <tr>\n",
       "      <th>31</th>\n",
       "      <td>61136.38</td>\n",
       "      <td>152701.92</td>\n",
       "      <td>88218.23</td>\n",
       "      <td>New York</td>\n",
       "      <td>97483.56</td>\n",
       "    </tr>\n",
       "    <tr>\n",
       "      <th>32</th>\n",
       "      <td>63408.86</td>\n",
       "      <td>129219.61</td>\n",
       "      <td>46085.25</td>\n",
       "      <td>California</td>\n",
       "      <td>97427.84</td>\n",
       "    </tr>\n",
       "    <tr>\n",
       "      <th>33</th>\n",
       "      <td>55493.95</td>\n",
       "      <td>103057.49</td>\n",
       "      <td>214634.81</td>\n",
       "      <td>Florida</td>\n",
       "      <td>96778.92</td>\n",
       "    </tr>\n",
       "    <tr>\n",
       "      <th>34</th>\n",
       "      <td>46426.07</td>\n",
       "      <td>157693.92</td>\n",
       "      <td>210797.67</td>\n",
       "      <td>California</td>\n",
       "      <td>96712.80</td>\n",
       "    </tr>\n",
       "    <tr>\n",
       "      <th>35</th>\n",
       "      <td>46014.02</td>\n",
       "      <td>85047.44</td>\n",
       "      <td>205517.64</td>\n",
       "      <td>New York</td>\n",
       "      <td>96479.51</td>\n",
       "    </tr>\n",
       "    <tr>\n",
       "      <th>36</th>\n",
       "      <td>28663.76</td>\n",
       "      <td>127056.21</td>\n",
       "      <td>201126.82</td>\n",
       "      <td>Florida</td>\n",
       "      <td>90708.19</td>\n",
       "    </tr>\n",
       "    <tr>\n",
       "      <th>37</th>\n",
       "      <td>44069.95</td>\n",
       "      <td>51283.14</td>\n",
       "      <td>197029.42</td>\n",
       "      <td>California</td>\n",
       "      <td>89949.14</td>\n",
       "    </tr>\n",
       "    <tr>\n",
       "      <th>38</th>\n",
       "      <td>20229.59</td>\n",
       "      <td>65947.93</td>\n",
       "      <td>185265.10</td>\n",
       "      <td>New York</td>\n",
       "      <td>81229.06</td>\n",
       "    </tr>\n",
       "    <tr>\n",
       "      <th>39</th>\n",
       "      <td>38558.51</td>\n",
       "      <td>82982.09</td>\n",
       "      <td>174999.30</td>\n",
       "      <td>California</td>\n",
       "      <td>81005.76</td>\n",
       "    </tr>\n",
       "    <tr>\n",
       "      <th>40</th>\n",
       "      <td>28754.33</td>\n",
       "      <td>118546.05</td>\n",
       "      <td>172795.67</td>\n",
       "      <td>California</td>\n",
       "      <td>78239.91</td>\n",
       "    </tr>\n",
       "    <tr>\n",
       "      <th>41</th>\n",
       "      <td>27892.92</td>\n",
       "      <td>84710.77</td>\n",
       "      <td>164470.71</td>\n",
       "      <td>Florida</td>\n",
       "      <td>77798.83</td>\n",
       "    </tr>\n",
       "    <tr>\n",
       "      <th>42</th>\n",
       "      <td>23640.93</td>\n",
       "      <td>96189.63</td>\n",
       "      <td>148001.11</td>\n",
       "      <td>California</td>\n",
       "      <td>71498.49</td>\n",
       "    </tr>\n",
       "    <tr>\n",
       "      <th>43</th>\n",
       "      <td>15505.73</td>\n",
       "      <td>127382.30</td>\n",
       "      <td>35534.17</td>\n",
       "      <td>New York</td>\n",
       "      <td>69758.98</td>\n",
       "    </tr>\n",
       "    <tr>\n",
       "      <th>44</th>\n",
       "      <td>22177.74</td>\n",
       "      <td>154806.14</td>\n",
       "      <td>28334.72</td>\n",
       "      <td>California</td>\n",
       "      <td>65200.33</td>\n",
       "    </tr>\n",
       "    <tr>\n",
       "      <th>45</th>\n",
       "      <td>1000.23</td>\n",
       "      <td>124153.04</td>\n",
       "      <td>1903.93</td>\n",
       "      <td>New York</td>\n",
       "      <td>64926.08</td>\n",
       "    </tr>\n",
       "    <tr>\n",
       "      <th>46</th>\n",
       "      <td>1315.46</td>\n",
       "      <td>115816.21</td>\n",
       "      <td>297114.46</td>\n",
       "      <td>Florida</td>\n",
       "      <td>49490.75</td>\n",
       "    </tr>\n",
       "    <tr>\n",
       "      <th>47</th>\n",
       "      <td>0.00</td>\n",
       "      <td>135426.92</td>\n",
       "      <td>0.00</td>\n",
       "      <td>California</td>\n",
       "      <td>42559.73</td>\n",
       "    </tr>\n",
       "    <tr>\n",
       "      <th>48</th>\n",
       "      <td>542.05</td>\n",
       "      <td>51743.15</td>\n",
       "      <td>0.00</td>\n",
       "      <td>New York</td>\n",
       "      <td>35673.41</td>\n",
       "    </tr>\n",
       "    <tr>\n",
       "      <th>49</th>\n",
       "      <td>0.00</td>\n",
       "      <td>116983.80</td>\n",
       "      <td>45173.06</td>\n",
       "      <td>California</td>\n",
       "      <td>14681.40</td>\n",
       "    </tr>\n",
       "  </tbody>\n",
       "</table>\n",
       "</div>"
      ],
      "text/plain": [
       "    R&D Spend  Administration  Marketing Spend       State     Profit\n",
       "0   165349.20       136897.80        471784.10    New York  192261.83\n",
       "1   162597.70       151377.59        443898.53  California  191792.06\n",
       "2   153441.51       101145.55        407934.54     Florida  191050.39\n",
       "3   144372.41       118671.85        383199.62    New York  182901.99\n",
       "4   142107.34        91391.77        366168.42     Florida  166187.94\n",
       "5   131876.90        99814.71        362861.36    New York  156991.12\n",
       "6   134615.46       147198.87        127716.82  California  156122.51\n",
       "7   130298.13       145530.06        323876.68     Florida  155752.60\n",
       "8   120542.52       148718.95        311613.29    New York  152211.77\n",
       "9   123334.88       108679.17        304981.62  California  149759.96\n",
       "10  101913.08       110594.11        229160.95     Florida  146121.95\n",
       "11  100671.96        91790.61        249744.55  California  144259.40\n",
       "12   93863.75       127320.38        249839.44     Florida  141585.52\n",
       "13   91992.39       135495.07        252664.93  California  134307.35\n",
       "14  119943.24       156547.42        256512.92     Florida  132602.65\n",
       "15  114523.61       122616.84        261776.23    New York  129917.04\n",
       "16   78013.11       121597.55        264346.06  California  126992.93\n",
       "17   94657.16       145077.58        282574.31    New York  125370.37\n",
       "18   91749.16       114175.79        294919.57     Florida  124266.90\n",
       "19   86419.70       153514.11             0.00    New York  122776.86\n",
       "20   76253.86       113867.30        298664.47  California  118474.03\n",
       "21   78389.47       153773.43        299737.29    New York  111313.02\n",
       "22   73994.56       122782.75        303319.26     Florida  110352.25\n",
       "23   67532.53       105751.03        304768.73     Florida  108733.99\n",
       "24   77044.01        99281.34        140574.81    New York  108552.04\n",
       "25   64664.71       139553.16        137962.62  California  107404.34\n",
       "26   75328.87       144135.98        134050.07     Florida  105733.54\n",
       "27   72107.60       127864.55        353183.81    New York  105008.31\n",
       "28   66051.52       182645.56        118148.20     Florida  103282.38\n",
       "29   65605.48       153032.06        107138.38    New York  101004.64\n",
       "30   61994.48       115641.28         91131.24     Florida   99937.59\n",
       "31   61136.38       152701.92         88218.23    New York   97483.56\n",
       "32   63408.86       129219.61         46085.25  California   97427.84\n",
       "33   55493.95       103057.49        214634.81     Florida   96778.92\n",
       "34   46426.07       157693.92        210797.67  California   96712.80\n",
       "35   46014.02        85047.44        205517.64    New York   96479.51\n",
       "36   28663.76       127056.21        201126.82     Florida   90708.19\n",
       "37   44069.95        51283.14        197029.42  California   89949.14\n",
       "38   20229.59        65947.93        185265.10    New York   81229.06\n",
       "39   38558.51        82982.09        174999.30  California   81005.76\n",
       "40   28754.33       118546.05        172795.67  California   78239.91\n",
       "41   27892.92        84710.77        164470.71     Florida   77798.83\n",
       "42   23640.93        96189.63        148001.11  California   71498.49\n",
       "43   15505.73       127382.30         35534.17    New York   69758.98\n",
       "44   22177.74       154806.14         28334.72  California   65200.33\n",
       "45    1000.23       124153.04          1903.93    New York   64926.08\n",
       "46    1315.46       115816.21        297114.46     Florida   49490.75\n",
       "47       0.00       135426.92             0.00  California   42559.73\n",
       "48     542.05        51743.15             0.00    New York   35673.41\n",
       "49       0.00       116983.80         45173.06  California   14681.40"
      ]
     },
     "execution_count": 35,
     "metadata": {},
     "output_type": "execute_result"
    }
   ],
   "source": [
    "dataset"
   ]
  },
  {
   "cell_type": "code",
   "execution_count": 36,
   "metadata": {
    "ExecuteTime": {
     "end_time": "2018-04-01T21:14:44.576408Z",
     "start_time": "2018-04-01T21:14:44.570133Z"
    }
   },
   "outputs": [],
   "source": [
    "# Creating a feature matrix of dependent and independent variable\n",
    "\n",
    "X = dataset.iloc[:, :-1].values\n",
    "\n",
    "y = dataset.iloc[:, 4].values #Since, dependent variable is in the 4th column"
   ]
  },
  {
   "cell_type": "code",
   "execution_count": 37,
   "metadata": {
    "ExecuteTime": {
     "end_time": "2018-04-01T21:14:45.409499Z",
     "start_time": "2018-04-01T21:14:45.403657Z"
    }
   },
   "outputs": [
    {
     "name": "stdout",
     "output_type": "stream",
     "text": [
      "[[165349.2 136897.8 471784.1 'New York']\n",
      " [162597.7 151377.59 443898.53 'California']\n",
      " [153441.51 101145.55 407934.54 'Florida']\n",
      " [144372.41 118671.85 383199.62 'New York']\n",
      " [142107.34 91391.77 366168.42 'Florida']\n",
      " [131876.9 99814.71 362861.36 'New York']\n",
      " [134615.46 147198.87 127716.82 'California']\n",
      " [130298.13 145530.06 323876.68 'Florida']\n",
      " [120542.52 148718.95 311613.29 'New York']\n",
      " [123334.88 108679.17 304981.62 'California']\n",
      " [101913.08 110594.11 229160.95 'Florida']\n",
      " [100671.96 91790.61 249744.55 'California']\n",
      " [93863.75 127320.38 249839.44 'Florida']\n",
      " [91992.39 135495.07 252664.93 'California']\n",
      " [119943.24 156547.42 256512.92 'Florida']\n",
      " [114523.61 122616.84 261776.23 'New York']\n",
      " [78013.11 121597.55 264346.06 'California']\n",
      " [94657.16 145077.58 282574.31 'New York']\n",
      " [91749.16 114175.79 294919.57 'Florida']\n",
      " [86419.7 153514.11 0.0 'New York']\n",
      " [76253.86 113867.3 298664.47 'California']\n",
      " [78389.47 153773.43 299737.29 'New York']\n",
      " [73994.56 122782.75 303319.26 'Florida']\n",
      " [67532.53 105751.03 304768.73 'Florida']\n",
      " [77044.01 99281.34 140574.81 'New York']\n",
      " [64664.71 139553.16 137962.62 'California']\n",
      " [75328.87 144135.98 134050.07 'Florida']\n",
      " [72107.6 127864.55 353183.81 'New York']\n",
      " [66051.52 182645.56 118148.2 'Florida']\n",
      " [65605.48 153032.06 107138.38 'New York']\n",
      " [61994.48 115641.28 91131.24 'Florida']\n",
      " [61136.38 152701.92 88218.23 'New York']\n",
      " [63408.86 129219.61 46085.25 'California']\n",
      " [55493.95 103057.49 214634.81 'Florida']\n",
      " [46426.07 157693.92 210797.67 'California']\n",
      " [46014.02 85047.44 205517.64 'New York']\n",
      " [28663.76 127056.21 201126.82 'Florida']\n",
      " [44069.95 51283.14 197029.42 'California']\n",
      " [20229.59 65947.93 185265.1 'New York']\n",
      " [38558.51 82982.09 174999.3 'California']\n",
      " [28754.33 118546.05 172795.67 'California']\n",
      " [27892.92 84710.77 164470.71 'Florida']\n",
      " [23640.93 96189.63 148001.11 'California']\n",
      " [15505.73 127382.3 35534.17 'New York']\n",
      " [22177.74 154806.14 28334.72 'California']\n",
      " [1000.23 124153.04 1903.93 'New York']\n",
      " [1315.46 115816.21 297114.46 'Florida']\n",
      " [0.0 135426.92 0.0 'California']\n",
      " [542.05 51743.15 0.0 'New York']\n",
      " [0.0 116983.8 45173.06 'California']]\n",
      "\n",
      "\n",
      "[192261.8 191792.1 191050.4 182902.0 166187.9 156991.1 156122.5 155752.6\n",
      " 152211.8 149760.0 146122.0 144259.4 141585.5 134307.4 132602.6 129917.0\n",
      " 126992.9 125370.4 124266.9 122776.9 118474.0 111313.0 110352.2 108734.0\n",
      " 108552.0 107404.3 105733.5 105008.3 103282.4 101004.6 99937.6 97483.6\n",
      " 97427.8 96778.9 96712.8 96479.5 90708.2 89949.1 81229.1 81005.8 78239.9\n",
      " 77798.8 71498.5 69759.0 65200.3 64926.1 49490.8 42559.7 35673.4 14681.4]\n"
     ]
    }
   ],
   "source": [
    "print(X)\n",
    "\n",
    "print(\"\\n\")\n",
    "\n",
    "print(y)"
   ]
  },
  {
   "cell_type": "markdown",
   "metadata": {},
   "source": [
    "We need to crate dummy variables for the State column which has categorical data"
   ]
  },
  {
   "cell_type": "code",
   "execution_count": 38,
   "metadata": {
    "ExecuteTime": {
     "end_time": "2018-04-01T21:14:47.389610Z",
     "start_time": "2018-04-01T21:14:47.378235Z"
    }
   },
   "outputs": [],
   "source": [
    "labelencoder_X = LabelEncoder()\n",
    "\n",
    "X[:, 3] = labelencoder_X.fit_transform(X[:, 3])\n",
    "\n",
    "onehotencode_X = OneHotEncoder(categorical_features = [3])\n",
    "\n",
    "X = onehotencode_X.fit_transform(X).toarray()"
   ]
  },
  {
   "cell_type": "code",
   "execution_count": 39,
   "metadata": {
    "ExecuteTime": {
     "end_time": "2018-04-01T21:14:48.287648Z",
     "start_time": "2018-04-01T21:14:48.281078Z"
    }
   },
   "outputs": [
    {
     "data": {
      "text/plain": [
       "array([[0.0, 0.0, 1.0, 165349.2, 136897.8, 471784.1],\n",
       "       [1.0, 0.0, 0.0, 162597.7, 151377.6, 443898.5],\n",
       "       [0.0, 1.0, 0.0, 153441.5, 101145.6, 407934.5],\n",
       "       [0.0, 0.0, 1.0, 144372.4, 118671.9, 383199.6],\n",
       "       [0.0, 1.0, 0.0, 142107.3, 91391.8, 366168.4],\n",
       "       [0.0, 0.0, 1.0, 131876.9, 99814.7, 362861.4],\n",
       "       [1.0, 0.0, 0.0, 134615.5, 147198.9, 127716.8],\n",
       "       [0.0, 1.0, 0.0, 130298.1, 145530.1, 323876.7],\n",
       "       [0.0, 0.0, 1.0, 120542.5, 148719.0, 311613.3],\n",
       "       [1.0, 0.0, 0.0, 123334.9, 108679.2, 304981.6],\n",
       "       [0.0, 1.0, 0.0, 101913.1, 110594.1, 229161.0],\n",
       "       [1.0, 0.0, 0.0, 100672.0, 91790.6, 249744.5],\n",
       "       [0.0, 1.0, 0.0, 93863.8, 127320.4, 249839.4],\n",
       "       [1.0, 0.0, 0.0, 91992.4, 135495.1, 252664.9],\n",
       "       [0.0, 1.0, 0.0, 119943.2, 156547.4, 256512.9],\n",
       "       [0.0, 0.0, 1.0, 114523.6, 122616.8, 261776.2],\n",
       "       [1.0, 0.0, 0.0, 78013.1, 121597.6, 264346.1],\n",
       "       [0.0, 0.0, 1.0, 94657.2, 145077.6, 282574.3],\n",
       "       [0.0, 1.0, 0.0, 91749.2, 114175.8, 294919.6],\n",
       "       [0.0, 0.0, 1.0, 86419.7, 153514.1, 0.0],\n",
       "       [1.0, 0.0, 0.0, 76253.9, 113867.3, 298664.5],\n",
       "       [0.0, 0.0, 1.0, 78389.5, 153773.4, 299737.3],\n",
       "       [0.0, 1.0, 0.0, 73994.6, 122782.8, 303319.3],\n",
       "       [0.0, 1.0, 0.0, 67532.5, 105751.0, 304768.7],\n",
       "       [0.0, 0.0, 1.0, 77044.0, 99281.3, 140574.8],\n",
       "       [1.0, 0.0, 0.0, 64664.7, 139553.2, 137962.6],\n",
       "       [0.0, 1.0, 0.0, 75328.9, 144136.0, 134050.1],\n",
       "       [0.0, 0.0, 1.0, 72107.6, 127864.6, 353183.8],\n",
       "       [0.0, 1.0, 0.0, 66051.5, 182645.6, 118148.2],\n",
       "       [0.0, 0.0, 1.0, 65605.5, 153032.1, 107138.4],\n",
       "       [0.0, 1.0, 0.0, 61994.5, 115641.3, 91131.2],\n",
       "       [0.0, 0.0, 1.0, 61136.4, 152701.9, 88218.2],\n",
       "       [1.0, 0.0, 0.0, 63408.9, 129219.6, 46085.2],\n",
       "       [0.0, 1.0, 0.0, 55493.9, 103057.5, 214634.8],\n",
       "       [1.0, 0.0, 0.0, 46426.1, 157693.9, 210797.7],\n",
       "       [0.0, 0.0, 1.0, 46014.0, 85047.4, 205517.6],\n",
       "       [0.0, 1.0, 0.0, 28663.8, 127056.2, 201126.8],\n",
       "       [1.0, 0.0, 0.0, 44069.9, 51283.1, 197029.4],\n",
       "       [0.0, 0.0, 1.0, 20229.6, 65947.9, 185265.1],\n",
       "       [1.0, 0.0, 0.0, 38558.5, 82982.1, 174999.3],\n",
       "       [1.0, 0.0, 0.0, 28754.3, 118546.1, 172795.7],\n",
       "       [0.0, 1.0, 0.0, 27892.9, 84710.8, 164470.7],\n",
       "       [1.0, 0.0, 0.0, 23640.9, 96189.6, 148001.1],\n",
       "       [0.0, 0.0, 1.0, 15505.7, 127382.3, 35534.2],\n",
       "       [1.0, 0.0, 0.0, 22177.7, 154806.1, 28334.7],\n",
       "       [0.0, 0.0, 1.0, 1000.2, 124153.0, 1903.9],\n",
       "       [0.0, 1.0, 0.0, 1315.5, 115816.2, 297114.5],\n",
       "       [1.0, 0.0, 0.0, 0.0, 135426.9, 0.0],\n",
       "       [0.0, 0.0, 1.0, 542.0, 51743.2, 0.0],\n",
       "       [1.0, 0.0, 0.0, 0.0, 116983.8, 45173.1]])"
      ]
     },
     "execution_count": 39,
     "metadata": {},
     "output_type": "execute_result"
    }
   ],
   "source": [
    "X"
   ]
  },
  {
   "cell_type": "markdown",
   "metadata": {},
   "source": [
    "## Since, X was printing in Scientific Notation \n",
    "\n",
    "> This code changes scientific notation to floating point."
   ]
  },
  {
   "cell_type": "code",
   "execution_count": 40,
   "metadata": {
    "ExecuteTime": {
     "end_time": "2018-04-01T21:14:49.976342Z",
     "start_time": "2018-04-01T21:14:49.973102Z"
    }
   },
   "outputs": [],
   "source": [
    "np.set_printoptions(formatter={'float_kind':'{:0.1f}'.format})"
   ]
  },
  {
   "cell_type": "code",
   "execution_count": 41,
   "metadata": {
    "ExecuteTime": {
     "end_time": "2018-04-01T21:14:50.790718Z",
     "start_time": "2018-04-01T21:14:50.784162Z"
    }
   },
   "outputs": [
    {
     "data": {
      "text/plain": [
       "array([[0.0, 0.0, 1.0, 165349.2, 136897.8, 471784.1],\n",
       "       [1.0, 0.0, 0.0, 162597.7, 151377.6, 443898.5],\n",
       "       [0.0, 1.0, 0.0, 153441.5, 101145.6, 407934.5],\n",
       "       [0.0, 0.0, 1.0, 144372.4, 118671.9, 383199.6],\n",
       "       [0.0, 1.0, 0.0, 142107.3, 91391.8, 366168.4],\n",
       "       [0.0, 0.0, 1.0, 131876.9, 99814.7, 362861.4],\n",
       "       [1.0, 0.0, 0.0, 134615.5, 147198.9, 127716.8],\n",
       "       [0.0, 1.0, 0.0, 130298.1, 145530.1, 323876.7],\n",
       "       [0.0, 0.0, 1.0, 120542.5, 148719.0, 311613.3],\n",
       "       [1.0, 0.0, 0.0, 123334.9, 108679.2, 304981.6],\n",
       "       [0.0, 1.0, 0.0, 101913.1, 110594.1, 229161.0],\n",
       "       [1.0, 0.0, 0.0, 100672.0, 91790.6, 249744.5],\n",
       "       [0.0, 1.0, 0.0, 93863.8, 127320.4, 249839.4],\n",
       "       [1.0, 0.0, 0.0, 91992.4, 135495.1, 252664.9],\n",
       "       [0.0, 1.0, 0.0, 119943.2, 156547.4, 256512.9],\n",
       "       [0.0, 0.0, 1.0, 114523.6, 122616.8, 261776.2],\n",
       "       [1.0, 0.0, 0.0, 78013.1, 121597.6, 264346.1],\n",
       "       [0.0, 0.0, 1.0, 94657.2, 145077.6, 282574.3],\n",
       "       [0.0, 1.0, 0.0, 91749.2, 114175.8, 294919.6],\n",
       "       [0.0, 0.0, 1.0, 86419.7, 153514.1, 0.0],\n",
       "       [1.0, 0.0, 0.0, 76253.9, 113867.3, 298664.5],\n",
       "       [0.0, 0.0, 1.0, 78389.5, 153773.4, 299737.3],\n",
       "       [0.0, 1.0, 0.0, 73994.6, 122782.8, 303319.3],\n",
       "       [0.0, 1.0, 0.0, 67532.5, 105751.0, 304768.7],\n",
       "       [0.0, 0.0, 1.0, 77044.0, 99281.3, 140574.8],\n",
       "       [1.0, 0.0, 0.0, 64664.7, 139553.2, 137962.6],\n",
       "       [0.0, 1.0, 0.0, 75328.9, 144136.0, 134050.1],\n",
       "       [0.0, 0.0, 1.0, 72107.6, 127864.6, 353183.8],\n",
       "       [0.0, 1.0, 0.0, 66051.5, 182645.6, 118148.2],\n",
       "       [0.0, 0.0, 1.0, 65605.5, 153032.1, 107138.4],\n",
       "       [0.0, 1.0, 0.0, 61994.5, 115641.3, 91131.2],\n",
       "       [0.0, 0.0, 1.0, 61136.4, 152701.9, 88218.2],\n",
       "       [1.0, 0.0, 0.0, 63408.9, 129219.6, 46085.2],\n",
       "       [0.0, 1.0, 0.0, 55493.9, 103057.5, 214634.8],\n",
       "       [1.0, 0.0, 0.0, 46426.1, 157693.9, 210797.7],\n",
       "       [0.0, 0.0, 1.0, 46014.0, 85047.4, 205517.6],\n",
       "       [0.0, 1.0, 0.0, 28663.8, 127056.2, 201126.8],\n",
       "       [1.0, 0.0, 0.0, 44069.9, 51283.1, 197029.4],\n",
       "       [0.0, 0.0, 1.0, 20229.6, 65947.9, 185265.1],\n",
       "       [1.0, 0.0, 0.0, 38558.5, 82982.1, 174999.3],\n",
       "       [1.0, 0.0, 0.0, 28754.3, 118546.1, 172795.7],\n",
       "       [0.0, 1.0, 0.0, 27892.9, 84710.8, 164470.7],\n",
       "       [1.0, 0.0, 0.0, 23640.9, 96189.6, 148001.1],\n",
       "       [0.0, 0.0, 1.0, 15505.7, 127382.3, 35534.2],\n",
       "       [1.0, 0.0, 0.0, 22177.7, 154806.1, 28334.7],\n",
       "       [0.0, 0.0, 1.0, 1000.2, 124153.0, 1903.9],\n",
       "       [0.0, 1.0, 0.0, 1315.5, 115816.2, 297114.5],\n",
       "       [1.0, 0.0, 0.0, 0.0, 135426.9, 0.0],\n",
       "       [0.0, 0.0, 1.0, 542.0, 51743.2, 0.0],\n",
       "       [1.0, 0.0, 0.0, 0.0, 116983.8, 45173.1]])"
      ]
     },
     "execution_count": 41,
     "metadata": {},
     "output_type": "execute_result"
    }
   ],
   "source": [
    "X"
   ]
  },
  {
   "cell_type": "markdown",
   "metadata": {},
   "source": [
    "# Avoiding the Dummy Variable Trap\n"
   ]
  },
  {
   "cell_type": "code",
   "execution_count": 42,
   "metadata": {
    "ExecuteTime": {
     "end_time": "2018-04-01T21:14:52.408051Z",
     "start_time": "2018-04-01T21:14:52.404866Z"
    }
   },
   "outputs": [],
   "source": [
    "X = X[:, 1:] #removing index 0"
   ]
  },
  {
   "cell_type": "code",
   "execution_count": 43,
   "metadata": {
    "ExecuteTime": {
     "end_time": "2018-04-01T21:14:53.117484Z",
     "start_time": "2018-04-01T21:14:53.110718Z"
    }
   },
   "outputs": [
    {
     "data": {
      "text/plain": [
       "array([[0.0, 1.0, 165349.2, 136897.8, 471784.1],\n",
       "       [0.0, 0.0, 162597.7, 151377.6, 443898.5],\n",
       "       [1.0, 0.0, 153441.5, 101145.6, 407934.5],\n",
       "       [0.0, 1.0, 144372.4, 118671.9, 383199.6],\n",
       "       [1.0, 0.0, 142107.3, 91391.8, 366168.4],\n",
       "       [0.0, 1.0, 131876.9, 99814.7, 362861.4],\n",
       "       [0.0, 0.0, 134615.5, 147198.9, 127716.8],\n",
       "       [1.0, 0.0, 130298.1, 145530.1, 323876.7],\n",
       "       [0.0, 1.0, 120542.5, 148719.0, 311613.3],\n",
       "       [0.0, 0.0, 123334.9, 108679.2, 304981.6],\n",
       "       [1.0, 0.0, 101913.1, 110594.1, 229161.0],\n",
       "       [0.0, 0.0, 100672.0, 91790.6, 249744.5],\n",
       "       [1.0, 0.0, 93863.8, 127320.4, 249839.4],\n",
       "       [0.0, 0.0, 91992.4, 135495.1, 252664.9],\n",
       "       [1.0, 0.0, 119943.2, 156547.4, 256512.9],\n",
       "       [0.0, 1.0, 114523.6, 122616.8, 261776.2],\n",
       "       [0.0, 0.0, 78013.1, 121597.6, 264346.1],\n",
       "       [0.0, 1.0, 94657.2, 145077.6, 282574.3],\n",
       "       [1.0, 0.0, 91749.2, 114175.8, 294919.6],\n",
       "       [0.0, 1.0, 86419.7, 153514.1, 0.0],\n",
       "       [0.0, 0.0, 76253.9, 113867.3, 298664.5],\n",
       "       [0.0, 1.0, 78389.5, 153773.4, 299737.3],\n",
       "       [1.0, 0.0, 73994.6, 122782.8, 303319.3],\n",
       "       [1.0, 0.0, 67532.5, 105751.0, 304768.7],\n",
       "       [0.0, 1.0, 77044.0, 99281.3, 140574.8],\n",
       "       [0.0, 0.0, 64664.7, 139553.2, 137962.6],\n",
       "       [1.0, 0.0, 75328.9, 144136.0, 134050.1],\n",
       "       [0.0, 1.0, 72107.6, 127864.6, 353183.8],\n",
       "       [1.0, 0.0, 66051.5, 182645.6, 118148.2],\n",
       "       [0.0, 1.0, 65605.5, 153032.1, 107138.4],\n",
       "       [1.0, 0.0, 61994.5, 115641.3, 91131.2],\n",
       "       [0.0, 1.0, 61136.4, 152701.9, 88218.2],\n",
       "       [0.0, 0.0, 63408.9, 129219.6, 46085.2],\n",
       "       [1.0, 0.0, 55493.9, 103057.5, 214634.8],\n",
       "       [0.0, 0.0, 46426.1, 157693.9, 210797.7],\n",
       "       [0.0, 1.0, 46014.0, 85047.4, 205517.6],\n",
       "       [1.0, 0.0, 28663.8, 127056.2, 201126.8],\n",
       "       [0.0, 0.0, 44069.9, 51283.1, 197029.4],\n",
       "       [0.0, 1.0, 20229.6, 65947.9, 185265.1],\n",
       "       [0.0, 0.0, 38558.5, 82982.1, 174999.3],\n",
       "       [0.0, 0.0, 28754.3, 118546.1, 172795.7],\n",
       "       [1.0, 0.0, 27892.9, 84710.8, 164470.7],\n",
       "       [0.0, 0.0, 23640.9, 96189.6, 148001.1],\n",
       "       [0.0, 1.0, 15505.7, 127382.3, 35534.2],\n",
       "       [0.0, 0.0, 22177.7, 154806.1, 28334.7],\n",
       "       [0.0, 1.0, 1000.2, 124153.0, 1903.9],\n",
       "       [1.0, 0.0, 1315.5, 115816.2, 297114.5],\n",
       "       [0.0, 0.0, 0.0, 135426.9, 0.0],\n",
       "       [0.0, 1.0, 542.0, 51743.2, 0.0],\n",
       "       [0.0, 0.0, 0.0, 116983.8, 45173.1]])"
      ]
     },
     "execution_count": 43,
     "metadata": {},
     "output_type": "execute_result"
    }
   ],
   "source": [
    "X # 01 for New York, 00 for California and 10 for Florida. We removed redundant variables"
   ]
  },
  {
   "cell_type": "markdown",
   "metadata": {},
   "source": [
    "# Spliting the dataset into Training and Testing Set"
   ]
  },
  {
   "cell_type": "code",
   "execution_count": 44,
   "metadata": {
    "ExecuteTime": {
     "end_time": "2018-04-01T21:14:54.561121Z",
     "start_time": "2018-04-01T21:14:54.556475Z"
    }
   },
   "outputs": [],
   "source": [
    "# Since we have 50 datasets, we will split 10 for test and 40 for training\n",
    "\n",
    "#That is 10/50 = 0.2, 20% of the dataset\n",
    "\n",
    "X_train, X_test, y_train, y_test = train_test_split(X, y, test_size = 0.2, random_state = 0)"
   ]
  },
  {
   "cell_type": "code",
   "execution_count": 45,
   "metadata": {
    "ExecuteTime": {
     "end_time": "2018-04-01T21:14:55.335887Z",
     "start_time": "2018-04-01T21:14:55.322272Z"
    }
   },
   "outputs": [
    {
     "data": {
      "text/html": [
       "<div>\n",
       "<style scoped>\n",
       "    .dataframe tbody tr th:only-of-type {\n",
       "        vertical-align: middle;\n",
       "    }\n",
       "\n",
       "    .dataframe tbody tr th {\n",
       "        vertical-align: top;\n",
       "    }\n",
       "\n",
       "    .dataframe thead th {\n",
       "        text-align: right;\n",
       "    }\n",
       "</style>\n",
       "<table border=\"1\" class=\"dataframe\">\n",
       "  <thead>\n",
       "    <tr style=\"text-align: right;\">\n",
       "      <th></th>\n",
       "      <th>R&amp;D Spend</th>\n",
       "      <th>Administration</th>\n",
       "      <th>Marketing Spend</th>\n",
       "      <th>State</th>\n",
       "      <th>Profit</th>\n",
       "    </tr>\n",
       "  </thead>\n",
       "  <tbody>\n",
       "    <tr>\n",
       "      <th>19</th>\n",
       "      <td>86419.7</td>\n",
       "      <td>153514.11</td>\n",
       "      <td>0.0</td>\n",
       "      <td>New York</td>\n",
       "      <td>122776.86</td>\n",
       "    </tr>\n",
       "  </tbody>\n",
       "</table>\n",
       "</div>"
      ],
      "text/plain": [
       "    R&D Spend  Administration  Marketing Spend     State     Profit\n",
       "19    86419.7       153514.11              0.0  New York  122776.86"
      ]
     },
     "execution_count": 45,
     "metadata": {},
     "output_type": "execute_result"
    }
   ],
   "source": [
    "dataset.sample()"
   ]
  },
  {
   "cell_type": "code",
   "execution_count": 46,
   "metadata": {
    "ExecuteTime": {
     "end_time": "2018-04-01T21:14:56.063218Z",
     "start_time": "2018-04-01T21:14:56.058648Z"
    }
   },
   "outputs": [
    {
     "name": "stdout",
     "output_type": "stream",
     "text": [
      "[[1.0 0.0 55493.9 103057.5 214634.8]\n",
      " [0.0 1.0 46014.0 85047.4 205517.6]\n",
      " [1.0 0.0 75328.9 144136.0 134050.1]\n",
      " [0.0 0.0 46426.1 157693.9 210797.7]\n",
      " [1.0 0.0 91749.2 114175.8 294919.6]\n",
      " [1.0 0.0 130298.1 145530.1 323876.7]\n",
      " [1.0 0.0 119943.2 156547.4 256512.9]\n",
      " [0.0 1.0 1000.2 124153.0 1903.9]\n",
      " [0.0 1.0 542.0 51743.2 0.0]\n",
      " [0.0 1.0 65605.5 153032.1 107138.4]\n",
      " [0.0 1.0 114523.6 122616.8 261776.2]\n",
      " [1.0 0.0 61994.5 115641.3 91131.2]\n",
      " [0.0 0.0 63408.9 129219.6 46085.2]\n",
      " [0.0 0.0 78013.1 121597.6 264346.1]\n",
      " [0.0 0.0 23640.9 96189.6 148001.1]\n",
      " [0.0 0.0 76253.9 113867.3 298664.5]\n",
      " [0.0 1.0 15505.7 127382.3 35534.2]\n",
      " [0.0 1.0 120542.5 148719.0 311613.3]\n",
      " [0.0 0.0 91992.4 135495.1 252664.9]\n",
      " [0.0 0.0 64664.7 139553.2 137962.6]\n",
      " [0.0 1.0 131876.9 99814.7 362861.4]\n",
      " [0.0 1.0 94657.2 145077.6 282574.3]\n",
      " [0.0 0.0 28754.3 118546.1 172795.7]\n",
      " [0.0 0.0 0.0 116983.8 45173.1]\n",
      " [0.0 0.0 162597.7 151377.6 443898.5]\n",
      " [1.0 0.0 93863.8 127320.4 249839.4]\n",
      " [0.0 0.0 44069.9 51283.1 197029.4]\n",
      " [0.0 1.0 77044.0 99281.3 140574.8]\n",
      " [0.0 0.0 134615.5 147198.9 127716.8]\n",
      " [1.0 0.0 67532.5 105751.0 304768.7]\n",
      " [1.0 0.0 28663.8 127056.2 201126.8]\n",
      " [0.0 1.0 78389.5 153773.4 299737.3]\n",
      " [0.0 1.0 86419.7 153514.1 0.0]\n",
      " [0.0 0.0 123334.9 108679.2 304981.6]\n",
      " [0.0 0.0 38558.5 82982.1 174999.3]\n",
      " [1.0 0.0 1315.5 115816.2 297114.5]\n",
      " [0.0 1.0 144372.4 118671.9 383199.6]\n",
      " [0.0 1.0 165349.2 136897.8 471784.1]\n",
      " [0.0 0.0 0.0 135426.9 0.0]\n",
      " [0.0 0.0 22177.7 154806.1 28334.7]] \n",
      "\n",
      " [96778.9 96479.5 105733.5 96712.8 124266.9 155752.6 132602.6 64926.1\n",
      " 35673.4 101004.6 129917.0 99937.6 97427.8 126992.9 71498.5 118474.0\n",
      " 69759.0 152211.8 134307.4 107404.3 156991.1 125370.4 78239.9 14681.4\n",
      " 191792.1 141585.5 89949.1 108552.0 156122.5 108734.0 90708.2 111313.0\n",
      " 122776.9 149760.0 81005.8 49490.8 182902.0 192261.8 42559.7 65200.3]\n"
     ]
    }
   ],
   "source": [
    "print(X_train, \"\\n\\n\", y_train)"
   ]
  },
  {
   "cell_type": "markdown",
   "metadata": {},
   "source": [
    "# Fitting Multiple Linear Regression to the Training Set"
   ]
  },
  {
   "cell_type": "code",
   "execution_count": 47,
   "metadata": {
    "ExecuteTime": {
     "end_time": "2018-04-01T21:14:58.208421Z",
     "start_time": "2018-04-01T21:14:58.200182Z"
    }
   },
   "outputs": [
    {
     "data": {
      "text/plain": [
       "LinearRegression(copy_X=True, fit_intercept=True, n_jobs=1, normalize=False)"
      ]
     },
     "execution_count": 47,
     "metadata": {},
     "output_type": "execute_result"
    }
   ],
   "source": [
    "regressor = LinearRegression()\n",
    "regressor.fit(X_train, y_train)"
   ]
  },
  {
   "cell_type": "markdown",
   "metadata": {},
   "source": [
    "# Predicting the Test set results"
   ]
  },
  {
   "cell_type": "code",
   "execution_count": 48,
   "metadata": {
    "ExecuteTime": {
     "end_time": "2018-04-01T21:15:00.465193Z",
     "start_time": "2018-04-01T21:15:00.460752Z"
    }
   },
   "outputs": [],
   "source": [
    "y_pred = regressor.predict(X_test)"
   ]
  },
  {
   "cell_type": "code",
   "execution_count": 49,
   "metadata": {
    "ExecuteTime": {
     "end_time": "2018-04-01T21:15:01.315207Z",
     "start_time": "2018-04-01T21:15:01.309907Z"
    }
   },
   "outputs": [
    {
     "data": {
      "text/plain": [
       "array([103015.2, 132582.3, 132447.7, 71976.1, 178537.5, 116161.2, 67851.7,\n",
       "       98791.7, 113969.4, 167921.1])"
      ]
     },
     "execution_count": 49,
     "metadata": {},
     "output_type": "execute_result"
    }
   ],
   "source": [
    "y_pred"
   ]
  },
  {
   "cell_type": "markdown",
   "metadata": {},
   "source": [
    "* Compare real profit with the predicted profit by comparing **y_test** and **y_pred**"
   ]
  },
  {
   "cell_type": "code",
   "execution_count": 50,
   "metadata": {
    "ExecuteTime": {
     "end_time": "2018-04-01T21:15:09.278750Z",
     "start_time": "2018-04-01T21:15:09.274740Z"
    }
   },
   "outputs": [
    {
     "name": "stdout",
     "output_type": "stream",
     "text": [
      "[103282.4 144259.4 146122.0 77798.8 191050.4 105008.3 81229.1 97483.6\n",
      " 110352.2 166187.9] \n",
      "\n",
      " [103015.2 132582.3 132447.7 71976.1 178537.5 116161.2 67851.7 98791.7\n",
      " 113969.4 167921.1]\n"
     ]
    }
   ],
   "source": [
    "print(y_test, \"\\n\\n\", y_pred)"
   ]
  },
  {
   "cell_type": "code",
   "execution_count": 51,
   "metadata": {
    "ExecuteTime": {
     "end_time": "2018-04-01T21:15:10.724524Z",
     "start_time": "2018-04-01T21:15:10.720114Z"
    }
   },
   "outputs": [
    {
     "name": "stdout",
     "output_type": "stream",
     "text": [
      "Variance score: 0.93\n"
     ]
    }
   ],
   "source": [
    "print('Variance score: %.2f' % r2_score(y_test, y_pred))"
   ]
  },
  {
   "cell_type": "code",
   "execution_count": 56,
   "metadata": {
    "ExecuteTime": {
     "end_time": "2018-04-01T21:15:18.539661Z",
     "start_time": "2018-04-01T21:15:18.535833Z"
    }
   },
   "outputs": [
    {
     "name": "stdout",
     "output_type": "stream",
     "text": [
      "Coefficients: \n",
      " [-959.3 699.4 0.8 0.0 0.0]\n"
     ]
    }
   ],
   "source": [
    "print('Coefficients: \\n', regressor.coef_)"
   ]
  },
  {
   "cell_type": "code",
   "execution_count": 53,
   "metadata": {
    "ExecuteTime": {
     "end_time": "2018-04-01T21:15:12.675798Z",
     "start_time": "2018-04-01T21:15:12.670418Z"
    }
   },
   "outputs": [
    {
     "name": "stdout",
     "output_type": "stream",
     "text": [
      "Mean squared error: 83502864.03\n"
     ]
    }
   ],
   "source": [
    "# mean squared error\n",
    "\n",
    "print(\"Mean squared error: %.2f\"% mean_squared_error(y_test, y_pred))"
   ]
  },
  {
   "cell_type": "markdown",
   "metadata": {},
   "source": [
    "# Backward Elimination\n",
    "\n",
    "* Building an optimal model using backward elimination\n",
    "> We didn't check for highly significant and not significant independent variables, thus, we can still improve our model."
   ]
  },
  {
   "cell_type": "markdown",
   "metadata": {},
   "source": [
    "## Prepare Backward Elimnation\n",
    "\n",
    "* First we need to import a library **statsmodel.formula.api**"
   ]
  },
  {
   "cell_type": "markdown",
   "metadata": {},
   "source": [
    "* We need to add $X_{0} = 1$ in our feature matrix of X\n",
    "\n",
    "* Adding columns of 1's"
   ]
  },
  {
   "cell_type": "code",
   "execution_count": 57,
   "metadata": {
    "ExecuteTime": {
     "end_time": "2018-04-01T21:15:22.404240Z",
     "start_time": "2018-04-01T21:15:22.399234Z"
    }
   },
   "outputs": [
    {
     "name": "stdout",
     "output_type": "stream",
     "text": [
      "Number of rows:  50 \n",
      "\n",
      " Number of columns:  5\n"
     ]
    }
   ],
   "source": [
    "#First check the number of rows and columns in X matrix\n",
    "rows, columns = X.shape\n",
    "\n",
    "print(\"Number of rows: \",rows, \"\\n\\n\",\"Number of columns: \",columns)"
   ]
  },
  {
   "cell_type": "code",
   "execution_count": 58,
   "metadata": {
    "ExecuteTime": {
     "end_time": "2018-04-01T21:15:23.396260Z",
     "start_time": "2018-04-01T21:15:23.391968Z"
    }
   },
   "outputs": [],
   "source": [
    "#X = np.append(arr = X, values = np.ones((50,1)).astype(int), axis = 1) #50 = rows in X and axis = 1 is for column and axis = 0 is for rows\n",
    "\n",
    "#But we added 1's to the end of X matrix, we had to do that in front of X\n",
    "\n",
    "X = np.append(arr = np.ones((50,1)).astype(int), values = X, axis = 1)"
   ]
  },
  {
   "cell_type": "code",
   "execution_count": 59,
   "metadata": {
    "ExecuteTime": {
     "end_time": "2018-04-01T21:15:25.849742Z",
     "start_time": "2018-04-01T21:15:25.843052Z"
    }
   },
   "outputs": [
    {
     "data": {
      "text/plain": [
       "array([[1.0, 0.0, 1.0, 165349.2, 136897.8, 471784.1],\n",
       "       [1.0, 0.0, 0.0, 162597.7, 151377.6, 443898.5],\n",
       "       [1.0, 1.0, 0.0, 153441.5, 101145.6, 407934.5],\n",
       "       [1.0, 0.0, 1.0, 144372.4, 118671.9, 383199.6],\n",
       "       [1.0, 1.0, 0.0, 142107.3, 91391.8, 366168.4],\n",
       "       [1.0, 0.0, 1.0, 131876.9, 99814.7, 362861.4],\n",
       "       [1.0, 0.0, 0.0, 134615.5, 147198.9, 127716.8],\n",
       "       [1.0, 1.0, 0.0, 130298.1, 145530.1, 323876.7],\n",
       "       [1.0, 0.0, 1.0, 120542.5, 148719.0, 311613.3],\n",
       "       [1.0, 0.0, 0.0, 123334.9, 108679.2, 304981.6],\n",
       "       [1.0, 1.0, 0.0, 101913.1, 110594.1, 229161.0],\n",
       "       [1.0, 0.0, 0.0, 100672.0, 91790.6, 249744.5],\n",
       "       [1.0, 1.0, 0.0, 93863.8, 127320.4, 249839.4],\n",
       "       [1.0, 0.0, 0.0, 91992.4, 135495.1, 252664.9],\n",
       "       [1.0, 1.0, 0.0, 119943.2, 156547.4, 256512.9],\n",
       "       [1.0, 0.0, 1.0, 114523.6, 122616.8, 261776.2],\n",
       "       [1.0, 0.0, 0.0, 78013.1, 121597.6, 264346.1],\n",
       "       [1.0, 0.0, 1.0, 94657.2, 145077.6, 282574.3],\n",
       "       [1.0, 1.0, 0.0, 91749.2, 114175.8, 294919.6],\n",
       "       [1.0, 0.0, 1.0, 86419.7, 153514.1, 0.0],\n",
       "       [1.0, 0.0, 0.0, 76253.9, 113867.3, 298664.5],\n",
       "       [1.0, 0.0, 1.0, 78389.5, 153773.4, 299737.3],\n",
       "       [1.0, 1.0, 0.0, 73994.6, 122782.8, 303319.3],\n",
       "       [1.0, 1.0, 0.0, 67532.5, 105751.0, 304768.7],\n",
       "       [1.0, 0.0, 1.0, 77044.0, 99281.3, 140574.8],\n",
       "       [1.0, 0.0, 0.0, 64664.7, 139553.2, 137962.6],\n",
       "       [1.0, 1.0, 0.0, 75328.9, 144136.0, 134050.1],\n",
       "       [1.0, 0.0, 1.0, 72107.6, 127864.6, 353183.8],\n",
       "       [1.0, 1.0, 0.0, 66051.5, 182645.6, 118148.2],\n",
       "       [1.0, 0.0, 1.0, 65605.5, 153032.1, 107138.4],\n",
       "       [1.0, 1.0, 0.0, 61994.5, 115641.3, 91131.2],\n",
       "       [1.0, 0.0, 1.0, 61136.4, 152701.9, 88218.2],\n",
       "       [1.0, 0.0, 0.0, 63408.9, 129219.6, 46085.2],\n",
       "       [1.0, 1.0, 0.0, 55493.9, 103057.5, 214634.8],\n",
       "       [1.0, 0.0, 0.0, 46426.1, 157693.9, 210797.7],\n",
       "       [1.0, 0.0, 1.0, 46014.0, 85047.4, 205517.6],\n",
       "       [1.0, 1.0, 0.0, 28663.8, 127056.2, 201126.8],\n",
       "       [1.0, 0.0, 0.0, 44069.9, 51283.1, 197029.4],\n",
       "       [1.0, 0.0, 1.0, 20229.6, 65947.9, 185265.1],\n",
       "       [1.0, 0.0, 0.0, 38558.5, 82982.1, 174999.3],\n",
       "       [1.0, 0.0, 0.0, 28754.3, 118546.1, 172795.7],\n",
       "       [1.0, 1.0, 0.0, 27892.9, 84710.8, 164470.7],\n",
       "       [1.0, 0.0, 0.0, 23640.9, 96189.6, 148001.1],\n",
       "       [1.0, 0.0, 1.0, 15505.7, 127382.3, 35534.2],\n",
       "       [1.0, 0.0, 0.0, 22177.7, 154806.1, 28334.7],\n",
       "       [1.0, 0.0, 1.0, 1000.2, 124153.0, 1903.9],\n",
       "       [1.0, 1.0, 0.0, 1315.5, 115816.2, 297114.5],\n",
       "       [1.0, 0.0, 0.0, 0.0, 135426.9, 0.0],\n",
       "       [1.0, 0.0, 1.0, 542.0, 51743.2, 0.0],\n",
       "       [1.0, 0.0, 0.0, 0.0, 116983.8, 45173.1]])"
      ]
     },
     "execution_count": 59,
     "metadata": {},
     "output_type": "execute_result"
    }
   ],
   "source": [
    "X #1's are added in the begining"
   ]
  },
  {
   "cell_type": "code",
   "execution_count": 60,
   "metadata": {
    "ExecuteTime": {
     "end_time": "2018-04-01T21:23:11.390506Z",
     "start_time": "2018-04-01T21:23:11.380059Z"
    }
   },
   "outputs": [],
   "source": [
    "#Optimal matrix of features\n",
    "#Add all the IV's and then remove the ones which are not statistically significant\n",
    "\n",
    "X_opt = X[:, [0, 1, 2, 3, 4, 5]]\n",
    "\n",
    "regressor_OLS = sm.OLS(endog = y, exog = X_opt).fit()"
   ]
  },
  {
   "cell_type": "code",
   "execution_count": 61,
   "metadata": {
    "ExecuteTime": {
     "end_time": "2018-04-01T21:24:35.166042Z",
     "start_time": "2018-04-01T21:24:35.131009Z"
    }
   },
   "outputs": [
    {
     "data": {
      "text/html": [
       "<table class=\"simpletable\">\n",
       "<caption>OLS Regression Results</caption>\n",
       "<tr>\n",
       "  <th>Dep. Variable:</th>            <td>y</td>        <th>  R-squared:         </th> <td>   0.951</td>\n",
       "</tr>\n",
       "<tr>\n",
       "  <th>Model:</th>                   <td>OLS</td>       <th>  Adj. R-squared:    </th> <td>   0.945</td>\n",
       "</tr>\n",
       "<tr>\n",
       "  <th>Method:</th>             <td>Least Squares</td>  <th>  F-statistic:       </th> <td>   169.9</td>\n",
       "</tr>\n",
       "<tr>\n",
       "  <th>Date:</th>             <td>Mon, 02 Apr 2018</td> <th>  Prob (F-statistic):</th> <td>1.34e-27</td>\n",
       "</tr>\n",
       "<tr>\n",
       "  <th>Time:</th>                 <td>02:54:35</td>     <th>  Log-Likelihood:    </th> <td> -525.38</td>\n",
       "</tr>\n",
       "<tr>\n",
       "  <th>No. Observations:</th>      <td>    50</td>      <th>  AIC:               </th> <td>   1063.</td>\n",
       "</tr>\n",
       "<tr>\n",
       "  <th>Df Residuals:</th>          <td>    44</td>      <th>  BIC:               </th> <td>   1074.</td>\n",
       "</tr>\n",
       "<tr>\n",
       "  <th>Df Model:</th>              <td>     5</td>      <th>                     </th>     <td> </td>   \n",
       "</tr>\n",
       "<tr>\n",
       "  <th>Covariance Type:</th>      <td>nonrobust</td>    <th>                     </th>     <td> </td>   \n",
       "</tr>\n",
       "</table>\n",
       "<table class=\"simpletable\">\n",
       "<tr>\n",
       "    <td></td>       <th>coef</th>     <th>std err</th>      <th>t</th>      <th>P>|t|</th>  <th>[0.025</th>    <th>0.975]</th>  \n",
       "</tr>\n",
       "<tr>\n",
       "  <th>const</th> <td> 5.013e+04</td> <td> 6884.820</td> <td>    7.281</td> <td> 0.000</td> <td> 3.62e+04</td> <td>  6.4e+04</td>\n",
       "</tr>\n",
       "<tr>\n",
       "  <th>x1</th>    <td>  198.7888</td> <td> 3371.007</td> <td>    0.059</td> <td> 0.953</td> <td>-6595.030</td> <td> 6992.607</td>\n",
       "</tr>\n",
       "<tr>\n",
       "  <th>x2</th>    <td>  -41.8870</td> <td> 3256.039</td> <td>   -0.013</td> <td> 0.990</td> <td>-6604.003</td> <td> 6520.229</td>\n",
       "</tr>\n",
       "<tr>\n",
       "  <th>x3</th>    <td>    0.8060</td> <td>    0.046</td> <td>   17.369</td> <td> 0.000</td> <td>    0.712</td> <td>    0.900</td>\n",
       "</tr>\n",
       "<tr>\n",
       "  <th>x4</th>    <td>   -0.0270</td> <td>    0.052</td> <td>   -0.517</td> <td> 0.608</td> <td>   -0.132</td> <td>    0.078</td>\n",
       "</tr>\n",
       "<tr>\n",
       "  <th>x5</th>    <td>    0.0270</td> <td>    0.017</td> <td>    1.574</td> <td> 0.123</td> <td>   -0.008</td> <td>    0.062</td>\n",
       "</tr>\n",
       "</table>\n",
       "<table class=\"simpletable\">\n",
       "<tr>\n",
       "  <th>Omnibus:</th>       <td>14.782</td> <th>  Durbin-Watson:     </th> <td>   1.283</td>\n",
       "</tr>\n",
       "<tr>\n",
       "  <th>Prob(Omnibus):</th> <td> 0.001</td> <th>  Jarque-Bera (JB):  </th> <td>  21.266</td>\n",
       "</tr>\n",
       "<tr>\n",
       "  <th>Skew:</th>          <td>-0.948</td> <th>  Prob(JB):          </th> <td>2.41e-05</td>\n",
       "</tr>\n",
       "<tr>\n",
       "  <th>Kurtosis:</th>      <td> 5.572</td> <th>  Cond. No.          </th> <td>1.45e+06</td>\n",
       "</tr>\n",
       "</table>"
      ],
      "text/plain": [
       "<class 'statsmodels.iolib.summary.Summary'>\n",
       "\"\"\"\n",
       "                            OLS Regression Results                            \n",
       "==============================================================================\n",
       "Dep. Variable:                      y   R-squared:                       0.951\n",
       "Model:                            OLS   Adj. R-squared:                  0.945\n",
       "Method:                 Least Squares   F-statistic:                     169.9\n",
       "Date:                Mon, 02 Apr 2018   Prob (F-statistic):           1.34e-27\n",
       "Time:                        02:54:35   Log-Likelihood:                -525.38\n",
       "No. Observations:                  50   AIC:                             1063.\n",
       "Df Residuals:                      44   BIC:                             1074.\n",
       "Df Model:                           5                                         \n",
       "Covariance Type:            nonrobust                                         \n",
       "==============================================================================\n",
       "                 coef    std err          t      P>|t|      [0.025      0.975]\n",
       "------------------------------------------------------------------------------\n",
       "const       5.013e+04   6884.820      7.281      0.000    3.62e+04     6.4e+04\n",
       "x1           198.7888   3371.007      0.059      0.953   -6595.030    6992.607\n",
       "x2           -41.8870   3256.039     -0.013      0.990   -6604.003    6520.229\n",
       "x3             0.8060      0.046     17.369      0.000       0.712       0.900\n",
       "x4            -0.0270      0.052     -0.517      0.608      -0.132       0.078\n",
       "x5             0.0270      0.017      1.574      0.123      -0.008       0.062\n",
       "==============================================================================\n",
       "Omnibus:                       14.782   Durbin-Watson:                   1.283\n",
       "Prob(Omnibus):                  0.001   Jarque-Bera (JB):               21.266\n",
       "Skew:                          -0.948   Prob(JB):                     2.41e-05\n",
       "Kurtosis:                       5.572   Cond. No.                     1.45e+06\n",
       "==============================================================================\n",
       "\n",
       "Warnings:\n",
       "[1] Standard Errors assume that the covariance matrix of the errors is correctly specified.\n",
       "[2] The condition number is large, 1.45e+06. This might indicate that there are\n",
       "strong multicollinearity or other numerical problems.\n",
       "\"\"\""
      ]
     },
     "execution_count": 61,
     "metadata": {},
     "output_type": "execute_result"
    }
   ],
   "source": [
    "regressor_OLS.summary()"
   ]
  },
  {
   "cell_type": "markdown",
   "metadata": {},
   "source": [
    "* Since, SL = 0.05 i.e. 5 percent and P value is **0.99 > 0.05** therefore, we need to remove this index"
   ]
  },
  {
   "cell_type": "code",
   "execution_count": 62,
   "metadata": {
    "ExecuteTime": {
     "end_time": "2018-04-01T21:28:40.578824Z",
     "start_time": "2018-04-01T21:28:40.554564Z"
    }
   },
   "outputs": [
    {
     "data": {
      "text/html": [
       "<table class=\"simpletable\">\n",
       "<caption>OLS Regression Results</caption>\n",
       "<tr>\n",
       "  <th>Dep. Variable:</th>            <td>y</td>        <th>  R-squared:         </th> <td>   0.951</td>\n",
       "</tr>\n",
       "<tr>\n",
       "  <th>Model:</th>                   <td>OLS</td>       <th>  Adj. R-squared:    </th> <td>   0.946</td>\n",
       "</tr>\n",
       "<tr>\n",
       "  <th>Method:</th>             <td>Least Squares</td>  <th>  F-statistic:       </th> <td>   217.2</td>\n",
       "</tr>\n",
       "<tr>\n",
       "  <th>Date:</th>             <td>Mon, 02 Apr 2018</td> <th>  Prob (F-statistic):</th> <td>8.49e-29</td>\n",
       "</tr>\n",
       "<tr>\n",
       "  <th>Time:</th>                 <td>02:58:40</td>     <th>  Log-Likelihood:    </th> <td> -525.38</td>\n",
       "</tr>\n",
       "<tr>\n",
       "  <th>No. Observations:</th>      <td>    50</td>      <th>  AIC:               </th> <td>   1061.</td>\n",
       "</tr>\n",
       "<tr>\n",
       "  <th>Df Residuals:</th>          <td>    45</td>      <th>  BIC:               </th> <td>   1070.</td>\n",
       "</tr>\n",
       "<tr>\n",
       "  <th>Df Model:</th>              <td>     4</td>      <th>                     </th>     <td> </td>   \n",
       "</tr>\n",
       "<tr>\n",
       "  <th>Covariance Type:</th>      <td>nonrobust</td>    <th>                     </th>     <td> </td>   \n",
       "</tr>\n",
       "</table>\n",
       "<table class=\"simpletable\">\n",
       "<tr>\n",
       "    <td></td>       <th>coef</th>     <th>std err</th>      <th>t</th>      <th>P>|t|</th>  <th>[0.025</th>    <th>0.975]</th>  \n",
       "</tr>\n",
       "<tr>\n",
       "  <th>const</th> <td> 5.011e+04</td> <td> 6647.870</td> <td>    7.537</td> <td> 0.000</td> <td> 3.67e+04</td> <td> 6.35e+04</td>\n",
       "</tr>\n",
       "<tr>\n",
       "  <th>x1</th>    <td>  220.1585</td> <td> 2900.536</td> <td>    0.076</td> <td> 0.940</td> <td>-5621.821</td> <td> 6062.138</td>\n",
       "</tr>\n",
       "<tr>\n",
       "  <th>x2</th>    <td>    0.8060</td> <td>    0.046</td> <td>   17.606</td> <td> 0.000</td> <td>    0.714</td> <td>    0.898</td>\n",
       "</tr>\n",
       "<tr>\n",
       "  <th>x3</th>    <td>   -0.0270</td> <td>    0.052</td> <td>   -0.523</td> <td> 0.604</td> <td>   -0.131</td> <td>    0.077</td>\n",
       "</tr>\n",
       "<tr>\n",
       "  <th>x4</th>    <td>    0.0270</td> <td>    0.017</td> <td>    1.592</td> <td> 0.118</td> <td>   -0.007</td> <td>    0.061</td>\n",
       "</tr>\n",
       "</table>\n",
       "<table class=\"simpletable\">\n",
       "<tr>\n",
       "  <th>Omnibus:</th>       <td>14.758</td> <th>  Durbin-Watson:     </th> <td>   1.282</td>\n",
       "</tr>\n",
       "<tr>\n",
       "  <th>Prob(Omnibus):</th> <td> 0.001</td> <th>  Jarque-Bera (JB):  </th> <td>  21.172</td>\n",
       "</tr>\n",
       "<tr>\n",
       "  <th>Skew:</th>          <td>-0.948</td> <th>  Prob(JB):          </th> <td>2.53e-05</td>\n",
       "</tr>\n",
       "<tr>\n",
       "  <th>Kurtosis:</th>      <td> 5.563</td> <th>  Cond. No.          </th> <td>1.40e+06</td>\n",
       "</tr>\n",
       "</table>"
      ],
      "text/plain": [
       "<class 'statsmodels.iolib.summary.Summary'>\n",
       "\"\"\"\n",
       "                            OLS Regression Results                            \n",
       "==============================================================================\n",
       "Dep. Variable:                      y   R-squared:                       0.951\n",
       "Model:                            OLS   Adj. R-squared:                  0.946\n",
       "Method:                 Least Squares   F-statistic:                     217.2\n",
       "Date:                Mon, 02 Apr 2018   Prob (F-statistic):           8.49e-29\n",
       "Time:                        02:58:40   Log-Likelihood:                -525.38\n",
       "No. Observations:                  50   AIC:                             1061.\n",
       "Df Residuals:                      45   BIC:                             1070.\n",
       "Df Model:                           4                                         \n",
       "Covariance Type:            nonrobust                                         \n",
       "==============================================================================\n",
       "                 coef    std err          t      P>|t|      [0.025      0.975]\n",
       "------------------------------------------------------------------------------\n",
       "const       5.011e+04   6647.870      7.537      0.000    3.67e+04    6.35e+04\n",
       "x1           220.1585   2900.536      0.076      0.940   -5621.821    6062.138\n",
       "x2             0.8060      0.046     17.606      0.000       0.714       0.898\n",
       "x3            -0.0270      0.052     -0.523      0.604      -0.131       0.077\n",
       "x4             0.0270      0.017      1.592      0.118      -0.007       0.061\n",
       "==============================================================================\n",
       "Omnibus:                       14.758   Durbin-Watson:                   1.282\n",
       "Prob(Omnibus):                  0.001   Jarque-Bera (JB):               21.172\n",
       "Skew:                          -0.948   Prob(JB):                     2.53e-05\n",
       "Kurtosis:                       5.563   Cond. No.                     1.40e+06\n",
       "==============================================================================\n",
       "\n",
       "Warnings:\n",
       "[1] Standard Errors assume that the covariance matrix of the errors is correctly specified.\n",
       "[2] The condition number is large, 1.4e+06. This might indicate that there are\n",
       "strong multicollinearity or other numerical problems.\n",
       "\"\"\""
      ]
     },
     "execution_count": 62,
     "metadata": {},
     "output_type": "execute_result"
    }
   ],
   "source": [
    "X_opt = X[:, [0, 1, 3, 4, 5]]\n",
    "\n",
    "regressor_OLS = sm.OLS(endog = y, exog = X_opt).fit()\n",
    "\n",
    "regressor_OLS.summary()"
   ]
  },
  {
   "cell_type": "code",
   "execution_count": 63,
   "metadata": {
    "ExecuteTime": {
     "end_time": "2018-04-01T21:29:09.387666Z",
     "start_time": "2018-04-01T21:29:09.364627Z"
    }
   },
   "outputs": [
    {
     "data": {
      "text/html": [
       "<table class=\"simpletable\">\n",
       "<caption>OLS Regression Results</caption>\n",
       "<tr>\n",
       "  <th>Dep. Variable:</th>            <td>y</td>        <th>  R-squared:         </th> <td>   0.951</td>\n",
       "</tr>\n",
       "<tr>\n",
       "  <th>Model:</th>                   <td>OLS</td>       <th>  Adj. R-squared:    </th> <td>   0.948</td>\n",
       "</tr>\n",
       "<tr>\n",
       "  <th>Method:</th>             <td>Least Squares</td>  <th>  F-statistic:       </th> <td>   296.0</td>\n",
       "</tr>\n",
       "<tr>\n",
       "  <th>Date:</th>             <td>Mon, 02 Apr 2018</td> <th>  Prob (F-statistic):</th> <td>4.53e-30</td>\n",
       "</tr>\n",
       "<tr>\n",
       "  <th>Time:</th>                 <td>02:59:09</td>     <th>  Log-Likelihood:    </th> <td> -525.39</td>\n",
       "</tr>\n",
       "<tr>\n",
       "  <th>No. Observations:</th>      <td>    50</td>      <th>  AIC:               </th> <td>   1059.</td>\n",
       "</tr>\n",
       "<tr>\n",
       "  <th>Df Residuals:</th>          <td>    46</td>      <th>  BIC:               </th> <td>   1066.</td>\n",
       "</tr>\n",
       "<tr>\n",
       "  <th>Df Model:</th>              <td>     3</td>      <th>                     </th>     <td> </td>   \n",
       "</tr>\n",
       "<tr>\n",
       "  <th>Covariance Type:</th>      <td>nonrobust</td>    <th>                     </th>     <td> </td>   \n",
       "</tr>\n",
       "</table>\n",
       "<table class=\"simpletable\">\n",
       "<tr>\n",
       "    <td></td>       <th>coef</th>     <th>std err</th>      <th>t</th>      <th>P>|t|</th>  <th>[0.025</th>    <th>0.975]</th>  \n",
       "</tr>\n",
       "<tr>\n",
       "  <th>const</th> <td> 5.012e+04</td> <td> 6572.353</td> <td>    7.626</td> <td> 0.000</td> <td> 3.69e+04</td> <td> 6.34e+04</td>\n",
       "</tr>\n",
       "<tr>\n",
       "  <th>x1</th>    <td>    0.8057</td> <td>    0.045</td> <td>   17.846</td> <td> 0.000</td> <td>    0.715</td> <td>    0.897</td>\n",
       "</tr>\n",
       "<tr>\n",
       "  <th>x2</th>    <td>   -0.0268</td> <td>    0.051</td> <td>   -0.526</td> <td> 0.602</td> <td>   -0.130</td> <td>    0.076</td>\n",
       "</tr>\n",
       "<tr>\n",
       "  <th>x3</th>    <td>    0.0272</td> <td>    0.016</td> <td>    1.655</td> <td> 0.105</td> <td>   -0.006</td> <td>    0.060</td>\n",
       "</tr>\n",
       "</table>\n",
       "<table class=\"simpletable\">\n",
       "<tr>\n",
       "  <th>Omnibus:</th>       <td>14.838</td> <th>  Durbin-Watson:     </th> <td>   1.282</td>\n",
       "</tr>\n",
       "<tr>\n",
       "  <th>Prob(Omnibus):</th> <td> 0.001</td> <th>  Jarque-Bera (JB):  </th> <td>  21.442</td>\n",
       "</tr>\n",
       "<tr>\n",
       "  <th>Skew:</th>          <td>-0.949</td> <th>  Prob(JB):          </th> <td>2.21e-05</td>\n",
       "</tr>\n",
       "<tr>\n",
       "  <th>Kurtosis:</th>      <td> 5.586</td> <th>  Cond. No.          </th> <td>1.40e+06</td>\n",
       "</tr>\n",
       "</table>"
      ],
      "text/plain": [
       "<class 'statsmodels.iolib.summary.Summary'>\n",
       "\"\"\"\n",
       "                            OLS Regression Results                            \n",
       "==============================================================================\n",
       "Dep. Variable:                      y   R-squared:                       0.951\n",
       "Model:                            OLS   Adj. R-squared:                  0.948\n",
       "Method:                 Least Squares   F-statistic:                     296.0\n",
       "Date:                Mon, 02 Apr 2018   Prob (F-statistic):           4.53e-30\n",
       "Time:                        02:59:09   Log-Likelihood:                -525.39\n",
       "No. Observations:                  50   AIC:                             1059.\n",
       "Df Residuals:                      46   BIC:                             1066.\n",
       "Df Model:                           3                                         \n",
       "Covariance Type:            nonrobust                                         \n",
       "==============================================================================\n",
       "                 coef    std err          t      P>|t|      [0.025      0.975]\n",
       "------------------------------------------------------------------------------\n",
       "const       5.012e+04   6572.353      7.626      0.000    3.69e+04    6.34e+04\n",
       "x1             0.8057      0.045     17.846      0.000       0.715       0.897\n",
       "x2            -0.0268      0.051     -0.526      0.602      -0.130       0.076\n",
       "x3             0.0272      0.016      1.655      0.105      -0.006       0.060\n",
       "==============================================================================\n",
       "Omnibus:                       14.838   Durbin-Watson:                   1.282\n",
       "Prob(Omnibus):                  0.001   Jarque-Bera (JB):               21.442\n",
       "Skew:                          -0.949   Prob(JB):                     2.21e-05\n",
       "Kurtosis:                       5.586   Cond. No.                     1.40e+06\n",
       "==============================================================================\n",
       "\n",
       "Warnings:\n",
       "[1] Standard Errors assume that the covariance matrix of the errors is correctly specified.\n",
       "[2] The condition number is large, 1.4e+06. This might indicate that there are\n",
       "strong multicollinearity or other numerical problems.\n",
       "\"\"\""
      ]
     },
     "execution_count": 63,
     "metadata": {},
     "output_type": "execute_result"
    }
   ],
   "source": [
    "X_opt = X[:, [0, 3, 4, 5]]\n",
    "\n",
    "regressor_OLS = sm.OLS(endog = y, exog = X_opt).fit()\n",
    "\n",
    "regressor_OLS.summary()"
   ]
  },
  {
   "cell_type": "code",
   "execution_count": 64,
   "metadata": {
    "ExecuteTime": {
     "end_time": "2018-04-01T21:34:05.555649Z",
     "start_time": "2018-04-01T21:34:05.530004Z"
    }
   },
   "outputs": [
    {
     "data": {
      "text/html": [
       "<table class=\"simpletable\">\n",
       "<caption>OLS Regression Results</caption>\n",
       "<tr>\n",
       "  <th>Dep. Variable:</th>            <td>y</td>        <th>  R-squared:         </th> <td>   0.950</td>\n",
       "</tr>\n",
       "<tr>\n",
       "  <th>Model:</th>                   <td>OLS</td>       <th>  Adj. R-squared:    </th> <td>   0.948</td>\n",
       "</tr>\n",
       "<tr>\n",
       "  <th>Method:</th>             <td>Least Squares</td>  <th>  F-statistic:       </th> <td>   450.8</td>\n",
       "</tr>\n",
       "<tr>\n",
       "  <th>Date:</th>             <td>Mon, 02 Apr 2018</td> <th>  Prob (F-statistic):</th> <td>2.16e-31</td>\n",
       "</tr>\n",
       "<tr>\n",
       "  <th>Time:</th>                 <td>03:04:05</td>     <th>  Log-Likelihood:    </th> <td> -525.54</td>\n",
       "</tr>\n",
       "<tr>\n",
       "  <th>No. Observations:</th>      <td>    50</td>      <th>  AIC:               </th> <td>   1057.</td>\n",
       "</tr>\n",
       "<tr>\n",
       "  <th>Df Residuals:</th>          <td>    47</td>      <th>  BIC:               </th> <td>   1063.</td>\n",
       "</tr>\n",
       "<tr>\n",
       "  <th>Df Model:</th>              <td>     2</td>      <th>                     </th>     <td> </td>   \n",
       "</tr>\n",
       "<tr>\n",
       "  <th>Covariance Type:</th>      <td>nonrobust</td>    <th>                     </th>     <td> </td>   \n",
       "</tr>\n",
       "</table>\n",
       "<table class=\"simpletable\">\n",
       "<tr>\n",
       "    <td></td>       <th>coef</th>     <th>std err</th>      <th>t</th>      <th>P>|t|</th>  <th>[0.025</th>    <th>0.975]</th>  \n",
       "</tr>\n",
       "<tr>\n",
       "  <th>const</th> <td> 4.698e+04</td> <td> 2689.933</td> <td>   17.464</td> <td> 0.000</td> <td> 4.16e+04</td> <td> 5.24e+04</td>\n",
       "</tr>\n",
       "<tr>\n",
       "  <th>x1</th>    <td>    0.7966</td> <td>    0.041</td> <td>   19.266</td> <td> 0.000</td> <td>    0.713</td> <td>    0.880</td>\n",
       "</tr>\n",
       "<tr>\n",
       "  <th>x2</th>    <td>    0.0299</td> <td>    0.016</td> <td>    1.927</td> <td> 0.060</td> <td>   -0.001</td> <td>    0.061</td>\n",
       "</tr>\n",
       "</table>\n",
       "<table class=\"simpletable\">\n",
       "<tr>\n",
       "  <th>Omnibus:</th>       <td>14.677</td> <th>  Durbin-Watson:     </th> <td>   1.257</td>\n",
       "</tr>\n",
       "<tr>\n",
       "  <th>Prob(Omnibus):</th> <td> 0.001</td> <th>  Jarque-Bera (JB):  </th> <td>  21.161</td>\n",
       "</tr>\n",
       "<tr>\n",
       "  <th>Skew:</th>          <td>-0.939</td> <th>  Prob(JB):          </th> <td>2.54e-05</td>\n",
       "</tr>\n",
       "<tr>\n",
       "  <th>Kurtosis:</th>      <td> 5.575</td> <th>  Cond. No.          </th> <td>5.32e+05</td>\n",
       "</tr>\n",
       "</table>"
      ],
      "text/plain": [
       "<class 'statsmodels.iolib.summary.Summary'>\n",
       "\"\"\"\n",
       "                            OLS Regression Results                            \n",
       "==============================================================================\n",
       "Dep. Variable:                      y   R-squared:                       0.950\n",
       "Model:                            OLS   Adj. R-squared:                  0.948\n",
       "Method:                 Least Squares   F-statistic:                     450.8\n",
       "Date:                Mon, 02 Apr 2018   Prob (F-statistic):           2.16e-31\n",
       "Time:                        03:04:05   Log-Likelihood:                -525.54\n",
       "No. Observations:                  50   AIC:                             1057.\n",
       "Df Residuals:                      47   BIC:                             1063.\n",
       "Df Model:                           2                                         \n",
       "Covariance Type:            nonrobust                                         \n",
       "==============================================================================\n",
       "                 coef    std err          t      P>|t|      [0.025      0.975]\n",
       "------------------------------------------------------------------------------\n",
       "const       4.698e+04   2689.933     17.464      0.000    4.16e+04    5.24e+04\n",
       "x1             0.7966      0.041     19.266      0.000       0.713       0.880\n",
       "x2             0.0299      0.016      1.927      0.060      -0.001       0.061\n",
       "==============================================================================\n",
       "Omnibus:                       14.677   Durbin-Watson:                   1.257\n",
       "Prob(Omnibus):                  0.001   Jarque-Bera (JB):               21.161\n",
       "Skew:                          -0.939   Prob(JB):                     2.54e-05\n",
       "Kurtosis:                       5.575   Cond. No.                     5.32e+05\n",
       "==============================================================================\n",
       "\n",
       "Warnings:\n",
       "[1] Standard Errors assume that the covariance matrix of the errors is correctly specified.\n",
       "[2] The condition number is large, 5.32e+05. This might indicate that there are\n",
       "strong multicollinearity or other numerical problems.\n",
       "\"\"\""
      ]
     },
     "execution_count": 64,
     "metadata": {},
     "output_type": "execute_result"
    }
   ],
   "source": [
    "X_opt = X[:, [0, 3, 5]]\n",
    "\n",
    "regressor_OLS = sm.OLS(endog = y, exog = X_opt).fit()\n",
    "\n",
    "regressor_OLS.summary()"
   ]
  },
  {
   "cell_type": "code",
   "execution_count": 65,
   "metadata": {
    "ExecuteTime": {
     "end_time": "2018-04-01T21:35:28.927899Z",
     "start_time": "2018-04-01T21:35:28.906205Z"
    }
   },
   "outputs": [
    {
     "data": {
      "text/html": [
       "<table class=\"simpletable\">\n",
       "<caption>OLS Regression Results</caption>\n",
       "<tr>\n",
       "  <th>Dep. Variable:</th>            <td>y</td>        <th>  R-squared:         </th> <td>   0.947</td>\n",
       "</tr>\n",
       "<tr>\n",
       "  <th>Model:</th>                   <td>OLS</td>       <th>  Adj. R-squared:    </th> <td>   0.945</td>\n",
       "</tr>\n",
       "<tr>\n",
       "  <th>Method:</th>             <td>Least Squares</td>  <th>  F-statistic:       </th> <td>   849.8</td>\n",
       "</tr>\n",
       "<tr>\n",
       "  <th>Date:</th>             <td>Mon, 02 Apr 2018</td> <th>  Prob (F-statistic):</th> <td>3.50e-32</td>\n",
       "</tr>\n",
       "<tr>\n",
       "  <th>Time:</th>                 <td>03:05:28</td>     <th>  Log-Likelihood:    </th> <td> -527.44</td>\n",
       "</tr>\n",
       "<tr>\n",
       "  <th>No. Observations:</th>      <td>    50</td>      <th>  AIC:               </th> <td>   1059.</td>\n",
       "</tr>\n",
       "<tr>\n",
       "  <th>Df Residuals:</th>          <td>    48</td>      <th>  BIC:               </th> <td>   1063.</td>\n",
       "</tr>\n",
       "<tr>\n",
       "  <th>Df Model:</th>              <td>     1</td>      <th>                     </th>     <td> </td>   \n",
       "</tr>\n",
       "<tr>\n",
       "  <th>Covariance Type:</th>      <td>nonrobust</td>    <th>                     </th>     <td> </td>   \n",
       "</tr>\n",
       "</table>\n",
       "<table class=\"simpletable\">\n",
       "<tr>\n",
       "    <td></td>       <th>coef</th>     <th>std err</th>      <th>t</th>      <th>P>|t|</th>  <th>[0.025</th>    <th>0.975]</th>  \n",
       "</tr>\n",
       "<tr>\n",
       "  <th>const</th> <td> 4.903e+04</td> <td> 2537.897</td> <td>   19.320</td> <td> 0.000</td> <td> 4.39e+04</td> <td> 5.41e+04</td>\n",
       "</tr>\n",
       "<tr>\n",
       "  <th>x1</th>    <td>    0.8543</td> <td>    0.029</td> <td>   29.151</td> <td> 0.000</td> <td>    0.795</td> <td>    0.913</td>\n",
       "</tr>\n",
       "</table>\n",
       "<table class=\"simpletable\">\n",
       "<tr>\n",
       "  <th>Omnibus:</th>       <td>13.727</td> <th>  Durbin-Watson:     </th> <td>   1.116</td>\n",
       "</tr>\n",
       "<tr>\n",
       "  <th>Prob(Omnibus):</th> <td> 0.001</td> <th>  Jarque-Bera (JB):  </th> <td>  18.536</td>\n",
       "</tr>\n",
       "<tr>\n",
       "  <th>Skew:</th>          <td>-0.911</td> <th>  Prob(JB):          </th> <td>9.44e-05</td>\n",
       "</tr>\n",
       "<tr>\n",
       "  <th>Kurtosis:</th>      <td> 5.361</td> <th>  Cond. No.          </th> <td>1.65e+05</td>\n",
       "</tr>\n",
       "</table>"
      ],
      "text/plain": [
       "<class 'statsmodels.iolib.summary.Summary'>\n",
       "\"\"\"\n",
       "                            OLS Regression Results                            \n",
       "==============================================================================\n",
       "Dep. Variable:                      y   R-squared:                       0.947\n",
       "Model:                            OLS   Adj. R-squared:                  0.945\n",
       "Method:                 Least Squares   F-statistic:                     849.8\n",
       "Date:                Mon, 02 Apr 2018   Prob (F-statistic):           3.50e-32\n",
       "Time:                        03:05:28   Log-Likelihood:                -527.44\n",
       "No. Observations:                  50   AIC:                             1059.\n",
       "Df Residuals:                      48   BIC:                             1063.\n",
       "Df Model:                           1                                         \n",
       "Covariance Type:            nonrobust                                         \n",
       "==============================================================================\n",
       "                 coef    std err          t      P>|t|      [0.025      0.975]\n",
       "------------------------------------------------------------------------------\n",
       "const       4.903e+04   2537.897     19.320      0.000    4.39e+04    5.41e+04\n",
       "x1             0.8543      0.029     29.151      0.000       0.795       0.913\n",
       "==============================================================================\n",
       "Omnibus:                       13.727   Durbin-Watson:                   1.116\n",
       "Prob(Omnibus):                  0.001   Jarque-Bera (JB):               18.536\n",
       "Skew:                          -0.911   Prob(JB):                     9.44e-05\n",
       "Kurtosis:                       5.361   Cond. No.                     1.65e+05\n",
       "==============================================================================\n",
       "\n",
       "Warnings:\n",
       "[1] Standard Errors assume that the covariance matrix of the errors is correctly specified.\n",
       "[2] The condition number is large, 1.65e+05. This might indicate that there are\n",
       "strong multicollinearity or other numerical problems.\n",
       "\"\"\""
      ]
     },
     "execution_count": 65,
     "metadata": {},
     "output_type": "execute_result"
    }
   ],
   "source": [
    "X_opt = X[:, [0, 3]]\n",
    "\n",
    "regressor_OLS = sm.OLS(endog = y, exog = X_opt).fit()\n",
    "\n",
    "regressor_OLS.summary()"
   ]
  }
 ],
 "metadata": {
  "kernelspec": {
   "display_name": "Python 3",
   "language": "python",
   "name": "python3"
  },
  "language_info": {
   "codemirror_mode": {
    "name": "ipython",
    "version": 3
   },
   "file_extension": ".py",
   "mimetype": "text/x-python",
   "name": "python",
   "nbconvert_exporter": "python",
   "pygments_lexer": "ipython3",
   "version": "3.6.6"
  },
  "latex_envs": {
   "LaTeX_envs_menu_present": true,
   "autoclose": true,
   "autocomplete": false,
   "bibliofile": "biblio.bib",
   "cite_by": "apalike",
   "current_citInitial": 1,
   "eqLabelWithNumbers": true,
   "eqNumInitial": 1,
   "hotkeys": {
    "equation": "Ctrl-E",
    "itemize": "Ctrl-I"
   },
   "labels_anchors": false,
   "latex_user_defs": false,
   "report_style_numbering": false,
   "user_envs_cfg": false
  },
  "toc": {
   "nav_menu": {
    "height": "674px",
    "width": "498px"
   },
   "number_sections": false,
   "sideBar": true,
   "skip_h1_title": false,
   "title_cell": "Table of Contents",
   "title_sidebar": "",
   "toc_cell": true,
   "toc_position": {
    "height": "calc(100% - 180px)",
    "left": "10px",
    "top": "150px",
    "width": "165px"
   },
   "toc_section_display": true,
   "toc_window_display": false
  },
  "varInspector": {
   "cols": {
    "lenName": 16,
    "lenType": 16,
    "lenVar": 40
   },
   "kernels_config": {
    "python": {
     "delete_cmd_postfix": "",
     "delete_cmd_prefix": "del ",
     "library": "var_list.py",
     "varRefreshCmd": "print(var_dic_list())"
    },
    "r": {
     "delete_cmd_postfix": ") ",
     "delete_cmd_prefix": "rm(",
     "library": "var_list.r",
     "varRefreshCmd": "cat(var_dic_list()) "
    }
   },
   "position": {
    "height": "662px",
    "left": "1071px",
    "right": "20px",
    "top": "120px",
    "width": "353px"
   },
   "types_to_exclude": [
    "module",
    "function",
    "builtin_function_or_method",
    "instance",
    "_Feature"
   ],
   "window_display": false
  }
 },
 "nbformat": 4,
 "nbformat_minor": 2
}
